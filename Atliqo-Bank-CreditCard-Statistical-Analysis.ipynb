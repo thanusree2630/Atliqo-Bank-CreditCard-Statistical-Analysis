{
 "cells": [
  {
   "cell_type": "markdown",
   "id": "fa088cb3-38a8-46e6-91d7-90e6d1c1a15f",
   "metadata": {},
   "source": [
    "<h2 align=\"center\" style=\"color:purple\">Phase 1: AtliQ0 Bank Credit Card Project</h2>"
   ]
  },
  {
   "cell_type": "markdown",
   "id": "1d326b80-fe61-426a-ad09-9bafd0738b21",
   "metadata": {},
   "source": [
    "<h4 style=\"color:blue\">In the Phase 1 of the project, find Target Market</h4>"
   ]
  },
  {
   "cell_type": "markdown",
   "id": "e2b681c1-03a6-4ded-99fb-ba83e9ff259f",
   "metadata": {},
   "source": [
    "### Business Problem\n",
    "Objective: AtliQo Bank plans to launch a new credit card and needs to identify the most suitable customer segment based on transaction patterns and credit profiles.\n",
    "\n",
    "Goal: Use customer, transaction, and credit profile data to identify a high-potential target group for a pilot credit card campaign."
   ]
  },
  {
   "cell_type": "code",
   "execution_count": 2,
   "id": "5f6dd245-020a-474d-ab93-dcc3d155d716",
   "metadata": {},
   "outputs": [
    {
     "name": "stdout",
     "output_type": "stream",
     "text": [
      "SQLAlchemy version: 2.0.40\n",
      "Pandas version: 2.2.3\n"
     ]
    }
   ],
   "source": [
    "#import necessary library\n",
    "\n",
    "import sqlalchemy\n",
    "import pandas as pd\n",
    "import numpy as np\n",
    "import seaborn as sns\n",
    "import matplotlib.pyplot as plt\n",
    "from scipy import stats as st\n",
    "import statsmodels.stats.api as sms\n",
    "from urllib.parse import quote_plus\n",
    "import statsmodels.api as sm\n",
    "import os\n",
    "import warnings\n",
    "warnings.filterwarnings(\"ignore\")\n",
    "\n",
    "import mysql.connector\n",
    "from sqlalchemy import create_engine\n",
    "from dotenv import load_dotenv\n",
    "from urllib.parse import quote_plus\n",
    "\n",
    "\n",
    "#check the versions\n",
    "\n",
    "print(\"SQLAlchemy version:\", sqlalchemy.__version__)\n",
    "print(\"Pandas version:\", pd.__version__)"
   ]
  },
  {
   "cell_type": "markdown",
   "id": "e8d2778d-2543-4bac-bbff-d2fcb9b37fc0",
   "metadata": {},
   "source": [
    "<h4 style=\"color:blue\">Read the data from the database</h4>"
   ]
  },
  {
   "cell_type": "code",
   "execution_count": 3,
   "id": "a067102f-1a78-4b4e-b0b6-8ca304fa56e4",
   "metadata": {},
   "outputs": [],
   "source": [
    "# Load the env file\n",
    "load_dotenv(dotenv_path='config.env')\n",
    "\n",
    "# Read the credentials from .env file\n",
    "user = os.getenv(\"MYSQL_USER\")\n",
    "host = os.getenv(\"MYSQL_HOST\")\n",
    "port = os.getenv(\"MYSQL_PORT\")\n",
    "database = os.getenv(\"MYSQL_DATABASE\")\n",
    "\n",
    "# Create SQLAlchemy engine\n",
    "password = quote_plus(os.getenv(\"MYSQL_PASSWORD\"))\n",
    "engine = create_engine(f\"mysql+mysqlconnector://{user}:{password}@{host}:{port}/{database}\")"
   ]
  },
  {
   "cell_type": "code",
   "execution_count": 4,
   "id": "73823b3a-1362-40e7-8e9f-99c675b6565f",
   "metadata": {},
   "outputs": [
    {
     "data": {
      "text/html": [
       "<div>\n",
       "<style scoped>\n",
       "    .dataframe tbody tr th:only-of-type {\n",
       "        vertical-align: middle;\n",
       "    }\n",
       "\n",
       "    .dataframe tbody tr th {\n",
       "        vertical-align: top;\n",
       "    }\n",
       "\n",
       "    .dataframe thead th {\n",
       "        text-align: right;\n",
       "    }\n",
       "</style>\n",
       "<table border=\"1\" class=\"dataframe\">\n",
       "  <thead>\n",
       "    <tr style=\"text-align: right;\">\n",
       "      <th></th>\n",
       "      <th>cust_id</th>\n",
       "      <th>credit_score</th>\n",
       "      <th>credit_utilisation</th>\n",
       "      <th>outstanding_debt</th>\n",
       "      <th>credit_inquiries_last_6_months</th>\n",
       "      <th>credit_limit</th>\n",
       "    </tr>\n",
       "  </thead>\n",
       "  <tbody>\n",
       "    <tr>\n",
       "      <th>0</th>\n",
       "      <td>1</td>\n",
       "      <td>749</td>\n",
       "      <td>0.585171</td>\n",
       "      <td>19571.0</td>\n",
       "      <td>0.0</td>\n",
       "      <td>40000.0</td>\n",
       "    </tr>\n",
       "    <tr>\n",
       "      <th>1</th>\n",
       "      <td>2</td>\n",
       "      <td>587</td>\n",
       "      <td>0.107928</td>\n",
       "      <td>161644.0</td>\n",
       "      <td>2.0</td>\n",
       "      <td>1250.0</td>\n",
       "    </tr>\n",
       "    <tr>\n",
       "      <th>2</th>\n",
       "      <td>3</td>\n",
       "      <td>544</td>\n",
       "      <td>0.854807</td>\n",
       "      <td>513.0</td>\n",
       "      <td>4.0</td>\n",
       "      <td>1000.0</td>\n",
       "    </tr>\n",
       "    <tr>\n",
       "      <th>3</th>\n",
       "      <td>4</td>\n",
       "      <td>504</td>\n",
       "      <td>0.336938</td>\n",
       "      <td>224.0</td>\n",
       "      <td>2.0</td>\n",
       "      <td>1000.0</td>\n",
       "    </tr>\n",
       "    <tr>\n",
       "      <th>4</th>\n",
       "      <td>5</td>\n",
       "      <td>708</td>\n",
       "      <td>0.586151</td>\n",
       "      <td>18090.0</td>\n",
       "      <td>2.0</td>\n",
       "      <td>40000.0</td>\n",
       "    </tr>\n",
       "  </tbody>\n",
       "</table>\n",
       "</div>"
      ],
      "text/plain": [
       "   cust_id  credit_score  credit_utilisation  outstanding_debt  \\\n",
       "0        1           749            0.585171           19571.0   \n",
       "1        2           587            0.107928          161644.0   \n",
       "2        3           544            0.854807             513.0   \n",
       "3        4           504            0.336938             224.0   \n",
       "4        5           708            0.586151           18090.0   \n",
       "\n",
       "   credit_inquiries_last_6_months  credit_limit  \n",
       "0                             0.0       40000.0  \n",
       "1                             2.0        1250.0  \n",
       "2                             4.0        1000.0  \n",
       "3                             2.0        1000.0  \n",
       "4                             2.0       40000.0  "
      ]
     },
     "execution_count": 4,
     "metadata": {},
     "output_type": "execute_result"
    }
   ],
   "source": [
    "df_cp = pd.read_sql('select * from credit_profiles',con=engine)\n",
    "df_cp.head()"
   ]
  },
  {
   "cell_type": "code",
   "execution_count": 5,
   "id": "0fd1993f-8daa-4830-9649-29bb2105ae7d",
   "metadata": {},
   "outputs": [
    {
     "data": {
      "text/html": [
       "<div>\n",
       "<style scoped>\n",
       "    .dataframe tbody tr th:only-of-type {\n",
       "        vertical-align: middle;\n",
       "    }\n",
       "\n",
       "    .dataframe tbody tr th {\n",
       "        vertical-align: top;\n",
       "    }\n",
       "\n",
       "    .dataframe thead th {\n",
       "        text-align: right;\n",
       "    }\n",
       "</style>\n",
       "<table border=\"1\" class=\"dataframe\">\n",
       "  <thead>\n",
       "    <tr style=\"text-align: right;\">\n",
       "      <th></th>\n",
       "      <th>cust_id</th>\n",
       "      <th>name</th>\n",
       "      <th>gender</th>\n",
       "      <th>age</th>\n",
       "      <th>location</th>\n",
       "      <th>occupation</th>\n",
       "      <th>annual_income</th>\n",
       "      <th>marital_status</th>\n",
       "    </tr>\n",
       "  </thead>\n",
       "  <tbody>\n",
       "    <tr>\n",
       "      <th>0</th>\n",
       "      <td>1</td>\n",
       "      <td>Manya Acharya</td>\n",
       "      <td>Female</td>\n",
       "      <td>2</td>\n",
       "      <td>City</td>\n",
       "      <td>Business Owner</td>\n",
       "      <td>358211</td>\n",
       "      <td>Married</td>\n",
       "    </tr>\n",
       "    <tr>\n",
       "      <th>1</th>\n",
       "      <td>2</td>\n",
       "      <td>Anjali Pandey</td>\n",
       "      <td>Female</td>\n",
       "      <td>47</td>\n",
       "      <td>City</td>\n",
       "      <td>Consultant</td>\n",
       "      <td>65172</td>\n",
       "      <td>Single</td>\n",
       "    </tr>\n",
       "    <tr>\n",
       "      <th>2</th>\n",
       "      <td>3</td>\n",
       "      <td>Aaryan Chauhan</td>\n",
       "      <td>Male</td>\n",
       "      <td>21</td>\n",
       "      <td>City</td>\n",
       "      <td>Freelancer</td>\n",
       "      <td>22378</td>\n",
       "      <td>Married</td>\n",
       "    </tr>\n",
       "    <tr>\n",
       "      <th>3</th>\n",
       "      <td>4</td>\n",
       "      <td>Rudra Bali</td>\n",
       "      <td>Male</td>\n",
       "      <td>24</td>\n",
       "      <td>Rural</td>\n",
       "      <td>Freelancer</td>\n",
       "      <td>33563</td>\n",
       "      <td>Married</td>\n",
       "    </tr>\n",
       "    <tr>\n",
       "      <th>4</th>\n",
       "      <td>5</td>\n",
       "      <td>Advait Malik</td>\n",
       "      <td>Male</td>\n",
       "      <td>48</td>\n",
       "      <td>City</td>\n",
       "      <td>Consultant</td>\n",
       "      <td>39406</td>\n",
       "      <td>Married</td>\n",
       "    </tr>\n",
       "  </tbody>\n",
       "</table>\n",
       "</div>"
      ],
      "text/plain": [
       "   cust_id            name  gender  age location      occupation  \\\n",
       "0        1   Manya Acharya  Female    2     City  Business Owner   \n",
       "1        2   Anjali Pandey  Female   47     City      Consultant   \n",
       "2        3  Aaryan Chauhan    Male   21     City      Freelancer   \n",
       "3        4      Rudra Bali    Male   24    Rural      Freelancer   \n",
       "4        5    Advait Malik    Male   48     City      Consultant   \n",
       "\n",
       "   annual_income marital_status  \n",
       "0         358211        Married  \n",
       "1          65172         Single  \n",
       "2          22378        Married  \n",
       "3          33563        Married  \n",
       "4          39406        Married  "
      ]
     },
     "execution_count": 5,
     "metadata": {},
     "output_type": "execute_result"
    }
   ],
   "source": [
    "df_cust = pd.read_sql('select * from customers',con=engine)\n",
    "df_cust.head()"
   ]
  },
  {
   "cell_type": "code",
   "execution_count": 6,
   "id": "b3fb77b9-15dc-4f21-a6bc-96cfdd178efe",
   "metadata": {},
   "outputs": [
    {
     "data": {
      "text/html": [
       "<div>\n",
       "<style scoped>\n",
       "    .dataframe tbody tr th:only-of-type {\n",
       "        vertical-align: middle;\n",
       "    }\n",
       "\n",
       "    .dataframe tbody tr th {\n",
       "        vertical-align: top;\n",
       "    }\n",
       "\n",
       "    .dataframe thead th {\n",
       "        text-align: right;\n",
       "    }\n",
       "</style>\n",
       "<table border=\"1\" class=\"dataframe\">\n",
       "  <thead>\n",
       "    <tr style=\"text-align: right;\">\n",
       "      <th></th>\n",
       "      <th>tran_id</th>\n",
       "      <th>cust_id</th>\n",
       "      <th>tran_date</th>\n",
       "      <th>tran_amount</th>\n",
       "      <th>platform</th>\n",
       "      <th>product_category</th>\n",
       "      <th>payment_type</th>\n",
       "    </tr>\n",
       "  </thead>\n",
       "  <tbody>\n",
       "    <tr>\n",
       "      <th>0</th>\n",
       "      <td>1</td>\n",
       "      <td>705</td>\n",
       "      <td>2023-01-01</td>\n",
       "      <td>63</td>\n",
       "      <td>Flipkart</td>\n",
       "      <td>Electronics</td>\n",
       "      <td>Phonepe</td>\n",
       "    </tr>\n",
       "    <tr>\n",
       "      <th>1</th>\n",
       "      <td>2</td>\n",
       "      <td>385</td>\n",
       "      <td>2023-01-01</td>\n",
       "      <td>99</td>\n",
       "      <td>Alibaba</td>\n",
       "      <td>Fashion &amp; Apparel</td>\n",
       "      <td>Credit Card</td>\n",
       "    </tr>\n",
       "    <tr>\n",
       "      <th>2</th>\n",
       "      <td>3</td>\n",
       "      <td>924</td>\n",
       "      <td>2023-01-01</td>\n",
       "      <td>471</td>\n",
       "      <td>Shopify</td>\n",
       "      <td>Sports</td>\n",
       "      <td>Phonepe</td>\n",
       "    </tr>\n",
       "    <tr>\n",
       "      <th>3</th>\n",
       "      <td>4</td>\n",
       "      <td>797</td>\n",
       "      <td>2023-01-01</td>\n",
       "      <td>33</td>\n",
       "      <td>Shopify</td>\n",
       "      <td>Fashion &amp; Apparel</td>\n",
       "      <td>Gpay</td>\n",
       "    </tr>\n",
       "    <tr>\n",
       "      <th>4</th>\n",
       "      <td>5</td>\n",
       "      <td>482</td>\n",
       "      <td>2023-01-01</td>\n",
       "      <td>68</td>\n",
       "      <td>Amazon</td>\n",
       "      <td>Fashion &amp; Apparel</td>\n",
       "      <td>Net Banking</td>\n",
       "    </tr>\n",
       "  </tbody>\n",
       "</table>\n",
       "</div>"
      ],
      "text/plain": [
       "   tran_id  cust_id   tran_date  tran_amount  platform   product_category  \\\n",
       "0        1      705  2023-01-01           63  Flipkart        Electronics   \n",
       "1        2      385  2023-01-01           99   Alibaba  Fashion & Apparel   \n",
       "2        3      924  2023-01-01          471   Shopify             Sports   \n",
       "3        4      797  2023-01-01           33   Shopify  Fashion & Apparel   \n",
       "4        5      482  2023-01-01           68    Amazon  Fashion & Apparel   \n",
       "\n",
       "  payment_type  \n",
       "0      Phonepe  \n",
       "1  Credit Card  \n",
       "2      Phonepe  \n",
       "3         Gpay  \n",
       "4  Net Banking  "
      ]
     },
     "execution_count": 6,
     "metadata": {},
     "output_type": "execute_result"
    }
   ],
   "source": [
    "df_trans = pd.read_sql('select * from transactions',con=engine)\n",
    "df_trans.head()"
   ]
  },
  {
   "cell_type": "markdown",
   "id": "ad209b9a-aec4-4e01-a774-4827963f3bab",
   "metadata": {},
   "source": [
    "<h4 style=\"color:blue\">Explore the customer table</h4>"
   ]
  },
  {
   "cell_type": "code",
   "execution_count": 7,
   "id": "bb927eb3-a029-417d-b655-121a3a1f799e",
   "metadata": {},
   "outputs": [
    {
     "data": {
      "text/plain": [
       "Index(['cust_id', 'name', 'gender', 'age', 'location', 'occupation',\n",
       "       'annual_income', 'marital_status'],\n",
       "      dtype='object')"
      ]
     },
     "execution_count": 7,
     "metadata": {},
     "output_type": "execute_result"
    }
   ],
   "source": [
    "# get the column names from customer table. \n",
    "\n",
    "df_cust.columns"
   ]
  },
  {
   "cell_type": "markdown",
   "id": "3f790dd2-2b4b-4a62-9e11-26a0a4a0eb41",
   "metadata": {},
   "source": [
    "### Dataset Information:\n",
    "- cust_id: A unique identifier assigned to each customer\n",
    "- name: Full name of the customer\n",
    "- gender: Gender identity of the customer (Male or Female)\n",
    "- age: Age of the customer, expressed in completed years\n",
    "- location: Geographic location where the customer resides (categorized as City or Rural)\n",
    "- occupation: Primary profession or employment type (e.g., Business Owner, Consultant, Freelancer)\n",
    "- annual_income: Reported yearly income of the customer (in standard currency units)\n",
    "- marital_status: Current marital status (Married or Single)"
   ]
  },
  {
   "cell_type": "code",
   "execution_count": 8,
   "id": "afd6e382-b875-47f5-9eda-aeecbcb9e43c",
   "metadata": {},
   "outputs": [
    {
     "data": {
      "text/html": [
       "<div>\n",
       "<style scoped>\n",
       "    .dataframe tbody tr th:only-of-type {\n",
       "        vertical-align: middle;\n",
       "    }\n",
       "\n",
       "    .dataframe tbody tr th {\n",
       "        vertical-align: top;\n",
       "    }\n",
       "\n",
       "    .dataframe thead th {\n",
       "        text-align: right;\n",
       "    }\n",
       "</style>\n",
       "<table border=\"1\" class=\"dataframe\">\n",
       "  <thead>\n",
       "    <tr style=\"text-align: right;\">\n",
       "      <th></th>\n",
       "      <th>cust_id</th>\n",
       "      <th>age</th>\n",
       "      <th>annual_income</th>\n",
       "    </tr>\n",
       "  </thead>\n",
       "  <tbody>\n",
       "    <tr>\n",
       "      <th>count</th>\n",
       "      <td>1000.000000</td>\n",
       "      <td>1000.000000</td>\n",
       "      <td>1000.000000</td>\n",
       "    </tr>\n",
       "    <tr>\n",
       "      <th>mean</th>\n",
       "      <td>500.500000</td>\n",
       "      <td>36.405000</td>\n",
       "      <td>132439.799000</td>\n",
       "    </tr>\n",
       "    <tr>\n",
       "      <th>std</th>\n",
       "      <td>288.819436</td>\n",
       "      <td>15.666155</td>\n",
       "      <td>113706.313793</td>\n",
       "    </tr>\n",
       "    <tr>\n",
       "      <th>min</th>\n",
       "      <td>1.000000</td>\n",
       "      <td>1.000000</td>\n",
       "      <td>0.000000</td>\n",
       "    </tr>\n",
       "    <tr>\n",
       "      <th>25%</th>\n",
       "      <td>250.750000</td>\n",
       "      <td>26.000000</td>\n",
       "      <td>42229.750000</td>\n",
       "    </tr>\n",
       "    <tr>\n",
       "      <th>50%</th>\n",
       "      <td>500.500000</td>\n",
       "      <td>32.000000</td>\n",
       "      <td>107275.000000</td>\n",
       "    </tr>\n",
       "    <tr>\n",
       "      <th>75%</th>\n",
       "      <td>750.250000</td>\n",
       "      <td>46.000000</td>\n",
       "      <td>189687.500000</td>\n",
       "    </tr>\n",
       "    <tr>\n",
       "      <th>max</th>\n",
       "      <td>1000.000000</td>\n",
       "      <td>135.000000</td>\n",
       "      <td>449346.000000</td>\n",
       "    </tr>\n",
       "  </tbody>\n",
       "</table>\n",
       "</div>"
      ],
      "text/plain": [
       "           cust_id          age  annual_income\n",
       "count  1000.000000  1000.000000    1000.000000\n",
       "mean    500.500000    36.405000  132439.799000\n",
       "std     288.819436    15.666155  113706.313793\n",
       "min       1.000000     1.000000       0.000000\n",
       "25%     250.750000    26.000000   42229.750000\n",
       "50%     500.500000    32.000000  107275.000000\n",
       "75%     750.250000    46.000000  189687.500000\n",
       "max    1000.000000   135.000000  449346.000000"
      ]
     },
     "execution_count": 8,
     "metadata": {},
     "output_type": "execute_result"
    }
   ],
   "source": [
    "df_cust.describe()"
   ]
  },
  {
   "cell_type": "code",
   "execution_count": 9,
   "id": "3299f93a-1bb8-4ce9-b666-b16408470bc4",
   "metadata": {},
   "outputs": [
    {
     "data": {
      "text/plain": [
       "cust_id           0\n",
       "name              0\n",
       "gender            0\n",
       "age               0\n",
       "location          0\n",
       "occupation        0\n",
       "annual_income     0\n",
       "marital_status    0\n",
       "dtype: int64"
      ]
     },
     "execution_count": 9,
     "metadata": {},
     "output_type": "execute_result"
    }
   ],
   "source": [
    "df_cust.isnull().sum()"
   ]
  },
  {
   "cell_type": "code",
   "execution_count": 10,
   "id": "ef0a6569-d266-4fbd-bcfa-68155211a375",
   "metadata": {},
   "outputs": [
    {
     "data": {
      "text/plain": [
       "Text(0.5, 1.0, 'Annual Income of customers')"
      ]
     },
     "execution_count": 10,
     "metadata": {},
     "output_type": "execute_result"
    },
    {
     "data": {
      "image/png": "[encoded data removed]",
      "text/plain": [
       "<Figure size 640x480 with 1 Axes>"
      ]
     },
     "metadata": {},
     "output_type": "display_data"
    }
   ],
   "source": [
    "sns.histplot(df_cust['annual_income'],color='green',label='data')\n",
    "plt.title('Annual Income of customers')"
   ]
  },
  {
   "cell_type": "code",
   "execution_count": 11,
   "id": "6c59e919-94a7-4119-b4a8-118d8fc80fd7",
   "metadata": {},
   "outputs": [
    {
     "data": {
      "text/html": [
       "<div>\n",
       "<style scoped>\n",
       "    .dataframe tbody tr th:only-of-type {\n",
       "        vertical-align: middle;\n",
       "    }\n",
       "\n",
       "    .dataframe tbody tr th {\n",
       "        vertical-align: top;\n",
       "    }\n",
       "\n",
       "    .dataframe thead th {\n",
       "        text-align: right;\n",
       "    }\n",
       "</style>\n",
       "<table border=\"1\" class=\"dataframe\">\n",
       "  <thead>\n",
       "    <tr style=\"text-align: right;\">\n",
       "      <th></th>\n",
       "      <th>cust_id</th>\n",
       "      <th>name</th>\n",
       "      <th>gender</th>\n",
       "      <th>age</th>\n",
       "      <th>location</th>\n",
       "      <th>occupation</th>\n",
       "      <th>annual_income</th>\n",
       "      <th>marital_status</th>\n",
       "    </tr>\n",
       "  </thead>\n",
       "  <tbody>\n",
       "    <tr>\n",
       "      <th>14</th>\n",
       "      <td>15</td>\n",
       "      <td>Sanjana Malik</td>\n",
       "      <td>Female</td>\n",
       "      <td>25</td>\n",
       "      <td>Rural</td>\n",
       "      <td>Artist</td>\n",
       "      <td>0</td>\n",
       "      <td>Married</td>\n",
       "    </tr>\n",
       "    <tr>\n",
       "      <th>22</th>\n",
       "      <td>23</td>\n",
       "      <td>Ishan Patel</td>\n",
       "      <td>Male</td>\n",
       "      <td>19</td>\n",
       "      <td>City</td>\n",
       "      <td>Freelancer</td>\n",
       "      <td>36863</td>\n",
       "      <td>Married</td>\n",
       "    </tr>\n",
       "    <tr>\n",
       "      <th>82</th>\n",
       "      <td>83</td>\n",
       "      <td>Reyansh Mukherjee</td>\n",
       "      <td>Male</td>\n",
       "      <td>27</td>\n",
       "      <td>City</td>\n",
       "      <td>Freelancer</td>\n",
       "      <td>0</td>\n",
       "      <td>Single</td>\n",
       "    </tr>\n",
       "  </tbody>\n",
       "</table>\n",
       "</div>"
      ],
      "text/plain": [
       "    cust_id               name  gender  age location  occupation  \\\n",
       "14       15      Sanjana Malik  Female   25    Rural      Artist   \n",
       "22       23        Ishan Patel    Male   19     City  Freelancer   \n",
       "82       83  Reyansh Mukherjee    Male   27     City  Freelancer   \n",
       "\n",
       "    annual_income marital_status  \n",
       "14              0        Married  \n",
       "22          36863        Married  \n",
       "82              0         Single  "
      ]
     },
     "execution_count": 11,
     "metadata": {},
     "output_type": "execute_result"
    }
   ],
   "source": [
    "df_cust.iloc[[14,22,82]]"
   ]
  },
  {
   "cell_type": "code",
   "execution_count": 12,
   "id": "99fe1989-9537-4ad9-a577-5699c83450c6",
   "metadata": {},
   "outputs": [
    {
     "data": {
      "text/plain": [
       "60"
      ]
     },
     "execution_count": 12,
     "metadata": {},
     "output_type": "execute_result"
    }
   ],
   "source": [
    "int((df_cust.annual_income < 100).sum())"
   ]
  },
  {
   "cell_type": "code",
   "execution_count": 13,
   "id": "8dcdad2c-65c7-4930-b1cf-ad62c9ff9bc6",
   "metadata": {},
   "outputs": [
    {
     "data": {
      "text/plain": [
       "occupation\n",
       "Accountant              65265.0\n",
       "Artist                  44915.0\n",
       "Business Owner         254881.0\n",
       "Consultant              51175.0\n",
       "Data Scientist         127889.0\n",
       "Freelancer              45189.5\n",
       "Fullstack Developer     74457.0\n",
       "Name: annual_income, dtype: float64"
      ]
     },
     "execution_count": 13,
     "metadata": {},
     "output_type": "execute_result"
    }
   ],
   "source": [
    "occ_wise_median = df_cust.groupby('occupation')['annual_income'].median()\n",
    "occ_wise_median"
   ]
  },
  {
   "cell_type": "code",
   "execution_count": 14,
   "id": "053b2687-251b-48f1-b301-7eed4da75b5e",
   "metadata": {},
   "outputs": [],
   "source": [
    "df_cust['annual_income'] = df_cust.apply(\n",
    "    lambda row: occ_wise_median[row['occupation']] if row['annual_income'] < 100 else row['annual_income'],\n",
    "    axis=1\n",
    ")"
   ]
  },
  {
   "cell_type": "code",
   "execution_count": 15,
   "id": "e0253530-5f85-4b29-a01a-2a2f9fd580be",
   "metadata": {},
   "outputs": [
    {
     "data": {
      "text/plain": [
       "occupation\n",
       "Accountant              64123.562500\n",
       "Artist                  45239.842105\n",
       "Business Owner         268119.833910\n",
       "Consultant              59927.257732\n",
       "Data Scientist         136208.603261\n",
       "Freelancer              76293.089912\n",
       "Fullstack Developer     78618.385135\n",
       "Name: annual_income, dtype: float64"
      ]
     },
     "execution_count": 15,
     "metadata": {},
     "output_type": "execute_result"
    }
   ],
   "source": [
    "avg_income_per_occupation = df_cust.groupby('occupation')['annual_income'].mean()\n",
    "avg_income_per_occupation"
   ]
  },
  {
   "cell_type": "code",
   "execution_count": 16,
   "id": "3e6ee9e7-e936-4a9c-b050-c9afff100ca6",
   "metadata": {},
   "outputs": [
    {
     "data": {
      "image/png": "[encoded data removed]",
      "text/plain": [
       "<Figure size 640x480 with 1 Axes>"
      ]
     },
     "metadata": {},
     "output_type": "display_data"
    }
   ],
   "source": [
    "sns.barplot(x=avg_income_per_occupation.index,y=avg_income_per_occupation.values,palette='tab10')\n",
    "plt.title('Average Income per occupation')\n",
    "plt.xticks(rotation=45)\n",
    "plt.show()"
   ]
  },
  {
   "cell_type": "markdown",
   "id": "82f4b724-3cca-45e6-aa62-f2dd8e45afd5",
   "metadata": {},
   "source": [
    "#### Insights:\n",
    "- Business owners earn significantly more than individuals in other occupations, underscoring their dominant financial standing within the customer base.\n",
    "- Data scientists also report a high average income, likely reflecting the growing market demand and specialized skillset associated with the role.\n",
    "- Occupations such as fullstack developers, freelancers, consultants, and accountants fall in the middle income range, while artists represent the lowest average earners in the dataset."
   ]
  },
  {
   "cell_type": "code",
   "execution_count": 17,
   "id": "3e5ca7f2-c1a1-4db0-84c4-22afbc601a95",
   "metadata": {},
   "outputs": [
    {
     "data": {
      "image/png": "[encoded data removed]",
      "text/plain": [
       "<Figure size 1400x800 with 4 Axes>"
      ]
     },
     "metadata": {},
     "output_type": "display_data"
    }
   ],
   "source": [
    "# Create a bar plots to visualize average annual income across each categorical variable (gender, location, occupation, marital status)\n",
    "\n",
    "categorical_columns = ['gender', 'location', 'occupation', 'marital_status']\n",
    "fig, axes = plt.subplots(2, 2, figsize=(14, 8))\n",
    "axes = axes.flatten()\n",
    "\n",
    "for i, col in enumerate(categorical_columns):\n",
    "    ax = axes[i]\n",
    "    avg_income_per_group = df_cust.groupby(col)['annual_income'].mean().sort_values()\n",
    "\n",
    "    sns.barplot(\n",
    "        x=avg_income_per_group.index,\n",
    "        y=avg_income_per_group.values,\n",
    "        hue=avg_income_per_group.index,\n",
    "        palette='Set2',\n",
    "        legend=False,\n",
    "        ax=ax\n",
    "    )\n",
    "\n",
    "    ax.set_title(f'Average Income by {col.capitalize()}')\n",
    "    ax.set_xlabel(col.capitalize())\n",
    "    ax.set_ylabel('Average Income ($)')\n",
    "    ax.tick_params(axis='x', rotation=45)\n",
    "\n",
    "plt.tight_layout()\n",
    "plt.show()"
   ]
  },
  {
   "cell_type": "markdown",
   "id": "28b64462-0149-470e-a257-4a656603c816",
   "metadata": {},
   "source": [
    "#### Insights from Categorical Analysis of Average Annual Income\n",
    "- Gender: Males have a slightly higher average income than females.\n",
    "\n",
    "- Location: Customers living in city and suburban areas earn noticeably more than those in rural regions.\n",
    "\n",
    "- Occupation: Business Owners lead significantly in average income, followed by Data Scientists.\n",
    "- Occupations such as fullstack developers, freelancers, consultants, and accountants fall in the middle income range, while artists represent the lowest average earners in the dataset.\n",
    "\n",
    "- Marital Status: Married and single customers have similar income levels, suggesting marital status has little to no impact on average earnings in this dataset."
   ]
  },
  {
   "cell_type": "markdown",
   "id": "d74a1c10-3f4f-4ca8-8d70-e2c4568af75b",
   "metadata": {},
   "source": [
    "### Analyze Age Column"
   ]
  },
  {
   "cell_type": "code",
   "execution_count": 18,
   "id": "4311b016-ad45-4b83-bd10-74f983b16e2f",
   "metadata": {},
   "outputs": [
    {
     "data": {
      "text/plain": [
       "count    1000.000000\n",
       "mean       36.405000\n",
       "std        15.666155\n",
       "min         1.000000\n",
       "25%        26.000000\n",
       "50%        32.000000\n",
       "75%        46.000000\n",
       "max       135.000000\n",
       "Name: age, dtype: float64"
      ]
     },
     "execution_count": 18,
     "metadata": {},
     "output_type": "execute_result"
    }
   ],
   "source": [
    "df_cust.age.describe()"
   ]
  },
  {
   "cell_type": "code",
   "execution_count": 19,
   "id": "426f5f82-41e2-446a-987e-df2fe09bfecc",
   "metadata": {
    "scrolled": true
   },
   "outputs": [
    {
     "data": {
      "text/html": [
       "<div>\n",
       "<style scoped>\n",
       "    .dataframe tbody tr th:only-of-type {\n",
       "        vertical-align: middle;\n",
       "    }\n",
       "\n",
       "    .dataframe tbody tr th {\n",
       "        vertical-align: top;\n",
       "    }\n",
       "\n",
       "    .dataframe thead th {\n",
       "        text-align: right;\n",
       "    }\n",
       "</style>\n",
       "<table border=\"1\" class=\"dataframe\">\n",
       "  <thead>\n",
       "    <tr style=\"text-align: right;\">\n",
       "      <th></th>\n",
       "      <th>cust_id</th>\n",
       "      <th>name</th>\n",
       "      <th>gender</th>\n",
       "      <th>age</th>\n",
       "      <th>location</th>\n",
       "      <th>occupation</th>\n",
       "      <th>annual_income</th>\n",
       "      <th>marital_status</th>\n",
       "    </tr>\n",
       "  </thead>\n",
       "  <tbody>\n",
       "    <tr>\n",
       "      <th>0</th>\n",
       "      <td>1</td>\n",
       "      <td>Manya Acharya</td>\n",
       "      <td>Female</td>\n",
       "      <td>2</td>\n",
       "      <td>City</td>\n",
       "      <td>Business Owner</td>\n",
       "      <td>358211.0</td>\n",
       "      <td>Married</td>\n",
       "    </tr>\n",
       "    <tr>\n",
       "      <th>41</th>\n",
       "      <td>42</td>\n",
       "      <td>Aaryan Shah</td>\n",
       "      <td>Male</td>\n",
       "      <td>110</td>\n",
       "      <td>City</td>\n",
       "      <td>Artist</td>\n",
       "      <td>7621.0</td>\n",
       "      <td>Married</td>\n",
       "    </tr>\n",
       "    <tr>\n",
       "      <th>165</th>\n",
       "      <td>166</td>\n",
       "      <td>Sia Dutta</td>\n",
       "      <td>Female</td>\n",
       "      <td>1</td>\n",
       "      <td>City</td>\n",
       "      <td>Freelancer</td>\n",
       "      <td>39721.0</td>\n",
       "      <td>Single</td>\n",
       "    </tr>\n",
       "    <tr>\n",
       "      <th>174</th>\n",
       "      <td>175</td>\n",
       "      <td>Rohan Sharma</td>\n",
       "      <td>Male</td>\n",
       "      <td>110</td>\n",
       "      <td>City</td>\n",
       "      <td>Freelancer</td>\n",
       "      <td>23723.0</td>\n",
       "      <td>Married</td>\n",
       "    </tr>\n",
       "    <tr>\n",
       "      <th>222</th>\n",
       "      <td>223</td>\n",
       "      <td>Arjun Batra</td>\n",
       "      <td>Male</td>\n",
       "      <td>110</td>\n",
       "      <td>Suburb</td>\n",
       "      <td>Freelancer</td>\n",
       "      <td>210987.0</td>\n",
       "      <td>Married</td>\n",
       "    </tr>\n",
       "    <tr>\n",
       "      <th>277</th>\n",
       "      <td>278</td>\n",
       "      <td>Aarav Tandon</td>\n",
       "      <td>Male</td>\n",
       "      <td>110</td>\n",
       "      <td>City</td>\n",
       "      <td>Consultant</td>\n",
       "      <td>96522.0</td>\n",
       "      <td>Single</td>\n",
       "    </tr>\n",
       "    <tr>\n",
       "      <th>295</th>\n",
       "      <td>296</td>\n",
       "      <td>Ayush Pandey</td>\n",
       "      <td>Male</td>\n",
       "      <td>1</td>\n",
       "      <td>Rural</td>\n",
       "      <td>Accountant</td>\n",
       "      <td>55254.0</td>\n",
       "      <td>Married</td>\n",
       "    </tr>\n",
       "    <tr>\n",
       "      <th>325</th>\n",
       "      <td>326</td>\n",
       "      <td>Virat Goel</td>\n",
       "      <td>Male</td>\n",
       "      <td>110</td>\n",
       "      <td>City</td>\n",
       "      <td>Accountant</td>\n",
       "      <td>61021.0</td>\n",
       "      <td>Single</td>\n",
       "    </tr>\n",
       "    <tr>\n",
       "      <th>610</th>\n",
       "      <td>611</td>\n",
       "      <td>Rehan Verma</td>\n",
       "      <td>Male</td>\n",
       "      <td>135</td>\n",
       "      <td>Rural</td>\n",
       "      <td>Business Owner</td>\n",
       "      <td>444776.0</td>\n",
       "      <td>Married</td>\n",
       "    </tr>\n",
       "    <tr>\n",
       "      <th>692</th>\n",
       "      <td>693</td>\n",
       "      <td>Dhruv Jha</td>\n",
       "      <td>Male</td>\n",
       "      <td>1</td>\n",
       "      <td>City</td>\n",
       "      <td>Business Owner</td>\n",
       "      <td>83045.0</td>\n",
       "      <td>Married</td>\n",
       "    </tr>\n",
       "    <tr>\n",
       "      <th>703</th>\n",
       "      <td>704</td>\n",
       "      <td>Aanya Sharma</td>\n",
       "      <td>Female</td>\n",
       "      <td>110</td>\n",
       "      <td>City</td>\n",
       "      <td>Freelancer</td>\n",
       "      <td>43404.0</td>\n",
       "      <td>Single</td>\n",
       "    </tr>\n",
       "    <tr>\n",
       "      <th>709</th>\n",
       "      <td>710</td>\n",
       "      <td>Anika Verma</td>\n",
       "      <td>Female</td>\n",
       "      <td>110</td>\n",
       "      <td>City</td>\n",
       "      <td>Data Scientist</td>\n",
       "      <td>98417.0</td>\n",
       "      <td>Married</td>\n",
       "    </tr>\n",
       "    <tr>\n",
       "      <th>728</th>\n",
       "      <td>729</td>\n",
       "      <td>Rehan Yadav</td>\n",
       "      <td>Male</td>\n",
       "      <td>135</td>\n",
       "      <td>City</td>\n",
       "      <td>Business Owner</td>\n",
       "      <td>382836.0</td>\n",
       "      <td>Married</td>\n",
       "    </tr>\n",
       "    <tr>\n",
       "      <th>832</th>\n",
       "      <td>833</td>\n",
       "      <td>Ridhi Raj</td>\n",
       "      <td>Female</td>\n",
       "      <td>110</td>\n",
       "      <td>City</td>\n",
       "      <td>Fullstack Developer</td>\n",
       "      <td>95379.0</td>\n",
       "      <td>Single</td>\n",
       "    </tr>\n",
       "    <tr>\n",
       "      <th>845</th>\n",
       "      <td>846</td>\n",
       "      <td>Rohan Jaiswal</td>\n",
       "      <td>Male</td>\n",
       "      <td>1</td>\n",
       "      <td>City</td>\n",
       "      <td>Consultant</td>\n",
       "      <td>20838.0</td>\n",
       "      <td>Married</td>\n",
       "    </tr>\n",
       "    <tr>\n",
       "      <th>855</th>\n",
       "      <td>856</td>\n",
       "      <td>Aanya Taneja</td>\n",
       "      <td>Female</td>\n",
       "      <td>2</td>\n",
       "      <td>City</td>\n",
       "      <td>Fullstack Developer</td>\n",
       "      <td>30689.0</td>\n",
       "      <td>Married</td>\n",
       "    </tr>\n",
       "    <tr>\n",
       "      <th>895</th>\n",
       "      <td>896</td>\n",
       "      <td>Krishna Goswami</td>\n",
       "      <td>Male</td>\n",
       "      <td>1</td>\n",
       "      <td>City</td>\n",
       "      <td>Freelancer</td>\n",
       "      <td>31533.0</td>\n",
       "      <td>Married</td>\n",
       "    </tr>\n",
       "    <tr>\n",
       "      <th>923</th>\n",
       "      <td>924</td>\n",
       "      <td>Kunal Patel</td>\n",
       "      <td>Male</td>\n",
       "      <td>110</td>\n",
       "      <td>City</td>\n",
       "      <td>Freelancer</td>\n",
       "      <td>51629.0</td>\n",
       "      <td>Married</td>\n",
       "    </tr>\n",
       "    <tr>\n",
       "      <th>951</th>\n",
       "      <td>952</td>\n",
       "      <td>Virat Shetty</td>\n",
       "      <td>Male</td>\n",
       "      <td>135</td>\n",
       "      <td>City</td>\n",
       "      <td>Data Scientist</td>\n",
       "      <td>49677.0</td>\n",
       "      <td>Married</td>\n",
       "    </tr>\n",
       "    <tr>\n",
       "      <th>991</th>\n",
       "      <td>992</td>\n",
       "      <td>Arya Dube</td>\n",
       "      <td>Male</td>\n",
       "      <td>135</td>\n",
       "      <td>City</td>\n",
       "      <td>Fullstack Developer</td>\n",
       "      <td>93267.0</td>\n",
       "      <td>Single</td>\n",
       "    </tr>\n",
       "  </tbody>\n",
       "</table>\n",
       "</div>"
      ],
      "text/plain": [
       "     cust_id             name  gender  age location           occupation  \\\n",
       "0          1    Manya Acharya  Female    2     City       Business Owner   \n",
       "41        42      Aaryan Shah    Male  110     City               Artist   \n",
       "165      166        Sia Dutta  Female    1     City           Freelancer   \n",
       "174      175     Rohan Sharma    Male  110     City           Freelancer   \n",
       "222      223      Arjun Batra    Male  110   Suburb           Freelancer   \n",
       "277      278     Aarav Tandon    Male  110     City           Consultant   \n",
       "295      296     Ayush Pandey    Male    1    Rural           Accountant   \n",
       "325      326       Virat Goel    Male  110     City           Accountant   \n",
       "610      611      Rehan Verma    Male  135    Rural       Business Owner   \n",
       "692      693        Dhruv Jha    Male    1     City       Business Owner   \n",
       "703      704     Aanya Sharma  Female  110     City           Freelancer   \n",
       "709      710      Anika Verma  Female  110     City       Data Scientist   \n",
       "728      729      Rehan Yadav    Male  135     City       Business Owner   \n",
       "832      833        Ridhi Raj  Female  110     City  Fullstack Developer   \n",
       "845      846    Rohan Jaiswal    Male    1     City           Consultant   \n",
       "855      856     Aanya Taneja  Female    2     City  Fullstack Developer   \n",
       "895      896  Krishna Goswami    Male    1     City           Freelancer   \n",
       "923      924      Kunal Patel    Male  110     City           Freelancer   \n",
       "951      952     Virat Shetty    Male  135     City       Data Scientist   \n",
       "991      992        Arya Dube    Male  135     City  Fullstack Developer   \n",
       "\n",
       "     annual_income marital_status  \n",
       "0         358211.0        Married  \n",
       "41          7621.0        Married  \n",
       "165        39721.0         Single  \n",
       "174        23723.0        Married  \n",
       "222       210987.0        Married  \n",
       "277        96522.0         Single  \n",
       "295        55254.0        Married  \n",
       "325        61021.0         Single  \n",
       "610       444776.0        Married  \n",
       "692        83045.0        Married  \n",
       "703        43404.0         Single  \n",
       "709        98417.0        Married  \n",
       "728       382836.0        Married  \n",
       "832        95379.0         Single  \n",
       "845        20838.0        Married  \n",
       "855        30689.0        Married  \n",
       "895        31533.0        Married  \n",
       "923        51629.0        Married  \n",
       "951        49677.0        Married  \n",
       "991        93267.0         Single  "
      ]
     },
     "execution_count": 19,
     "metadata": {},
     "output_type": "execute_result"
    }
   ],
   "source": [
    "df_cust[(df_cust.age > 80) | (df_cust.age < 15)]"
   ]
  },
  {
   "cell_type": "code",
   "execution_count": 20,
   "id": "70672a87-fb21-4b70-847c-5811f7992513",
   "metadata": {},
   "outputs": [
    {
     "data": {
      "text/plain": [
       "32"
      ]
     },
     "execution_count": 20,
     "metadata": {},
     "output_type": "execute_result"
    }
   ],
   "source": [
    "int(df_cust.age.median())"
   ]
  },
  {
   "cell_type": "code",
   "execution_count": 21,
   "id": "e7ad7bf9-4e4f-4734-861f-b7260ae80d76",
   "metadata": {},
   "outputs": [],
   "source": [
    "df_cust['age'] = df_cust.apply(\n",
    "    lambda row: 32 if (row['age'] > 80 or row['age'] < 15) else row['age'],\n",
    "    axis=1\n",
    ")"
   ]
  },
  {
   "cell_type": "code",
   "execution_count": 22,
   "id": "637c9024-390d-45a2-a34b-96d0918184bc",
   "metadata": {},
   "outputs": [],
   "source": [
    "bins = [17, 25, 48, 65]  # Upper limits for your bins\n",
    "labels = ['18-25', '26-48', '49-65']\n",
    "\n",
    "df_cust['age_group'] = pd.cut(df_cust['age'], bins=bins, labels=labels)"
   ]
  },
  {
   "cell_type": "code",
   "execution_count": 23,
   "id": "0247020a-f519-4258-ae43-7d19660299cd",
   "metadata": {},
   "outputs": [
    {
     "data": {
      "text/plain": [
       "age_group\n",
       "26-48    577\n",
       "18-25    240\n",
       "49-65    183\n",
       "Name: count, dtype: int64"
      ]
     },
     "execution_count": 23,
     "metadata": {},
     "output_type": "execute_result"
    }
   ],
   "source": [
    "age_group_values = df_cust['age_group'].value_counts()\n",
    "age_group_values"
   ]
  },
  {
   "cell_type": "code",
   "execution_count": 24,
   "id": "33a5a666-a887-4ff8-b103-5094dab93122",
   "metadata": {},
   "outputs": [
    {
     "data": {
      "image/png": "[encoded data removed]",
      "text/plain": [
       "<Figure size 640x480 with 1 Axes>"
      ]
     },
     "metadata": {},
     "output_type": "display_data"
    }
   ],
   "source": [
    "plt.pie(age_group_values, labels=age_group_values.index, autopct = '%1.1f%%', explode=[0.1,0,0], shadow=True)\n",
    "plt.show()"
   ]
  },
  {
   "cell_type": "markdown",
   "id": "6d7254d8-ccfe-4287-9430-c13ff1a19cb6",
   "metadata": {},
   "source": [
    "#### Insights: Age Group Distribution\n",
    "- Over 57% of customers fall into the 26–48 age group, representing the core customer segment.\n",
    "- Around 24% of customers are in the 18–25 age bracket, suggesting a strong presence of younger.\n",
    "- The 49–65 group accounts for 18% of the customer base. While smaller in proportion, they may represent a more financially stable or retirement-focused segment."
   ]
  },
  {
   "cell_type": "markdown",
   "id": "c641f1e8-64e5-42d1-b6a1-f103f794300c",
   "metadata": {},
   "source": [
    "### Analyze Gender Column"
   ]
  },
  {
   "cell_type": "code",
   "execution_count": 25,
   "id": "7bfb2107-2947-4578-8227-d5498630d8d4",
   "metadata": {},
   "outputs": [
    {
     "data": {
      "text/plain": [
       "gender\n",
       "Male      674\n",
       "Female    326\n",
       "Name: count, dtype: int64"
      ]
     },
     "execution_count": 25,
     "metadata": {},
     "output_type": "execute_result"
    }
   ],
   "source": [
    "df_cust.gender.value_counts()"
   ]
  },
  {
   "cell_type": "code",
   "execution_count": 26,
   "id": "b17fd250-32ad-4c81-8655-9ea4f7d42c58",
   "metadata": {},
   "outputs": [
    {
     "data": {
      "text/plain": [
       "location\n",
       "City      683\n",
       "Suburb    232\n",
       "Rural      85\n",
       "Name: count, dtype: int64"
      ]
     },
     "execution_count": 26,
     "metadata": {},
     "output_type": "execute_result"
    }
   ],
   "source": [
    "df_cust.location.value_counts()"
   ]
  },
  {
   "cell_type": "code",
   "execution_count": 27,
   "id": "dcacdc48-2463-41bf-bb46-78decdcf9751",
   "metadata": {},
   "outputs": [
    {
     "data": {
      "text/html": [
       "<div>\n",
       "<style scoped>\n",
       "    .dataframe tbody tr th:only-of-type {\n",
       "        vertical-align: middle;\n",
       "    }\n",
       "\n",
       "    .dataframe tbody tr th {\n",
       "        vertical-align: top;\n",
       "    }\n",
       "\n",
       "    .dataframe thead th {\n",
       "        text-align: right;\n",
       "    }\n",
       "</style>\n",
       "<table border=\"1\" class=\"dataframe\">\n",
       "  <thead>\n",
       "    <tr style=\"text-align: right;\">\n",
       "      <th>gender</th>\n",
       "      <th>Female</th>\n",
       "      <th>Male</th>\n",
       "    </tr>\n",
       "    <tr>\n",
       "      <th>location</th>\n",
       "      <th></th>\n",
       "      <th></th>\n",
       "    </tr>\n",
       "  </thead>\n",
       "  <tbody>\n",
       "    <tr>\n",
       "      <th>City</th>\n",
       "      <td>226</td>\n",
       "      <td>457</td>\n",
       "    </tr>\n",
       "    <tr>\n",
       "      <th>Rural</th>\n",
       "      <td>26</td>\n",
       "      <td>59</td>\n",
       "    </tr>\n",
       "    <tr>\n",
       "      <th>Suburb</th>\n",
       "      <td>74</td>\n",
       "      <td>158</td>\n",
       "    </tr>\n",
       "  </tbody>\n",
       "</table>\n",
       "</div>"
      ],
      "text/plain": [
       "gender    Female  Male\n",
       "location              \n",
       "City         226   457\n",
       "Rural         26    59\n",
       "Suburb        74   158"
      ]
     },
     "execution_count": 27,
     "metadata": {},
     "output_type": "execute_result"
    }
   ],
   "source": [
    "cust_locations_with_gender = df_cust.groupby(['location','gender']).size().unstack()\n",
    "cust_locations_with_gender"
   ]
  },
  {
   "cell_type": "code",
   "execution_count": 28,
   "id": "06fa4f10-5673-4009-8aed-0574cba91fc7",
   "metadata": {},
   "outputs": [
    {
     "data": {
      "image/png": "[encoded data removed]",
      "text/plain": [
       "<Figure size 640x480 with 1 Axes>"
      ]
     },
     "metadata": {},
     "output_type": "display_data"
    }
   ],
   "source": [
    "cust_locations_with_gender.plot(kind=\"bar\", stacked=True)\n",
    "plt.legend(title=\"Gender\")\n",
    "plt.show()"
   ]
  },
  {
   "cell_type": "markdown",
   "id": "d0140bac-0764-4af1-b468-5af6d3985fc5",
   "metadata": {},
   "source": [
    "<h4 style=\"color:blue\">Explore Credit score table</h4>"
   ]
  },
  {
   "cell_type": "code",
   "execution_count": 29,
   "id": "e57293a3-0f7a-4a16-8ac4-78c1bef58796",
   "metadata": {},
   "outputs": [
    {
     "data": {
      "text/plain": [
       "Index(['cust_id', 'credit_score', 'credit_utilisation', 'outstanding_debt',\n",
       "       'credit_inquiries_last_6_months', 'credit_limit'],\n",
       "      dtype='object')"
      ]
     },
     "execution_count": 29,
     "metadata": {},
     "output_type": "execute_result"
    }
   ],
   "source": [
    "df_cp.columns"
   ]
  },
  {
   "cell_type": "markdown",
   "id": "3132afaa-4cd6-4d19-9bb1-22ea0cb05555",
   "metadata": {},
   "source": [
    "#### Dataset Information: df_cp\n",
    "- cust_id: Unique identifier assigned to each customer\n",
    "- credit_score: Numerical score representing the customer's creditworthiness\n",
    "- credit_utilisation: Ratio of credit used relative to the total credit limit\n",
    "- outstanding_debt: Total unpaid debt currently owed by the customer (in monetary units)\n",
    "- credit_inquiries_last_6_months: Number of times the customer’s credit report was pulled in the last 6 months\n",
    "- credit_limit: Maximum credit amount allotted to the customer (in monetary units)"
   ]
  },
  {
   "cell_type": "code",
   "execution_count": 30,
   "id": "63530652-e27a-4f90-950d-7fd8f2af0fa3",
   "metadata": {},
   "outputs": [
    {
     "data": {
      "text/html": [
       "<div>\n",
       "<style scoped>\n",
       "    .dataframe tbody tr th:only-of-type {\n",
       "        vertical-align: middle;\n",
       "    }\n",
       "\n",
       "    .dataframe tbody tr th {\n",
       "        vertical-align: top;\n",
       "    }\n",
       "\n",
       "    .dataframe thead th {\n",
       "        text-align: right;\n",
       "    }\n",
       "</style>\n",
       "<table border=\"1\" class=\"dataframe\">\n",
       "  <thead>\n",
       "    <tr style=\"text-align: right;\">\n",
       "      <th></th>\n",
       "      <th>cust_id</th>\n",
       "      <th>credit_score</th>\n",
       "      <th>credit_utilisation</th>\n",
       "      <th>outstanding_debt</th>\n",
       "      <th>credit_inquiries_last_6_months</th>\n",
       "      <th>credit_limit</th>\n",
       "    </tr>\n",
       "  </thead>\n",
       "  <tbody>\n",
       "    <tr>\n",
       "      <th>0</th>\n",
       "      <td>1</td>\n",
       "      <td>749</td>\n",
       "      <td>0.585171</td>\n",
       "      <td>19571.0</td>\n",
       "      <td>0.0</td>\n",
       "      <td>40000.0</td>\n",
       "    </tr>\n",
       "    <tr>\n",
       "      <th>1</th>\n",
       "      <td>2</td>\n",
       "      <td>587</td>\n",
       "      <td>0.107928</td>\n",
       "      <td>161644.0</td>\n",
       "      <td>2.0</td>\n",
       "      <td>1250.0</td>\n",
       "    </tr>\n",
       "    <tr>\n",
       "      <th>2</th>\n",
       "      <td>3</td>\n",
       "      <td>544</td>\n",
       "      <td>0.854807</td>\n",
       "      <td>513.0</td>\n",
       "      <td>4.0</td>\n",
       "      <td>1000.0</td>\n",
       "    </tr>\n",
       "    <tr>\n",
       "      <th>3</th>\n",
       "      <td>4</td>\n",
       "      <td>504</td>\n",
       "      <td>0.336938</td>\n",
       "      <td>224.0</td>\n",
       "      <td>2.0</td>\n",
       "      <td>1000.0</td>\n",
       "    </tr>\n",
       "    <tr>\n",
       "      <th>4</th>\n",
       "      <td>5</td>\n",
       "      <td>708</td>\n",
       "      <td>0.586151</td>\n",
       "      <td>18090.0</td>\n",
       "      <td>2.0</td>\n",
       "      <td>40000.0</td>\n",
       "    </tr>\n",
       "  </tbody>\n",
       "</table>\n",
       "</div>"
      ],
      "text/plain": [
       "   cust_id  credit_score  credit_utilisation  outstanding_debt  \\\n",
       "0        1           749            0.585171           19571.0   \n",
       "1        2           587            0.107928          161644.0   \n",
       "2        3           544            0.854807             513.0   \n",
       "3        4           504            0.336938             224.0   \n",
       "4        5           708            0.586151           18090.0   \n",
       "\n",
       "   credit_inquiries_last_6_months  credit_limit  \n",
       "0                             0.0       40000.0  \n",
       "1                             2.0        1250.0  \n",
       "2                             4.0        1000.0  \n",
       "3                             2.0        1000.0  \n",
       "4                             2.0       40000.0  "
      ]
     },
     "execution_count": 30,
     "metadata": {},
     "output_type": "execute_result"
    }
   ],
   "source": [
    "df_cp.head()"
   ]
  },
  {
   "cell_type": "code",
   "execution_count": 31,
   "id": "18227ca8-b1d4-491d-9859-7d3049f70d3d",
   "metadata": {},
   "outputs": [
    {
     "data": {
      "text/plain": [
       "(1004, 6)"
      ]
     },
     "execution_count": 31,
     "metadata": {},
     "output_type": "execute_result"
    }
   ],
   "source": [
    "df_cp.shape"
   ]
  },
  {
   "cell_type": "code",
   "execution_count": 32,
   "id": "cbf7a025-36a0-4fc5-b368-61760fa445b8",
   "metadata": {},
   "outputs": [
    {
     "data": {
      "text/plain": [
       "1000"
      ]
     },
     "execution_count": 32,
     "metadata": {},
     "output_type": "execute_result"
    }
   ],
   "source": [
    "df_cp['cust_id'].nunique()"
   ]
  },
  {
   "cell_type": "code",
   "execution_count": 33,
   "id": "c215c3d7-e06b-4830-a346-25b5bfaae8fc",
   "metadata": {},
   "outputs": [
    {
     "data": {
      "text/html": [
       "<div>\n",
       "<style scoped>\n",
       "    .dataframe tbody tr th:only-of-type {\n",
       "        vertical-align: middle;\n",
       "    }\n",
       "\n",
       "    .dataframe tbody tr th {\n",
       "        vertical-align: top;\n",
       "    }\n",
       "\n",
       "    .dataframe thead th {\n",
       "        text-align: right;\n",
       "    }\n",
       "</style>\n",
       "<table border=\"1\" class=\"dataframe\">\n",
       "  <thead>\n",
       "    <tr style=\"text-align: right;\">\n",
       "      <th></th>\n",
       "      <th>cust_id</th>\n",
       "      <th>credit_score</th>\n",
       "      <th>credit_utilisation</th>\n",
       "      <th>outstanding_debt</th>\n",
       "      <th>credit_inquiries_last_6_months</th>\n",
       "      <th>credit_limit</th>\n",
       "    </tr>\n",
       "  </thead>\n",
       "  <tbody>\n",
       "    <tr>\n",
       "      <th>516</th>\n",
       "      <td>517</td>\n",
       "      <td>308</td>\n",
       "      <td>NaN</td>\n",
       "      <td>NaN</td>\n",
       "      <td>NaN</td>\n",
       "      <td>NaN</td>\n",
       "    </tr>\n",
       "    <tr>\n",
       "      <th>517</th>\n",
       "      <td>517</td>\n",
       "      <td>308</td>\n",
       "      <td>0.113860</td>\n",
       "      <td>33.0</td>\n",
       "      <td>3.0</td>\n",
       "      <td>500.0</td>\n",
       "    </tr>\n",
       "    <tr>\n",
       "      <th>569</th>\n",
       "      <td>569</td>\n",
       "      <td>344</td>\n",
       "      <td>NaN</td>\n",
       "      <td>NaN</td>\n",
       "      <td>NaN</td>\n",
       "      <td>NaN</td>\n",
       "    </tr>\n",
       "    <tr>\n",
       "      <th>570</th>\n",
       "      <td>569</td>\n",
       "      <td>344</td>\n",
       "      <td>0.112599</td>\n",
       "      <td>37.0</td>\n",
       "      <td>0.0</td>\n",
       "      <td>500.0</td>\n",
       "    </tr>\n",
       "    <tr>\n",
       "      <th>607</th>\n",
       "      <td>606</td>\n",
       "      <td>734</td>\n",
       "      <td>NaN</td>\n",
       "      <td>NaN</td>\n",
       "      <td>NaN</td>\n",
       "      <td>NaN</td>\n",
       "    </tr>\n",
       "    <tr>\n",
       "      <th>608</th>\n",
       "      <td>606</td>\n",
       "      <td>734</td>\n",
       "      <td>0.193418</td>\n",
       "      <td>4392.0</td>\n",
       "      <td>1.0</td>\n",
       "      <td>40000.0</td>\n",
       "    </tr>\n",
       "    <tr>\n",
       "      <th>664</th>\n",
       "      <td>662</td>\n",
       "      <td>442</td>\n",
       "      <td>NaN</td>\n",
       "      <td>NaN</td>\n",
       "      <td>NaN</td>\n",
       "      <td>NaN</td>\n",
       "    </tr>\n",
       "    <tr>\n",
       "      <th>665</th>\n",
       "      <td>662</td>\n",
       "      <td>442</td>\n",
       "      <td>0.856039</td>\n",
       "      <td>266.0</td>\n",
       "      <td>2.0</td>\n",
       "      <td>500.0</td>\n",
       "    </tr>\n",
       "  </tbody>\n",
       "</table>\n",
       "</div>"
      ],
      "text/plain": [
       "     cust_id  credit_score  credit_utilisation  outstanding_debt  \\\n",
       "516      517           308                 NaN               NaN   \n",
       "517      517           308            0.113860              33.0   \n",
       "569      569           344                 NaN               NaN   \n",
       "570      569           344            0.112599              37.0   \n",
       "607      606           734                 NaN               NaN   \n",
       "608      606           734            0.193418            4392.0   \n",
       "664      662           442                 NaN               NaN   \n",
       "665      662           442            0.856039             266.0   \n",
       "\n",
       "     credit_inquiries_last_6_months  credit_limit  \n",
       "516                             NaN           NaN  \n",
       "517                             3.0         500.0  \n",
       "569                             NaN           NaN  \n",
       "570                             0.0         500.0  \n",
       "607                             NaN           NaN  \n",
       "608                             1.0       40000.0  \n",
       "664                             NaN           NaN  \n",
       "665                             2.0         500.0  "
      ]
     },
     "execution_count": 33,
     "metadata": {},
     "output_type": "execute_result"
    }
   ],
   "source": [
    "df_cp[df_cp['cust_id'].duplicated(keep=False)]"
   ]
  },
  {
   "cell_type": "code",
   "execution_count": 34,
   "id": "919b67ce-33b0-49e0-96fb-107bfad3ad3e",
   "metadata": {},
   "outputs": [
    {
     "data": {
      "text/plain": [
       "(1000, 6)"
      ]
     },
     "execution_count": 34,
     "metadata": {},
     "output_type": "execute_result"
    }
   ],
   "source": [
    "df_cs_clean_1 = df_cp.drop_duplicates(subset='cust_id',keep='last')\n",
    "df_cs_clean_1.shape"
   ]
  },
  {
   "cell_type": "code",
   "execution_count": 35,
   "id": "8d468d7c-923b-4929-9880-8a635d74e3e2",
   "metadata": {},
   "outputs": [
    {
     "data": {
      "text/plain": [
       "cust_id                            0\n",
       "credit_score                       0\n",
       "credit_utilisation                 0\n",
       "outstanding_debt                   0\n",
       "credit_inquiries_last_6_months     0\n",
       "credit_limit                      65\n",
       "dtype: int64"
      ]
     },
     "execution_count": 35,
     "metadata": {},
     "output_type": "execute_result"
    }
   ],
   "source": [
    "df_cs_clean_1.isnull().sum()"
   ]
  },
  {
   "cell_type": "code",
   "execution_count": 36,
   "id": "0029ea4e-39e3-4cb8-bd6f-6cfb47e4e7c2",
   "metadata": {},
   "outputs": [
    {
     "data": {
      "text/html": [
       "<div>\n",
       "<style scoped>\n",
       "    .dataframe tbody tr th:only-of-type {\n",
       "        vertical-align: middle;\n",
       "    }\n",
       "\n",
       "    .dataframe tbody tr th {\n",
       "        vertical-align: top;\n",
       "    }\n",
       "\n",
       "    .dataframe thead th {\n",
       "        text-align: right;\n",
       "    }\n",
       "</style>\n",
       "<table border=\"1\" class=\"dataframe\">\n",
       "  <thead>\n",
       "    <tr style=\"text-align: right;\">\n",
       "      <th></th>\n",
       "      <th>cust_id</th>\n",
       "      <th>credit_score</th>\n",
       "      <th>credit_utilisation</th>\n",
       "      <th>outstanding_debt</th>\n",
       "      <th>credit_inquiries_last_6_months</th>\n",
       "      <th>credit_limit</th>\n",
       "    </tr>\n",
       "  </thead>\n",
       "  <tbody>\n",
       "    <tr>\n",
       "      <th>10</th>\n",
       "      <td>11</td>\n",
       "      <td>679</td>\n",
       "      <td>0.557450</td>\n",
       "      <td>9187.0</td>\n",
       "      <td>2.0</td>\n",
       "      <td>NaN</td>\n",
       "    </tr>\n",
       "    <tr>\n",
       "      <th>35</th>\n",
       "      <td>36</td>\n",
       "      <td>790</td>\n",
       "      <td>0.112535</td>\n",
       "      <td>4261.0</td>\n",
       "      <td>1.0</td>\n",
       "      <td>NaN</td>\n",
       "    </tr>\n",
       "    <tr>\n",
       "      <th>37</th>\n",
       "      <td>38</td>\n",
       "      <td>514</td>\n",
       "      <td>0.296971</td>\n",
       "      <td>238.0</td>\n",
       "      <td>2.0</td>\n",
       "      <td>NaN</td>\n",
       "    </tr>\n",
       "    <tr>\n",
       "      <th>45</th>\n",
       "      <td>46</td>\n",
       "      <td>761</td>\n",
       "      <td>0.596041</td>\n",
       "      <td>24234.0</td>\n",
       "      <td>2.0</td>\n",
       "      <td>NaN</td>\n",
       "    </tr>\n",
       "    <tr>\n",
       "      <th>64</th>\n",
       "      <td>65</td>\n",
       "      <td>734</td>\n",
       "      <td>0.473715</td>\n",
       "      <td>13631.0</td>\n",
       "      <td>0.0</td>\n",
       "      <td>NaN</td>\n",
       "    </tr>\n",
       "    <tr>\n",
       "      <th>...</th>\n",
       "      <td>...</td>\n",
       "      <td>...</td>\n",
       "      <td>...</td>\n",
       "      <td>...</td>\n",
       "      <td>...</td>\n",
       "      <td>...</td>\n",
       "    </tr>\n",
       "    <tr>\n",
       "      <th>912</th>\n",
       "      <td>909</td>\n",
       "      <td>479</td>\n",
       "      <td>0.487555</td>\n",
       "      <td>320.0</td>\n",
       "      <td>3.0</td>\n",
       "      <td>NaN</td>\n",
       "    </tr>\n",
       "    <tr>\n",
       "      <th>931</th>\n",
       "      <td>928</td>\n",
       "      <td>311</td>\n",
       "      <td>0.832244</td>\n",
       "      <td>316.0</td>\n",
       "      <td>2.0</td>\n",
       "      <td>NaN</td>\n",
       "    </tr>\n",
       "    <tr>\n",
       "      <th>948</th>\n",
       "      <td>945</td>\n",
       "      <td>526</td>\n",
       "      <td>0.272734</td>\n",
       "      <td>227.0</td>\n",
       "      <td>1.0</td>\n",
       "      <td>NaN</td>\n",
       "    </tr>\n",
       "    <tr>\n",
       "      <th>954</th>\n",
       "      <td>951</td>\n",
       "      <td>513</td>\n",
       "      <td>0.175914</td>\n",
       "      <td>131.0</td>\n",
       "      <td>3.0</td>\n",
       "      <td>NaN</td>\n",
       "    </tr>\n",
       "    <tr>\n",
       "      <th>957</th>\n",
       "      <td>954</td>\n",
       "      <td>783</td>\n",
       "      <td>0.867421</td>\n",
       "      <td>46451.0</td>\n",
       "      <td>0.0</td>\n",
       "      <td>NaN</td>\n",
       "    </tr>\n",
       "  </tbody>\n",
       "</table>\n",
       "<p>65 rows × 6 columns</p>\n",
       "</div>"
      ],
      "text/plain": [
       "     cust_id  credit_score  credit_utilisation  outstanding_debt  \\\n",
       "10        11           679            0.557450            9187.0   \n",
       "35        36           790            0.112535            4261.0   \n",
       "37        38           514            0.296971             238.0   \n",
       "45        46           761            0.596041           24234.0   \n",
       "64        65           734            0.473715           13631.0   \n",
       "..       ...           ...                 ...               ...   \n",
       "912      909           479            0.487555             320.0   \n",
       "931      928           311            0.832244             316.0   \n",
       "948      945           526            0.272734             227.0   \n",
       "954      951           513            0.175914             131.0   \n",
       "957      954           783            0.867421           46451.0   \n",
       "\n",
       "     credit_inquiries_last_6_months  credit_limit  \n",
       "10                              2.0           NaN  \n",
       "35                              1.0           NaN  \n",
       "37                              2.0           NaN  \n",
       "45                              2.0           NaN  \n",
       "64                              0.0           NaN  \n",
       "..                              ...           ...  \n",
       "912                             3.0           NaN  \n",
       "931                             2.0           NaN  \n",
       "948                             1.0           NaN  \n",
       "954                             3.0           NaN  \n",
       "957                             0.0           NaN  \n",
       "\n",
       "[65 rows x 6 columns]"
      ]
     },
     "execution_count": 36,
     "metadata": {},
     "output_type": "execute_result"
    }
   ],
   "source": [
    "df_cs_clean_1[df_cs_clean_1.credit_limit.isnull()]"
   ]
  },
  {
   "cell_type": "code",
   "execution_count": 37,
   "id": "80842b4c-befb-4e83-9216-17ad41f07ac7",
   "metadata": {
    "scrolled": true
   },
   "outputs": [
    {
     "data": {
      "image/png": "[encoded data removed]",
      "text/plain": [
       "<Figure size 1400x400 with 1 Axes>"
      ]
     },
     "metadata": {},
     "output_type": "display_data"
    }
   ],
   "source": [
    "plt.figure(figsize=(14,4))\n",
    "plt.scatter(df_cs_clean_1['credit_limit'], df_cs_clean_1['credit_score'])\n",
    "plt.title('Relation between credit score and credit limit')\n",
    "plt.xlabel('credit limit')\n",
    "plt.ylabel('credit score')\n",
    "plt.grid(True)\n",
    "plt.show()"
   ]
  },
  {
   "cell_type": "markdown",
   "id": "50d1261f-6bca-4735-b703-c3fd97ec865a",
   "metadata": {},
   "source": [
    "#### Insights\n",
    "- Credit Scores ≤ 650: Customers in this range are generally assigned low credit limits, typically below $1,000.\n",
    "\n",
    "- Credit Scores between 650 and 700: Customers with moderate credit scores tend to receive credit limits around $20,000.\n",
    "  \n",
    "- Credit Scores between 700 and 750: This segment typically qualifies for higher credit limits, averaging around $40,000.\n",
    "  \n",
    "- Credit Scores > 750: Customers in this top tier often receive the highest credit limits, frequently exceeding $60,000."
   ]
  },
  {
   "cell_type": "code",
   "execution_count": 38,
   "id": "148ee6b4-b6d8-409e-80d5-b0424086f4f2",
   "metadata": {},
   "outputs": [],
   "source": [
    "bins = [300, 450, 500, 550, 600, 650, 700, 750, 800]\n",
    "\n",
    "labels = [f'{start}-{end-1}' for start, end in zip(bins, bins[1:])]\n",
    "\n",
    "# Apply pd.cut\n",
    "df_cs_clean_1['credit_score_range'] = pd.cut(df_cs_clean_1['credit_score'], bins=bins, labels=labels, right=False, include_lowest=True)"
   ]
  },
  {
   "cell_type": "code",
   "execution_count": 39,
   "id": "19e215d8-8239-42ba-9a9f-915ea284799b",
   "metadata": {},
   "outputs": [
    {
     "data": {
      "text/html": [
       "<div>\n",
       "<style scoped>\n",
       "    .dataframe tbody tr th:only-of-type {\n",
       "        vertical-align: middle;\n",
       "    }\n",
       "\n",
       "    .dataframe tbody tr th {\n",
       "        vertical-align: top;\n",
       "    }\n",
       "\n",
       "    .dataframe thead th {\n",
       "        text-align: right;\n",
       "    }\n",
       "</style>\n",
       "<table border=\"1\" class=\"dataframe\">\n",
       "  <thead>\n",
       "    <tr style=\"text-align: right;\">\n",
       "      <th></th>\n",
       "      <th>cust_id</th>\n",
       "      <th>credit_score</th>\n",
       "      <th>credit_utilisation</th>\n",
       "      <th>outstanding_debt</th>\n",
       "      <th>credit_inquiries_last_6_months</th>\n",
       "      <th>credit_limit</th>\n",
       "      <th>credit_score_range</th>\n",
       "    </tr>\n",
       "  </thead>\n",
       "  <tbody>\n",
       "    <tr>\n",
       "      <th>154</th>\n",
       "      <td>155</td>\n",
       "      <td>713</td>\n",
       "      <td>0.667238</td>\n",
       "      <td>21325.0</td>\n",
       "      <td>0.0</td>\n",
       "      <td>40000.0</td>\n",
       "      <td>700-749</td>\n",
       "    </tr>\n",
       "    <tr>\n",
       "      <th>452</th>\n",
       "      <td>453</td>\n",
       "      <td>706</td>\n",
       "      <td>0.472699</td>\n",
       "      <td>10093.0</td>\n",
       "      <td>0.0</td>\n",
       "      <td>40000.0</td>\n",
       "      <td>700-749</td>\n",
       "    </tr>\n",
       "    <tr>\n",
       "      <th>176</th>\n",
       "      <td>177</td>\n",
       "      <td>717</td>\n",
       "      <td>0.836437</td>\n",
       "      <td>18794.0</td>\n",
       "      <td>3.0</td>\n",
       "      <td>40000.0</td>\n",
       "      <td>700-749</td>\n",
       "    </tr>\n",
       "  </tbody>\n",
       "</table>\n",
       "</div>"
      ],
      "text/plain": [
       "     cust_id  credit_score  credit_utilisation  outstanding_debt  \\\n",
       "154      155           713            0.667238           21325.0   \n",
       "452      453           706            0.472699           10093.0   \n",
       "176      177           717            0.836437           18794.0   \n",
       "\n",
       "     credit_inquiries_last_6_months  credit_limit credit_score_range  \n",
       "154                             0.0       40000.0            700-749  \n",
       "452                             0.0       40000.0            700-749  \n",
       "176                             3.0       40000.0            700-749  "
      ]
     },
     "execution_count": 39,
     "metadata": {},
     "output_type": "execute_result"
    }
   ],
   "source": [
    "df_cs_clean_1[df_cs_clean_1['credit_score_range'] == '700-749' ].sample(3)"
   ]
  },
  {
   "cell_type": "code",
   "execution_count": 40,
   "id": "ad26f193-86ee-49f8-9bea-1dd27ffe0908",
   "metadata": {},
   "outputs": [
    {
     "data": {
      "text/html": [
       "<div>\n",
       "<style scoped>\n",
       "    .dataframe tbody tr th:only-of-type {\n",
       "        vertical-align: middle;\n",
       "    }\n",
       "\n",
       "    .dataframe tbody tr th {\n",
       "        vertical-align: top;\n",
       "    }\n",
       "\n",
       "    .dataframe thead th {\n",
       "        text-align: right;\n",
       "    }\n",
       "</style>\n",
       "<table border=\"1\" class=\"dataframe\">\n",
       "  <thead>\n",
       "    <tr style=\"text-align: right;\">\n",
       "      <th></th>\n",
       "      <th>credit_score_range</th>\n",
       "      <th>credit_limit</th>\n",
       "    </tr>\n",
       "  </thead>\n",
       "  <tbody>\n",
       "    <tr>\n",
       "      <th>0</th>\n",
       "      <td>300-449</td>\n",
       "      <td>500.0</td>\n",
       "    </tr>\n",
       "    <tr>\n",
       "      <th>1</th>\n",
       "      <td>450-499</td>\n",
       "      <td>750.0</td>\n",
       "    </tr>\n",
       "    <tr>\n",
       "      <th>2</th>\n",
       "      <td>500-549</td>\n",
       "      <td>1000.0</td>\n",
       "    </tr>\n",
       "    <tr>\n",
       "      <th>3</th>\n",
       "      <td>550-599</td>\n",
       "      <td>1250.0</td>\n",
       "    </tr>\n",
       "    <tr>\n",
       "      <th>4</th>\n",
       "      <td>600-649</td>\n",
       "      <td>1500.0</td>\n",
       "    </tr>\n",
       "    <tr>\n",
       "      <th>5</th>\n",
       "      <td>650-699</td>\n",
       "      <td>20000.0</td>\n",
       "    </tr>\n",
       "    <tr>\n",
       "      <th>6</th>\n",
       "      <td>700-749</td>\n",
       "      <td>40000.0</td>\n",
       "    </tr>\n",
       "    <tr>\n",
       "      <th>7</th>\n",
       "      <td>750-799</td>\n",
       "      <td>60000.0</td>\n",
       "    </tr>\n",
       "  </tbody>\n",
       "</table>\n",
       "</div>"
      ],
      "text/plain": [
       "  credit_score_range  credit_limit\n",
       "0            300-449         500.0\n",
       "1            450-499         750.0\n",
       "2            500-549        1000.0\n",
       "3            550-599        1250.0\n",
       "4            600-649        1500.0\n",
       "5            650-699       20000.0\n",
       "6            700-749       40000.0\n",
       "7            750-799       60000.0"
      ]
     },
     "execution_count": 40,
     "metadata": {},
     "output_type": "execute_result"
    }
   ],
   "source": [
    "mode_df = df_cs_clean_1.groupby('credit_score_range')['credit_limit'].agg(lambda x: x.mode().iloc[0]).reset_index()\n",
    "mode_df"
   ]
  },
  {
   "cell_type": "code",
   "execution_count": 41,
   "id": "a934a73b-b18f-49dc-b2a0-70ace06a318a",
   "metadata": {},
   "outputs": [
    {
     "data": {
      "text/html": [
       "<div>\n",
       "<style scoped>\n",
       "    .dataframe tbody tr th:only-of-type {\n",
       "        vertical-align: middle;\n",
       "    }\n",
       "\n",
       "    .dataframe tbody tr th {\n",
       "        vertical-align: top;\n",
       "    }\n",
       "\n",
       "    .dataframe thead th {\n",
       "        text-align: right;\n",
       "    }\n",
       "</style>\n",
       "<table border=\"1\" class=\"dataframe\">\n",
       "  <thead>\n",
       "    <tr style=\"text-align: right;\">\n",
       "      <th></th>\n",
       "      <th>cust_id</th>\n",
       "      <th>credit_score</th>\n",
       "      <th>credit_utilisation</th>\n",
       "      <th>outstanding_debt</th>\n",
       "      <th>credit_inquiries_last_6_months</th>\n",
       "      <th>credit_limit</th>\n",
       "      <th>credit_score_range</th>\n",
       "      <th>credit_limit_mode</th>\n",
       "    </tr>\n",
       "  </thead>\n",
       "  <tbody>\n",
       "    <tr>\n",
       "      <th>0</th>\n",
       "      <td>1</td>\n",
       "      <td>749</td>\n",
       "      <td>0.585171</td>\n",
       "      <td>19571.0</td>\n",
       "      <td>0.0</td>\n",
       "      <td>40000.0</td>\n",
       "      <td>700-749</td>\n",
       "      <td>40000.0</td>\n",
       "    </tr>\n",
       "    <tr>\n",
       "      <th>1</th>\n",
       "      <td>2</td>\n",
       "      <td>587</td>\n",
       "      <td>0.107928</td>\n",
       "      <td>161644.0</td>\n",
       "      <td>2.0</td>\n",
       "      <td>1250.0</td>\n",
       "      <td>550-599</td>\n",
       "      <td>1250.0</td>\n",
       "    </tr>\n",
       "    <tr>\n",
       "      <th>2</th>\n",
       "      <td>3</td>\n",
       "      <td>544</td>\n",
       "      <td>0.854807</td>\n",
       "      <td>513.0</td>\n",
       "      <td>4.0</td>\n",
       "      <td>1000.0</td>\n",
       "      <td>500-549</td>\n",
       "      <td>1000.0</td>\n",
       "    </tr>\n",
       "    <tr>\n",
       "      <th>3</th>\n",
       "      <td>4</td>\n",
       "      <td>504</td>\n",
       "      <td>0.336938</td>\n",
       "      <td>224.0</td>\n",
       "      <td>2.0</td>\n",
       "      <td>1000.0</td>\n",
       "      <td>500-549</td>\n",
       "      <td>1000.0</td>\n",
       "    </tr>\n",
       "    <tr>\n",
       "      <th>4</th>\n",
       "      <td>5</td>\n",
       "      <td>708</td>\n",
       "      <td>0.586151</td>\n",
       "      <td>18090.0</td>\n",
       "      <td>2.0</td>\n",
       "      <td>40000.0</td>\n",
       "      <td>700-749</td>\n",
       "      <td>40000.0</td>\n",
       "    </tr>\n",
       "    <tr>\n",
       "      <th>...</th>\n",
       "      <td>...</td>\n",
       "      <td>...</td>\n",
       "      <td>...</td>\n",
       "      <td>...</td>\n",
       "      <td>...</td>\n",
       "      <td>...</td>\n",
       "      <td>...</td>\n",
       "      <td>...</td>\n",
       "    </tr>\n",
       "    <tr>\n",
       "      <th>995</th>\n",
       "      <td>996</td>\n",
       "      <td>564</td>\n",
       "      <td>0.702963</td>\n",
       "      <td>688.0</td>\n",
       "      <td>2.0</td>\n",
       "      <td>1250.0</td>\n",
       "      <td>550-599</td>\n",
       "      <td>1250.0</td>\n",
       "    </tr>\n",
       "    <tr>\n",
       "      <th>996</th>\n",
       "      <td>997</td>\n",
       "      <td>774</td>\n",
       "      <td>0.465462</td>\n",
       "      <td>17139.0</td>\n",
       "      <td>0.0</td>\n",
       "      <td>60000.0</td>\n",
       "      <td>750-799</td>\n",
       "      <td>60000.0</td>\n",
       "    </tr>\n",
       "    <tr>\n",
       "      <th>997</th>\n",
       "      <td>998</td>\n",
       "      <td>529</td>\n",
       "      <td>0.585856</td>\n",
       "      <td>386.0</td>\n",
       "      <td>3.0</td>\n",
       "      <td>1000.0</td>\n",
       "      <td>500-549</td>\n",
       "      <td>1000.0</td>\n",
       "    </tr>\n",
       "    <tr>\n",
       "      <th>998</th>\n",
       "      <td>999</td>\n",
       "      <td>725</td>\n",
       "      <td>0.249670</td>\n",
       "      <td>6973.0</td>\n",
       "      <td>2.0</td>\n",
       "      <td>40000.0</td>\n",
       "      <td>700-749</td>\n",
       "      <td>40000.0</td>\n",
       "    </tr>\n",
       "    <tr>\n",
       "      <th>999</th>\n",
       "      <td>1000</td>\n",
       "      <td>775</td>\n",
       "      <td>0.696050</td>\n",
       "      <td>33956.0</td>\n",
       "      <td>1.0</td>\n",
       "      <td>60000.0</td>\n",
       "      <td>750-799</td>\n",
       "      <td>60000.0</td>\n",
       "    </tr>\n",
       "  </tbody>\n",
       "</table>\n",
       "<p>1000 rows × 8 columns</p>\n",
       "</div>"
      ],
      "text/plain": [
       "     cust_id  credit_score  credit_utilisation  outstanding_debt  \\\n",
       "0          1           749            0.585171           19571.0   \n",
       "1          2           587            0.107928          161644.0   \n",
       "2          3           544            0.854807             513.0   \n",
       "3          4           504            0.336938             224.0   \n",
       "4          5           708            0.586151           18090.0   \n",
       "..       ...           ...                 ...               ...   \n",
       "995      996           564            0.702963             688.0   \n",
       "996      997           774            0.465462           17139.0   \n",
       "997      998           529            0.585856             386.0   \n",
       "998      999           725            0.249670            6973.0   \n",
       "999     1000           775            0.696050           33956.0   \n",
       "\n",
       "     credit_inquiries_last_6_months  credit_limit credit_score_range  \\\n",
       "0                               0.0       40000.0            700-749   \n",
       "1                               2.0        1250.0            550-599   \n",
       "2                               4.0        1000.0            500-549   \n",
       "3                               2.0        1000.0            500-549   \n",
       "4                               2.0       40000.0            700-749   \n",
       "..                              ...           ...                ...   \n",
       "995                             2.0        1250.0            550-599   \n",
       "996                             0.0       60000.0            750-799   \n",
       "997                             3.0        1000.0            500-549   \n",
       "998                             2.0       40000.0            700-749   \n",
       "999                             1.0       60000.0            750-799   \n",
       "\n",
       "     credit_limit_mode  \n",
       "0              40000.0  \n",
       "1               1250.0  \n",
       "2               1000.0  \n",
       "3               1000.0  \n",
       "4              40000.0  \n",
       "..                 ...  \n",
       "995             1250.0  \n",
       "996            60000.0  \n",
       "997             1000.0  \n",
       "998            40000.0  \n",
       "999            60000.0  \n",
       "\n",
       "[1000 rows x 8 columns]"
      ]
     },
     "execution_count": 41,
     "metadata": {},
     "output_type": "execute_result"
    }
   ],
   "source": [
    "df_cs_clean_2 = pd.merge(df_cs_clean_1, mode_df, suffixes = (\"\", \"_mode\"), on = 'credit_score_range')\n",
    "df_cs_clean_2"
   ]
  },
  {
   "cell_type": "code",
   "execution_count": 42,
   "id": "51be0e59-36b7-457a-af83-bdcb46fd2672",
   "metadata": {},
   "outputs": [],
   "source": [
    "df_cs_clean_3 = df_cs_clean_2.copy()"
   ]
  },
  {
   "cell_type": "code",
   "execution_count": 43,
   "id": "a69c0f9d-429f-4fe3-ba25-4376fc32f22f",
   "metadata": {},
   "outputs": [],
   "source": [
    "df_cs_clean_3['credit_limit'].fillna(df_cs_clean_3['credit_limit_mode'], inplace = True)"
   ]
  },
  {
   "cell_type": "code",
   "execution_count": 44,
   "id": "17f2b1bf-f526-4b72-940d-42699f6db021",
   "metadata": {},
   "outputs": [
    {
     "data": {
      "text/plain": [
       "(1000, 8)"
      ]
     },
     "execution_count": 44,
     "metadata": {},
     "output_type": "execute_result"
    }
   ],
   "source": [
    "df_cs_clean_3.shape"
   ]
  },
  {
   "cell_type": "code",
   "execution_count": 45,
   "id": "2df524ce-6323-4198-9f10-b37c78a659ac",
   "metadata": {},
   "outputs": [
    {
     "data": {
      "text/plain": [
       "cust_id                           0\n",
       "credit_score                      0\n",
       "credit_utilisation                0\n",
       "outstanding_debt                  0\n",
       "credit_inquiries_last_6_months    0\n",
       "credit_limit                      0\n",
       "credit_score_range                0\n",
       "credit_limit_mode                 0\n",
       "dtype: int64"
      ]
     },
     "execution_count": 45,
     "metadata": {},
     "output_type": "execute_result"
    }
   ],
   "source": [
    "df_cs_clean_3.isnull().sum()"
   ]
  },
  {
   "cell_type": "code",
   "execution_count": 46,
   "id": "9a964cbf-4ee1-44b7-bf38-03543f565e04",
   "metadata": {},
   "outputs": [
    {
     "data": {
      "text/html": [
       "<div>\n",
       "<style scoped>\n",
       "    .dataframe tbody tr th:only-of-type {\n",
       "        vertical-align: middle;\n",
       "    }\n",
       "\n",
       "    .dataframe tbody tr th {\n",
       "        vertical-align: top;\n",
       "    }\n",
       "\n",
       "    .dataframe thead th {\n",
       "        text-align: right;\n",
       "    }\n",
       "</style>\n",
       "<table border=\"1\" class=\"dataframe\">\n",
       "  <thead>\n",
       "    <tr style=\"text-align: right;\">\n",
       "      <th></th>\n",
       "      <th>cust_id</th>\n",
       "      <th>credit_score</th>\n",
       "      <th>credit_utilisation</th>\n",
       "      <th>outstanding_debt</th>\n",
       "      <th>credit_inquiries_last_6_months</th>\n",
       "      <th>credit_limit</th>\n",
       "      <th>credit_limit_mode</th>\n",
       "    </tr>\n",
       "  </thead>\n",
       "  <tbody>\n",
       "    <tr>\n",
       "      <th>count</th>\n",
       "      <td>1000.000000</td>\n",
       "      <td>1000.000000</td>\n",
       "      <td>1000.000000</td>\n",
       "      <td>1000.000000</td>\n",
       "      <td>1000.000000</td>\n",
       "      <td>1000.00000</td>\n",
       "      <td>1000.000000</td>\n",
       "    </tr>\n",
       "    <tr>\n",
       "      <th>mean</th>\n",
       "      <td>500.500000</td>\n",
       "      <td>589.182000</td>\n",
       "      <td>0.498950</td>\n",
       "      <td>9683.597000</td>\n",
       "      <td>1.955000</td>\n",
       "      <td>19733.75000</td>\n",
       "      <td>19912.500000</td>\n",
       "    </tr>\n",
       "    <tr>\n",
       "      <th>std</th>\n",
       "      <td>288.819436</td>\n",
       "      <td>152.284929</td>\n",
       "      <td>0.233139</td>\n",
       "      <td>25255.893671</td>\n",
       "      <td>1.414559</td>\n",
       "      <td>24717.43818</td>\n",
       "      <td>24840.914633</td>\n",
       "    </tr>\n",
       "    <tr>\n",
       "      <th>min</th>\n",
       "      <td>1.000000</td>\n",
       "      <td>300.000000</td>\n",
       "      <td>0.103761</td>\n",
       "      <td>33.000000</td>\n",
       "      <td>0.000000</td>\n",
       "      <td>500.00000</td>\n",
       "      <td>500.000000</td>\n",
       "    </tr>\n",
       "    <tr>\n",
       "      <th>25%</th>\n",
       "      <td>250.750000</td>\n",
       "      <td>460.000000</td>\n",
       "      <td>0.293917</td>\n",
       "      <td>221.000000</td>\n",
       "      <td>1.000000</td>\n",
       "      <td>750.00000</td>\n",
       "      <td>750.000000</td>\n",
       "    </tr>\n",
       "    <tr>\n",
       "      <th>50%</th>\n",
       "      <td>500.500000</td>\n",
       "      <td>601.500000</td>\n",
       "      <td>0.487422</td>\n",
       "      <td>550.000000</td>\n",
       "      <td>2.000000</td>\n",
       "      <td>1500.00000</td>\n",
       "      <td>1500.000000</td>\n",
       "    </tr>\n",
       "    <tr>\n",
       "      <th>75%</th>\n",
       "      <td>750.250000</td>\n",
       "      <td>738.000000</td>\n",
       "      <td>0.697829</td>\n",
       "      <td>11819.500000</td>\n",
       "      <td>3.000000</td>\n",
       "      <td>40000.00000</td>\n",
       "      <td>40000.000000</td>\n",
       "    </tr>\n",
       "    <tr>\n",
       "      <th>max</th>\n",
       "      <td>1000.000000</td>\n",
       "      <td>799.000000</td>\n",
       "      <td>0.899648</td>\n",
       "      <td>209901.000000</td>\n",
       "      <td>4.000000</td>\n",
       "      <td>60000.00000</td>\n",
       "      <td>60000.000000</td>\n",
       "    </tr>\n",
       "  </tbody>\n",
       "</table>\n",
       "</div>"
      ],
      "text/plain": [
       "           cust_id  credit_score  credit_utilisation  outstanding_debt  \\\n",
       "count  1000.000000   1000.000000         1000.000000       1000.000000   \n",
       "mean    500.500000    589.182000            0.498950       9683.597000   \n",
       "std     288.819436    152.284929            0.233139      25255.893671   \n",
       "min       1.000000    300.000000            0.103761         33.000000   \n",
       "25%     250.750000    460.000000            0.293917        221.000000   \n",
       "50%     500.500000    601.500000            0.487422        550.000000   \n",
       "75%     750.250000    738.000000            0.697829      11819.500000   \n",
       "max    1000.000000    799.000000            0.899648     209901.000000   \n",
       "\n",
       "       credit_inquiries_last_6_months  credit_limit  credit_limit_mode  \n",
       "count                     1000.000000    1000.00000        1000.000000  \n",
       "mean                         1.955000   19733.75000       19912.500000  \n",
       "std                          1.414559   24717.43818       24840.914633  \n",
       "min                          0.000000     500.00000         500.000000  \n",
       "25%                          1.000000     750.00000         750.000000  \n",
       "50%                          2.000000    1500.00000        1500.000000  \n",
       "75%                          3.000000   40000.00000       40000.000000  \n",
       "max                          4.000000   60000.00000       60000.000000  "
      ]
     },
     "execution_count": 46,
     "metadata": {},
     "output_type": "execute_result"
    }
   ],
   "source": [
    "df_cs_clean_3.describe()"
   ]
  },
  {
   "cell_type": "markdown",
   "id": "a8286524-c2b1-49f5-a31e-7c6a56afcfb5",
   "metadata": {},
   "source": [
    "#### Insights:\n",
    "Observing the minimum and maximum values for various columns reveals that the maximum value of outstanding_debt is greater than the maximum value of credit_limit. Based on business understanding, the maximum debt a customer can have is equal to the credit limit, as spending beyond the credit limit is not allowed."
   ]
  },
  {
   "cell_type": "code",
   "execution_count": 47,
   "id": "19e984d5-64bd-41ba-9961-d4e4617bc8f5",
   "metadata": {
    "scrolled": true
   },
   "outputs": [
    {
     "data": {
      "text/html": [
       "<div>\n",
       "<style scoped>\n",
       "    .dataframe tbody tr th:only-of-type {\n",
       "        vertical-align: middle;\n",
       "    }\n",
       "\n",
       "    .dataframe tbody tr th {\n",
       "        vertical-align: top;\n",
       "    }\n",
       "\n",
       "    .dataframe thead th {\n",
       "        text-align: right;\n",
       "    }\n",
       "</style>\n",
       "<table border=\"1\" class=\"dataframe\">\n",
       "  <thead>\n",
       "    <tr style=\"text-align: right;\">\n",
       "      <th></th>\n",
       "      <th>cust_id</th>\n",
       "      <th>credit_score</th>\n",
       "      <th>credit_utilisation</th>\n",
       "      <th>outstanding_debt</th>\n",
       "      <th>credit_inquiries_last_6_months</th>\n",
       "      <th>credit_limit</th>\n",
       "      <th>credit_score_range</th>\n",
       "      <th>credit_limit_mode</th>\n",
       "    </tr>\n",
       "  </thead>\n",
       "  <tbody>\n",
       "    <tr>\n",
       "      <th>1</th>\n",
       "      <td>2</td>\n",
       "      <td>587</td>\n",
       "      <td>0.107928</td>\n",
       "      <td>161644.0</td>\n",
       "      <td>2.0</td>\n",
       "      <td>1250.0</td>\n",
       "      <td>550-599</td>\n",
       "      <td>1250.0</td>\n",
       "    </tr>\n",
       "    <tr>\n",
       "      <th>19</th>\n",
       "      <td>20</td>\n",
       "      <td>647</td>\n",
       "      <td>0.439132</td>\n",
       "      <td>205014.0</td>\n",
       "      <td>3.0</td>\n",
       "      <td>1500.0</td>\n",
       "      <td>600-649</td>\n",
       "      <td>1500.0</td>\n",
       "    </tr>\n",
       "    <tr>\n",
       "      <th>25</th>\n",
       "      <td>26</td>\n",
       "      <td>758</td>\n",
       "      <td>0.250811</td>\n",
       "      <td>190838.0</td>\n",
       "      <td>2.0</td>\n",
       "      <td>60000.0</td>\n",
       "      <td>750-799</td>\n",
       "      <td>60000.0</td>\n",
       "    </tr>\n",
       "    <tr>\n",
       "      <th>38</th>\n",
       "      <td>39</td>\n",
       "      <td>734</td>\n",
       "      <td>0.573023</td>\n",
       "      <td>122758.0</td>\n",
       "      <td>3.0</td>\n",
       "      <td>40000.0</td>\n",
       "      <td>700-749</td>\n",
       "      <td>40000.0</td>\n",
       "    </tr>\n",
       "    <tr>\n",
       "      <th>93</th>\n",
       "      <td>94</td>\n",
       "      <td>737</td>\n",
       "      <td>0.739948</td>\n",
       "      <td>137058.0</td>\n",
       "      <td>2.0</td>\n",
       "      <td>40000.0</td>\n",
       "      <td>700-749</td>\n",
       "      <td>40000.0</td>\n",
       "    </tr>\n",
       "    <tr>\n",
       "      <th>204</th>\n",
       "      <td>205</td>\n",
       "      <td>303</td>\n",
       "      <td>0.364360</td>\n",
       "      <td>187849.0</td>\n",
       "      <td>0.0</td>\n",
       "      <td>500.0</td>\n",
       "      <td>300-449</td>\n",
       "      <td>500.0</td>\n",
       "    </tr>\n",
       "    <tr>\n",
       "      <th>271</th>\n",
       "      <td>272</td>\n",
       "      <td>703</td>\n",
       "      <td>0.446886</td>\n",
       "      <td>154568.0</td>\n",
       "      <td>1.0</td>\n",
       "      <td>40000.0</td>\n",
       "      <td>700-749</td>\n",
       "      <td>40000.0</td>\n",
       "    </tr>\n",
       "    <tr>\n",
       "      <th>301</th>\n",
       "      <td>302</td>\n",
       "      <td>722</td>\n",
       "      <td>0.608076</td>\n",
       "      <td>122402.0</td>\n",
       "      <td>4.0</td>\n",
       "      <td>40000.0</td>\n",
       "      <td>700-749</td>\n",
       "      <td>40000.0</td>\n",
       "    </tr>\n",
       "    <tr>\n",
       "      <th>330</th>\n",
       "      <td>331</td>\n",
       "      <td>799</td>\n",
       "      <td>0.363420</td>\n",
       "      <td>208898.0</td>\n",
       "      <td>4.0</td>\n",
       "      <td>60000.0</td>\n",
       "      <td>750-799</td>\n",
       "      <td>60000.0</td>\n",
       "    </tr>\n",
       "    <tr>\n",
       "      <th>350</th>\n",
       "      <td>351</td>\n",
       "      <td>320</td>\n",
       "      <td>0.285081</td>\n",
       "      <td>150860.0</td>\n",
       "      <td>0.0</td>\n",
       "      <td>500.0</td>\n",
       "      <td>300-449</td>\n",
       "      <td>500.0</td>\n",
       "    </tr>\n",
       "    <tr>\n",
       "      <th>446</th>\n",
       "      <td>447</td>\n",
       "      <td>754</td>\n",
       "      <td>0.178394</td>\n",
       "      <td>206191.0</td>\n",
       "      <td>2.0</td>\n",
       "      <td>60000.0</td>\n",
       "      <td>750-799</td>\n",
       "      <td>60000.0</td>\n",
       "    </tr>\n",
       "    <tr>\n",
       "      <th>544</th>\n",
       "      <td>545</td>\n",
       "      <td>764</td>\n",
       "      <td>0.337769</td>\n",
       "      <td>135112.0</td>\n",
       "      <td>2.0</td>\n",
       "      <td>60000.0</td>\n",
       "      <td>750-799</td>\n",
       "      <td>60000.0</td>\n",
       "    </tr>\n",
       "    <tr>\n",
       "      <th>636</th>\n",
       "      <td>637</td>\n",
       "      <td>420</td>\n",
       "      <td>0.323984</td>\n",
       "      <td>140063.0</td>\n",
       "      <td>4.0</td>\n",
       "      <td>500.0</td>\n",
       "      <td>300-449</td>\n",
       "      <td>500.0</td>\n",
       "    </tr>\n",
       "    <tr>\n",
       "      <th>646</th>\n",
       "      <td>647</td>\n",
       "      <td>498</td>\n",
       "      <td>0.658087</td>\n",
       "      <td>128818.0</td>\n",
       "      <td>3.0</td>\n",
       "      <td>750.0</td>\n",
       "      <td>450-499</td>\n",
       "      <td>750.0</td>\n",
       "    </tr>\n",
       "    <tr>\n",
       "      <th>698</th>\n",
       "      <td>699</td>\n",
       "      <td>775</td>\n",
       "      <td>0.385100</td>\n",
       "      <td>190717.0</td>\n",
       "      <td>2.0</td>\n",
       "      <td>60000.0</td>\n",
       "      <td>750-799</td>\n",
       "      <td>60000.0</td>\n",
       "    </tr>\n",
       "    <tr>\n",
       "      <th>723</th>\n",
       "      <td>724</td>\n",
       "      <td>465</td>\n",
       "      <td>0.658173</td>\n",
       "      <td>140008.0</td>\n",
       "      <td>3.0</td>\n",
       "      <td>750.0</td>\n",
       "      <td>450-499</td>\n",
       "      <td>750.0</td>\n",
       "    </tr>\n",
       "    <tr>\n",
       "      <th>725</th>\n",
       "      <td>726</td>\n",
       "      <td>737</td>\n",
       "      <td>0.136048</td>\n",
       "      <td>205404.0</td>\n",
       "      <td>4.0</td>\n",
       "      <td>40000.0</td>\n",
       "      <td>700-749</td>\n",
       "      <td>40000.0</td>\n",
       "    </tr>\n",
       "    <tr>\n",
       "      <th>730</th>\n",
       "      <td>731</td>\n",
       "      <td>626</td>\n",
       "      <td>0.762245</td>\n",
       "      <td>209901.0</td>\n",
       "      <td>2.0</td>\n",
       "      <td>1500.0</td>\n",
       "      <td>600-649</td>\n",
       "      <td>1500.0</td>\n",
       "    </tr>\n",
       "    <tr>\n",
       "      <th>766</th>\n",
       "      <td>767</td>\n",
       "      <td>473</td>\n",
       "      <td>0.611750</td>\n",
       "      <td>195004.0</td>\n",
       "      <td>1.0</td>\n",
       "      <td>750.0</td>\n",
       "      <td>450-499</td>\n",
       "      <td>750.0</td>\n",
       "    </tr>\n",
       "    <tr>\n",
       "      <th>862</th>\n",
       "      <td>863</td>\n",
       "      <td>792</td>\n",
       "      <td>0.399555</td>\n",
       "      <td>208406.0</td>\n",
       "      <td>3.0</td>\n",
       "      <td>60000.0</td>\n",
       "      <td>750-799</td>\n",
       "      <td>60000.0</td>\n",
       "    </tr>\n",
       "  </tbody>\n",
       "</table>\n",
       "</div>"
      ],
      "text/plain": [
       "     cust_id  credit_score  credit_utilisation  outstanding_debt  \\\n",
       "1          2           587            0.107928          161644.0   \n",
       "19        20           647            0.439132          205014.0   \n",
       "25        26           758            0.250811          190838.0   \n",
       "38        39           734            0.573023          122758.0   \n",
       "93        94           737            0.739948          137058.0   \n",
       "204      205           303            0.364360          187849.0   \n",
       "271      272           703            0.446886          154568.0   \n",
       "301      302           722            0.608076          122402.0   \n",
       "330      331           799            0.363420          208898.0   \n",
       "350      351           320            0.285081          150860.0   \n",
       "446      447           754            0.178394          206191.0   \n",
       "544      545           764            0.337769          135112.0   \n",
       "636      637           420            0.323984          140063.0   \n",
       "646      647           498            0.658087          128818.0   \n",
       "698      699           775            0.385100          190717.0   \n",
       "723      724           465            0.658173          140008.0   \n",
       "725      726           737            0.136048          205404.0   \n",
       "730      731           626            0.762245          209901.0   \n",
       "766      767           473            0.611750          195004.0   \n",
       "862      863           792            0.399555          208406.0   \n",
       "\n",
       "     credit_inquiries_last_6_months  credit_limit credit_score_range  \\\n",
       "1                               2.0        1250.0            550-599   \n",
       "19                              3.0        1500.0            600-649   \n",
       "25                              2.0       60000.0            750-799   \n",
       "38                              3.0       40000.0            700-749   \n",
       "93                              2.0       40000.0            700-749   \n",
       "204                             0.0         500.0            300-449   \n",
       "271                             1.0       40000.0            700-749   \n",
       "301                             4.0       40000.0            700-749   \n",
       "330                             4.0       60000.0            750-799   \n",
       "350                             0.0         500.0            300-449   \n",
       "446                             2.0       60000.0            750-799   \n",
       "544                             2.0       60000.0            750-799   \n",
       "636                             4.0         500.0            300-449   \n",
       "646                             3.0         750.0            450-499   \n",
       "698                             2.0       60000.0            750-799   \n",
       "723                             3.0         750.0            450-499   \n",
       "725                             4.0       40000.0            700-749   \n",
       "730                             2.0        1500.0            600-649   \n",
       "766                             1.0         750.0            450-499   \n",
       "862                             3.0       60000.0            750-799   \n",
       "\n",
       "     credit_limit_mode  \n",
       "1               1250.0  \n",
       "19              1500.0  \n",
       "25             60000.0  \n",
       "38             40000.0  \n",
       "93             40000.0  \n",
       "204              500.0  \n",
       "271            40000.0  \n",
       "301            40000.0  \n",
       "330            60000.0  \n",
       "350              500.0  \n",
       "446            60000.0  \n",
       "544            60000.0  \n",
       "636              500.0  \n",
       "646              750.0  \n",
       "698            60000.0  \n",
       "723              750.0  \n",
       "725            40000.0  \n",
       "730             1500.0  \n",
       "766              750.0  \n",
       "862            60000.0  "
      ]
     },
     "execution_count": 47,
     "metadata": {},
     "output_type": "execute_result"
    }
   ],
   "source": [
    "df_cs_clean_3[df_cs_clean_3['outstanding_debt']>df_cs_clean_3['credit_limit']]"
   ]
  },
  {
   "cell_type": "code",
   "execution_count": 48,
   "id": "7f4932f0-1401-4698-8342-6037ce88d0d3",
   "metadata": {},
   "outputs": [
    {
     "data": {
      "image/png": "[encoded data removed]",
      "text/plain": [
       "<Figure size 640x480 with 1 Axes>"
      ]
     },
     "metadata": {},
     "output_type": "display_data"
    }
   ],
   "source": [
    "# Create a box plot for the outstanding_debt column\n",
    "sns.boxplot(df_cs_clean_3.outstanding_debt)\n",
    "plt.title('Box plot for Outstanding Debt')\n",
    "plt.show()"
   ]
  },
  {
   "cell_type": "markdown",
   "id": "1598a002-2315-45d5-b0c9-68e58d6181d0",
   "metadata": {},
   "source": [
    "#### Insights:\n",
    "- There are several outliers with debts ranging from just above 50,000 to over 200,000, indicating that a small number of customers have exceptionally high outstanding debts.\n",
    "- The box plot shows that the majority of customers have relatively low outstanding debts, with the interquartile range (IQR) and whiskers showing the spread of the bulk of the data.\n",
    "- This visualization helps identify the typical range of outstanding debts and highlights the presence of significant outliers in the dataset.Instead of using any statistical approach (such as standard deviation or IQR),using business knowledge, any outstanding debt greater than the credit limit will be marked as an outlier."
   ]
  },
  {
   "cell_type": "code",
   "execution_count": 49,
   "id": "6d9169f4-f932-44b2-832c-bfd912cd6e8d",
   "metadata": {},
   "outputs": [],
   "source": [
    "df_cs_clean_3.loc[df_cs_clean_3['outstanding_debt']>df_cs_clean_3['credit_limit'], 'outstanding_debt'] = df_cs_clean_3['credit_limit']"
   ]
  },
  {
   "cell_type": "code",
   "execution_count": 50,
   "id": "61a8ad3e-3f41-4a02-b34e-3f2fb3d50bb7",
   "metadata": {},
   "outputs": [
    {
     "data": {
      "text/html": [
       "<div>\n",
       "<style scoped>\n",
       "    .dataframe tbody tr th:only-of-type {\n",
       "        vertical-align: middle;\n",
       "    }\n",
       "\n",
       "    .dataframe tbody tr th {\n",
       "        vertical-align: top;\n",
       "    }\n",
       "\n",
       "    .dataframe thead th {\n",
       "        text-align: right;\n",
       "    }\n",
       "</style>\n",
       "<table border=\"1\" class=\"dataframe\">\n",
       "  <thead>\n",
       "    <tr style=\"text-align: right;\">\n",
       "      <th></th>\n",
       "      <th>cust_id</th>\n",
       "      <th>credit_score</th>\n",
       "      <th>credit_utilisation</th>\n",
       "      <th>outstanding_debt</th>\n",
       "      <th>credit_inquiries_last_6_months</th>\n",
       "      <th>credit_limit</th>\n",
       "      <th>credit_score_range</th>\n",
       "      <th>credit_limit_mode</th>\n",
       "    </tr>\n",
       "  </thead>\n",
       "  <tbody>\n",
       "  </tbody>\n",
       "</table>\n",
       "</div>"
      ],
      "text/plain": [
       "Empty DataFrame\n",
       "Columns: [cust_id, credit_score, credit_utilisation, outstanding_debt, credit_inquiries_last_6_months, credit_limit, credit_score_range, credit_limit_mode]\n",
       "Index: []"
      ]
     },
     "execution_count": 50,
     "metadata": {},
     "output_type": "execute_result"
    }
   ],
   "source": [
    "df_cs_clean_3[df_cs_clean_3['outstanding_debt']>df_cs_clean_3['credit_limit']]"
   ]
  },
  {
   "cell_type": "markdown",
   "id": "5315a3ce-5fe0-4ce5-90c6-1b4d525d882c",
   "metadata": {},
   "source": [
    "### Correlation among Credit Profile variables"
   ]
  },
  {
   "cell_type": "code",
   "execution_count": 51,
   "id": "f3dd155f-edae-4338-a3c2-3ab38aa3ad98",
   "metadata": {},
   "outputs": [
    {
     "data": {
      "text/html": [
       "<div>\n",
       "<style scoped>\n",
       "    .dataframe tbody tr th:only-of-type {\n",
       "        vertical-align: middle;\n",
       "    }\n",
       "\n",
       "    .dataframe tbody tr th {\n",
       "        vertical-align: top;\n",
       "    }\n",
       "\n",
       "    .dataframe thead th {\n",
       "        text-align: right;\n",
       "    }\n",
       "</style>\n",
       "<table border=\"1\" class=\"dataframe\">\n",
       "  <thead>\n",
       "    <tr style=\"text-align: right;\">\n",
       "      <th></th>\n",
       "      <th>cust_id</th>\n",
       "      <th>credit_score</th>\n",
       "      <th>credit_utilisation</th>\n",
       "      <th>outstanding_debt</th>\n",
       "      <th>credit_inquiries_last_6_months</th>\n",
       "      <th>credit_limit</th>\n",
       "      <th>credit_score_range</th>\n",
       "      <th>credit_limit_mode</th>\n",
       "      <th>name</th>\n",
       "      <th>gender</th>\n",
       "      <th>age</th>\n",
       "      <th>location</th>\n",
       "      <th>occupation</th>\n",
       "      <th>annual_income</th>\n",
       "      <th>marital_status</th>\n",
       "      <th>age_group</th>\n",
       "    </tr>\n",
       "  </thead>\n",
       "  <tbody>\n",
       "    <tr>\n",
       "      <th>0</th>\n",
       "      <td>1</td>\n",
       "      <td>749</td>\n",
       "      <td>0.585171</td>\n",
       "      <td>19571.0</td>\n",
       "      <td>0.0</td>\n",
       "      <td>40000.0</td>\n",
       "      <td>700-749</td>\n",
       "      <td>40000.0</td>\n",
       "      <td>Manya Acharya</td>\n",
       "      <td>Female</td>\n",
       "      <td>32</td>\n",
       "      <td>City</td>\n",
       "      <td>Business Owner</td>\n",
       "      <td>358211.0</td>\n",
       "      <td>Married</td>\n",
       "      <td>26-48</td>\n",
       "    </tr>\n",
       "    <tr>\n",
       "      <th>1</th>\n",
       "      <td>2</td>\n",
       "      <td>587</td>\n",
       "      <td>0.107928</td>\n",
       "      <td>1250.0</td>\n",
       "      <td>2.0</td>\n",
       "      <td>1250.0</td>\n",
       "      <td>550-599</td>\n",
       "      <td>1250.0</td>\n",
       "      <td>Anjali Pandey</td>\n",
       "      <td>Female</td>\n",
       "      <td>47</td>\n",
       "      <td>City</td>\n",
       "      <td>Consultant</td>\n",
       "      <td>65172.0</td>\n",
       "      <td>Single</td>\n",
       "      <td>26-48</td>\n",
       "    </tr>\n",
       "    <tr>\n",
       "      <th>2</th>\n",
       "      <td>3</td>\n",
       "      <td>544</td>\n",
       "      <td>0.854807</td>\n",
       "      <td>513.0</td>\n",
       "      <td>4.0</td>\n",
       "      <td>1000.0</td>\n",
       "      <td>500-549</td>\n",
       "      <td>1000.0</td>\n",
       "      <td>Aaryan Chauhan</td>\n",
       "      <td>Male</td>\n",
       "      <td>21</td>\n",
       "      <td>City</td>\n",
       "      <td>Freelancer</td>\n",
       "      <td>22378.0</td>\n",
       "      <td>Married</td>\n",
       "      <td>18-25</td>\n",
       "    </tr>\n",
       "    <tr>\n",
       "      <th>3</th>\n",
       "      <td>4</td>\n",
       "      <td>504</td>\n",
       "      <td>0.336938</td>\n",
       "      <td>224.0</td>\n",
       "      <td>2.0</td>\n",
       "      <td>1000.0</td>\n",
       "      <td>500-549</td>\n",
       "      <td>1000.0</td>\n",
       "      <td>Rudra Bali</td>\n",
       "      <td>Male</td>\n",
       "      <td>24</td>\n",
       "      <td>Rural</td>\n",
       "      <td>Freelancer</td>\n",
       "      <td>33563.0</td>\n",
       "      <td>Married</td>\n",
       "      <td>18-25</td>\n",
       "    </tr>\n",
       "    <tr>\n",
       "      <th>4</th>\n",
       "      <td>5</td>\n",
       "      <td>708</td>\n",
       "      <td>0.586151</td>\n",
       "      <td>18090.0</td>\n",
       "      <td>2.0</td>\n",
       "      <td>40000.0</td>\n",
       "      <td>700-749</td>\n",
       "      <td>40000.0</td>\n",
       "      <td>Advait Malik</td>\n",
       "      <td>Male</td>\n",
       "      <td>48</td>\n",
       "      <td>City</td>\n",
       "      <td>Consultant</td>\n",
       "      <td>39406.0</td>\n",
       "      <td>Married</td>\n",
       "      <td>26-48</td>\n",
       "    </tr>\n",
       "  </tbody>\n",
       "</table>\n",
       "</div>"
      ],
      "text/plain": [
       "   cust_id  credit_score  credit_utilisation  outstanding_debt  \\\n",
       "0        1           749            0.585171           19571.0   \n",
       "1        2           587            0.107928            1250.0   \n",
       "2        3           544            0.854807             513.0   \n",
       "3        4           504            0.336938             224.0   \n",
       "4        5           708            0.586151           18090.0   \n",
       "\n",
       "   credit_inquiries_last_6_months  credit_limit credit_score_range  \\\n",
       "0                             0.0       40000.0            700-749   \n",
       "1                             2.0        1250.0            550-599   \n",
       "2                             4.0        1000.0            500-549   \n",
       "3                             2.0        1000.0            500-549   \n",
       "4                             2.0       40000.0            700-749   \n",
       "\n",
       "   credit_limit_mode            name  gender  age location      occupation  \\\n",
       "0            40000.0   Manya Acharya  Female   32     City  Business Owner   \n",
       "1             1250.0   Anjali Pandey  Female   47     City      Consultant   \n",
       "2             1000.0  Aaryan Chauhan    Male   21     City      Freelancer   \n",
       "3             1000.0      Rudra Bali    Male   24    Rural      Freelancer   \n",
       "4            40000.0    Advait Malik    Male   48     City      Consultant   \n",
       "\n",
       "   annual_income marital_status age_group  \n",
       "0       358211.0        Married     26-48  \n",
       "1        65172.0         Single     26-48  \n",
       "2        22378.0        Married     18-25  \n",
       "3        33563.0        Married     18-25  \n",
       "4        39406.0        Married     26-48  "
      ]
     },
     "execution_count": 51,
     "metadata": {},
     "output_type": "execute_result"
    }
   ],
   "source": [
    "df_merged = df_cs_clean_3.merge(df_cust, on = 'cust_id', how = 'inner')\n",
    "df_merged.head()"
   ]
  },
  {
   "cell_type": "code",
   "execution_count": 52,
   "id": "3ff379dc-7f81-458b-a4cc-c1189eefc4a1",
   "metadata": {},
   "outputs": [],
   "source": [
    "numerical_columns = ['credit_score', 'credit_utilisation', 'outstanding_debt', 'credit_limit', 'annual_income', 'age']"
   ]
  },
  {
   "cell_type": "code",
   "execution_count": 53,
   "id": "3091668c-b8a2-40eb-b5a5-d2b6fdae16a7",
   "metadata": {},
   "outputs": [
    {
     "data": {
      "text/html": [
       "<div>\n",
       "<style scoped>\n",
       "    .dataframe tbody tr th:only-of-type {\n",
       "        vertical-align: middle;\n",
       "    }\n",
       "\n",
       "    .dataframe tbody tr th {\n",
       "        vertical-align: top;\n",
       "    }\n",
       "\n",
       "    .dataframe thead th {\n",
       "        text-align: right;\n",
       "    }\n",
       "</style>\n",
       "<table border=\"1\" class=\"dataframe\">\n",
       "  <thead>\n",
       "    <tr style=\"text-align: right;\">\n",
       "      <th></th>\n",
       "      <th>credit_score</th>\n",
       "      <th>credit_utilisation</th>\n",
       "      <th>outstanding_debt</th>\n",
       "      <th>credit_limit</th>\n",
       "      <th>annual_income</th>\n",
       "      <th>age</th>\n",
       "    </tr>\n",
       "  </thead>\n",
       "  <tbody>\n",
       "    <tr>\n",
       "      <th>credit_score</th>\n",
       "      <td>1.000000</td>\n",
       "      <td>-0.070445</td>\n",
       "      <td>0.680654</td>\n",
       "      <td>0.847952</td>\n",
       "      <td>0.575685</td>\n",
       "      <td>0.439237</td>\n",
       "    </tr>\n",
       "    <tr>\n",
       "      <th>credit_utilisation</th>\n",
       "      <td>-0.070445</td>\n",
       "      <td>1.000000</td>\n",
       "      <td>0.192838</td>\n",
       "      <td>-0.080493</td>\n",
       "      <td>-0.086816</td>\n",
       "      <td>-0.017185</td>\n",
       "    </tr>\n",
       "    <tr>\n",
       "      <th>outstanding_debt</th>\n",
       "      <td>0.680654</td>\n",
       "      <td>0.192838</td>\n",
       "      <td>1.000000</td>\n",
       "      <td>0.810581</td>\n",
       "      <td>0.555077</td>\n",
       "      <td>0.444198</td>\n",
       "    </tr>\n",
       "    <tr>\n",
       "      <th>credit_limit</th>\n",
       "      <td>0.847952</td>\n",
       "      <td>-0.080493</td>\n",
       "      <td>0.810581</td>\n",
       "      <td>1.000000</td>\n",
       "      <td>0.684627</td>\n",
       "      <td>0.504766</td>\n",
       "    </tr>\n",
       "    <tr>\n",
       "      <th>annual_income</th>\n",
       "      <td>0.575685</td>\n",
       "      <td>-0.086816</td>\n",
       "      <td>0.555077</td>\n",
       "      <td>0.684627</td>\n",
       "      <td>1.000000</td>\n",
       "      <td>0.610175</td>\n",
       "    </tr>\n",
       "    <tr>\n",
       "      <th>age</th>\n",
       "      <td>0.439237</td>\n",
       "      <td>-0.017185</td>\n",
       "      <td>0.444198</td>\n",
       "      <td>0.504766</td>\n",
       "      <td>0.610175</td>\n",
       "      <td>1.000000</td>\n",
       "    </tr>\n",
       "  </tbody>\n",
       "</table>\n",
       "</div>"
      ],
      "text/plain": [
       "                    credit_score  credit_utilisation  outstanding_debt  \\\n",
       "credit_score            1.000000           -0.070445          0.680654   \n",
       "credit_utilisation     -0.070445            1.000000          0.192838   \n",
       "outstanding_debt        0.680654            0.192838          1.000000   \n",
       "credit_limit            0.847952           -0.080493          0.810581   \n",
       "annual_income           0.575685           -0.086816          0.555077   \n",
       "age                     0.439237           -0.017185          0.444198   \n",
       "\n",
       "                    credit_limit  annual_income       age  \n",
       "credit_score            0.847952       0.575685  0.439237  \n",
       "credit_utilisation     -0.080493      -0.086816 -0.017185  \n",
       "outstanding_debt        0.810581       0.555077  0.444198  \n",
       "credit_limit            1.000000       0.684627  0.504766  \n",
       "annual_income           0.684627       1.000000  0.610175  \n",
       "age                     0.504766       0.610175  1.000000  "
      ]
     },
     "execution_count": 53,
     "metadata": {},
     "output_type": "execute_result"
    }
   ],
   "source": [
    "correlation_matrix = df_merged[numerical_columns].corr()\n",
    "correlation_matrix"
   ]
  },
  {
   "cell_type": "code",
   "execution_count": 54,
   "id": "3a9c7b3f-b4d8-4067-9db0-a78f319532a7",
   "metadata": {},
   "outputs": [
    {
     "data": {
      "image/png": "[encoded data removed]",
      "text/plain": [
       "<Figure size 640x480 with 2 Axes>"
      ]
     },
     "metadata": {},
     "output_type": "display_data"
    }
   ],
   "source": [
    "sns.heatmap(correlation_matrix, fmt='.2g', linewidths=1, linecolor='white', annot=True,)\n",
    "plt.show()"
   ]
  },
  {
   "cell_type": "markdown",
   "id": "bfaf75b6-f4cf-4941-8ffe-1ca86bf399d7",
   "metadata": {},
   "source": [
    "#### Insights:\n",
    "- Credit Score and Credit Limit: A strong positive correlation (0.85) indicates that customers with higher credit scores are typically granted higher credit limits.\n",
    "- Outstanding Debt and Credit Limit: The high correlation (0.81) suggests that individuals with larger credit limits often carry higher levels of outstanding debt.\n",
    "- Credit Score and Outstanding Debt: A moderate positive correlation (0.68) implies that customers with higher credit scores also tend to manage higher amounts of debt, potentially reflecting stronger creditworthiness.\n",
    "- Annual Income and Age: With a correlation of 0.62, this relationship shows that older customers generally report higher annual incomes.\n",
    "- credit_utilisation shows negligible or slightly negative correlation with all other variables, suggesting that it behaves independently and may reflect individual credit usage patterns rather than financial strength."
   ]
  },
  {
   "cell_type": "markdown",
   "id": "54139836-8df5-49a2-9e80-6daa663386c5",
   "metadata": {},
   "source": [
    "<h4 style=\"color:blue\">Explore Transaction table</h4>"
   ]
  },
  {
   "cell_type": "code",
   "execution_count": 55,
   "id": "9d9fc1c3-442b-4455-aca8-c06770f72efb",
   "metadata": {},
   "outputs": [
    {
     "data": {
      "text/plain": [
       "Index(['tran_id', 'cust_id', 'tran_date', 'tran_amount', 'platform',\n",
       "       'product_category', 'payment_type'],\n",
       "      dtype='object')"
      ]
     },
     "execution_count": 55,
     "metadata": {},
     "output_type": "execute_result"
    }
   ],
   "source": [
    "df_trans.columns"
   ]
  },
  {
   "cell_type": "markdown",
   "id": "1cebf46a-db7b-4653-89d4-b36d39279c24",
   "metadata": {},
   "source": [
    "#### Dataset Information: df_transactions\n",
    "- tran_id: Unique identifier for each transaction record\n",
    "- cust_id: Identifier linking the transaction to a specific customer\n",
    "- tran_date: Date on which the transaction was executed\n",
    "- tran_amount: Monetary value of the transaction\n",
    "- platform: E-commerce platform where the transaction occurred (e.g., Flipkart, Amazon, Shopify, Alibaba)\n",
    "- product_category: Category of the purchased product (e.g., Electronics, Fashion & Apparel, Sports)\n",
    "- payment_type: Mode of payment used for the transaction (e.g., PhonePe, Credit Card, GPay, Net Banking)"
   ]
  },
  {
   "cell_type": "code",
   "execution_count": 56,
   "id": "db9c34ec-1949-4d30-b7f4-78839cabe5f9",
   "metadata": {},
   "outputs": [
    {
     "name": "stdout",
     "output_type": "stream",
     "text": [
      "(500000, 7)\n"
     ]
    }
   ],
   "source": [
    "print(df_trans.shape)"
   ]
  },
  {
   "cell_type": "code",
   "execution_count": 57,
   "id": "403cb33a-21a5-4ba6-af6d-cadf5330fe90",
   "metadata": {},
   "outputs": [
    {
     "data": {
      "text/plain": [
       "tran_id                0\n",
       "cust_id                0\n",
       "tran_date              0\n",
       "tran_amount            0\n",
       "platform            4941\n",
       "product_category       0\n",
       "payment_type           0\n",
       "dtype: int64"
      ]
     },
     "execution_count": 57,
     "metadata": {},
     "output_type": "execute_result"
    }
   ],
   "source": [
    "df_trans.isnull().sum()"
   ]
  },
  {
   "cell_type": "code",
   "execution_count": 58,
   "id": "880f27a1-1426-4dc3-922d-615be8ed1d75",
   "metadata": {},
   "outputs": [
    {
     "data": {
      "text/html": [
       "<div>\n",
       "<style scoped>\n",
       "    .dataframe tbody tr th:only-of-type {\n",
       "        vertical-align: middle;\n",
       "    }\n",
       "\n",
       "    .dataframe tbody tr th {\n",
       "        vertical-align: top;\n",
       "    }\n",
       "\n",
       "    .dataframe thead th {\n",
       "        text-align: right;\n",
       "    }\n",
       "</style>\n",
       "<table border=\"1\" class=\"dataframe\">\n",
       "  <thead>\n",
       "    <tr style=\"text-align: right;\">\n",
       "      <th></th>\n",
       "      <th>tran_id</th>\n",
       "      <th>cust_id</th>\n",
       "      <th>tran_date</th>\n",
       "      <th>tran_amount</th>\n",
       "      <th>platform</th>\n",
       "      <th>product_category</th>\n",
       "      <th>payment_type</th>\n",
       "    </tr>\n",
       "  </thead>\n",
       "  <tbody>\n",
       "    <tr>\n",
       "      <th>185269</th>\n",
       "      <td>185270</td>\n",
       "      <td>30</td>\n",
       "      <td>2023-04-02</td>\n",
       "      <td>36</td>\n",
       "      <td>Alibaba</td>\n",
       "      <td>Garden &amp; Outdoor</td>\n",
       "      <td>Net Banking</td>\n",
       "    </tr>\n",
       "    <tr>\n",
       "      <th>481430</th>\n",
       "      <td>481431</td>\n",
       "      <td>783</td>\n",
       "      <td>2023-08-27</td>\n",
       "      <td>672</td>\n",
       "      <td>Amazon</td>\n",
       "      <td>Electronics</td>\n",
       "      <td>Debit Card</td>\n",
       "    </tr>\n",
       "    <tr>\n",
       "      <th>313019</th>\n",
       "      <td>313020</td>\n",
       "      <td>174</td>\n",
       "      <td>2023-06-05</td>\n",
       "      <td>115</td>\n",
       "      <td>Flipkart</td>\n",
       "      <td>Fashion &amp; Apparel</td>\n",
       "      <td>Debit Card</td>\n",
       "    </tr>\n",
       "  </tbody>\n",
       "</table>\n",
       "</div>"
      ],
      "text/plain": [
       "        tran_id  cust_id   tran_date  tran_amount  platform  \\\n",
       "185269   185270       30  2023-04-02           36   Alibaba   \n",
       "481430   481431      783  2023-08-27          672    Amazon   \n",
       "313019   313020      174  2023-06-05          115  Flipkart   \n",
       "\n",
       "         product_category payment_type  \n",
       "185269   Garden & Outdoor  Net Banking  \n",
       "481430        Electronics   Debit Card  \n",
       "313019  Fashion & Apparel   Debit Card  "
      ]
     },
     "execution_count": 58,
     "metadata": {},
     "output_type": "execute_result"
    }
   ],
   "source": [
    "df_trans.sample(3)"
   ]
  },
  {
   "cell_type": "code",
   "execution_count": 59,
   "id": "d98d6682-81e3-4447-b765-5349936e3400",
   "metadata": {},
   "outputs": [
    {
     "data": {
      "text/plain": [
       "platform\n",
       "Amazon      151443\n",
       "Flipkart    122660\n",
       "Alibaba      73584\n",
       "Meesho       73271\n",
       "Shopify      39416\n",
       "Cred         24741\n",
       "Ebay          9944\n",
       "Name: count, dtype: int64"
      ]
     },
     "execution_count": 59,
     "metadata": {},
     "output_type": "execute_result"
    }
   ],
   "source": [
    "df_trans['platform'].value_counts()"
   ]
  },
  {
   "cell_type": "code",
   "execution_count": 60,
   "id": "5755fdb3-ef5e-455c-b8bd-a1bc635d7def",
   "metadata": {},
   "outputs": [
    {
     "data": {
      "text/plain": [
       "product_category\n",
       "Electronics               134535\n",
       "Fashion & Apparel         116892\n",
       "Kitchen Appliances         57353\n",
       "Beauty & Personal Care     56065\n",
       "Sports                     49704\n",
       "Home Decor                 38355\n",
       "Garden & Outdoor           23644\n",
       "Books                      13635\n",
       "Toys & Games                9817\n",
       "Name: count, dtype: int64"
      ]
     },
     "execution_count": 60,
     "metadata": {},
     "output_type": "execute_result"
    }
   ],
   "source": [
    "df_trans['product_category'].value_counts()"
   ]
  },
  {
   "cell_type": "code",
   "execution_count": 61,
   "id": "6246e448-9604-426f-8e3d-70ba117bb39e",
   "metadata": {},
   "outputs": [
    {
     "data": {
      "image/png": "[encoded data removed]",
      "text/plain": [
       "<Figure size 640x480 with 1 Axes>"
      ]
     },
     "metadata": {},
     "output_type": "display_data"
    }
   ],
   "source": [
    "# Create a count plot of product_category with a hue of platform\n",
    "sns.countplot(y=\"product_category\", hue=\"platform\", data=df_trans)\n",
    "plt.title('Product Category Count by Platform', fontsize=15)\n",
    "plt.xlabel('Count', fontsize=14)\n",
    "plt.ylabel('Product Category', fontsize=14)\n",
    "\n",
    "plt.legend(title='Platform', fontsize=12, title_fontsize=14)\n",
    "plt.xticks(fontsize=10)\n",
    "plt.yticks(fontsize=10)\n",
    "plt.show()"
   ]
  },
  {
   "cell_type": "markdown",
   "id": "33bd57d1-0851-452f-b977-589eb30eee79",
   "metadata": {},
   "source": [
    "#### Insights\n",
    "- Amazon emerges as the most frequently used platform across all product categories, with particularly strong dominance in Electronics, Fashion & Apparel, and Kitchen Appliances.\n",
    "\n",
    "- While Amazon leads overall, platforms such as Flipkart, Alibaba, and Shopify also show notable activity in specific categories. For example, Flipkart is actively used in Fashion & Apparel and Kitchen Appliances, while Alibaba shows a strong presence in Fashion & Apparel and Beauty & Personal Care.\n",
    "\n",
    "- Category Trends Across Platforms, Although category preferences vary by platform, Electronics and Fashion & Apparel stand out as the most commonly purchased product categories overall.\n",
    "\n",
    "- Handling Missing Platform Data: Considering Amazon's consistently high usage, imputing missing values in the platform column with \"Amazon\" appears to be a practical and data-supported approach."
   ]
  },
  {
   "cell_type": "code",
   "execution_count": 62,
   "id": "2653b6dd-a487-495f-b827-bddaa8044741",
   "metadata": {},
   "outputs": [
    {
     "data": {
      "text/plain": [
       "product_category\n",
       "Beauty & Personal Care    Amazon\n",
       "Books                     Amazon\n",
       "Electronics               Amazon\n",
       "Fashion & Apparel         Amazon\n",
       "Garden & Outdoor          Amazon\n",
       "Home Decor                Amazon\n",
       "Kitchen Appliances        Amazon\n",
       "Sports                    Amazon\n",
       "Toys & Games              Amazon\n",
       "Name: platform, dtype: object"
      ]
     },
     "execution_count": 62,
     "metadata": {},
     "output_type": "execute_result"
    }
   ],
   "source": [
    "df_grouped = df_trans.groupby('product_category')['platform'].agg(lambda x: x.mode().iloc[0])\n",
    "df_grouped"
   ]
  },
  {
   "cell_type": "code",
   "execution_count": 63,
   "id": "fc640db6-5eba-4db5-9db1-22df9dc8e246",
   "metadata": {},
   "outputs": [],
   "source": [
    "df_trans['platform'].fillna('Amazon', inplace = True)"
   ]
  },
  {
   "cell_type": "code",
   "execution_count": 64,
   "id": "0c388b2c-7d09-4c22-8944-9b8f9c05a30f",
   "metadata": {},
   "outputs": [
    {
     "data": {
      "text/plain": [
       "tran_id             0\n",
       "cust_id             0\n",
       "tran_date           0\n",
       "tran_amount         0\n",
       "platform            0\n",
       "product_category    0\n",
       "payment_type        0\n",
       "dtype: int64"
      ]
     },
     "execution_count": 64,
     "metadata": {},
     "output_type": "execute_result"
    }
   ],
   "source": [
    "df_trans.isnull().sum()"
   ]
  },
  {
   "cell_type": "code",
   "execution_count": 65,
   "id": "3ea8d716-af22-45d4-a32a-053cfdddb895",
   "metadata": {
    "scrolled": true
   },
   "outputs": [
    {
     "data": {
      "text/html": [
       "<div>\n",
       "<style scoped>\n",
       "    .dataframe tbody tr th:only-of-type {\n",
       "        vertical-align: middle;\n",
       "    }\n",
       "\n",
       "    .dataframe tbody tr th {\n",
       "        vertical-align: top;\n",
       "    }\n",
       "\n",
       "    .dataframe thead th {\n",
       "        text-align: right;\n",
       "    }\n",
       "</style>\n",
       "<table border=\"1\" class=\"dataframe\">\n",
       "  <thead>\n",
       "    <tr style=\"text-align: right;\">\n",
       "      <th></th>\n",
       "      <th>tran_id</th>\n",
       "      <th>cust_id</th>\n",
       "      <th>tran_amount</th>\n",
       "    </tr>\n",
       "  </thead>\n",
       "  <tbody>\n",
       "    <tr>\n",
       "      <th>count</th>\n",
       "      <td>500000.000000</td>\n",
       "      <td>500000.000000</td>\n",
       "      <td>500000.00000</td>\n",
       "    </tr>\n",
       "    <tr>\n",
       "      <th>mean</th>\n",
       "      <td>250000.500000</td>\n",
       "      <td>501.400428</td>\n",
       "      <td>3225.20733</td>\n",
       "    </tr>\n",
       "    <tr>\n",
       "      <th>std</th>\n",
       "      <td>144337.711635</td>\n",
       "      <td>288.641924</td>\n",
       "      <td>13098.74276</td>\n",
       "    </tr>\n",
       "    <tr>\n",
       "      <th>min</th>\n",
       "      <td>1.000000</td>\n",
       "      <td>1.000000</td>\n",
       "      <td>0.00000</td>\n",
       "    </tr>\n",
       "    <tr>\n",
       "      <th>25%</th>\n",
       "      <td>125000.750000</td>\n",
       "      <td>252.000000</td>\n",
       "      <td>64.00000</td>\n",
       "    </tr>\n",
       "    <tr>\n",
       "      <th>50%</th>\n",
       "      <td>250000.500000</td>\n",
       "      <td>502.000000</td>\n",
       "      <td>141.00000</td>\n",
       "    </tr>\n",
       "    <tr>\n",
       "      <th>75%</th>\n",
       "      <td>375000.250000</td>\n",
       "      <td>752.000000</td>\n",
       "      <td>397.00000</td>\n",
       "    </tr>\n",
       "    <tr>\n",
       "      <th>max</th>\n",
       "      <td>500000.000000</td>\n",
       "      <td>1000.000000</td>\n",
       "      <td>69999.00000</td>\n",
       "    </tr>\n",
       "  </tbody>\n",
       "</table>\n",
       "</div>"
      ],
      "text/plain": [
       "             tran_id        cust_id   tran_amount\n",
       "count  500000.000000  500000.000000  500000.00000\n",
       "mean   250000.500000     501.400428    3225.20733\n",
       "std    144337.711635     288.641924   13098.74276\n",
       "min         1.000000       1.000000       0.00000\n",
       "25%    125000.750000     252.000000      64.00000\n",
       "50%    250000.500000     502.000000     141.00000\n",
       "75%    375000.250000     752.000000     397.00000\n",
       "max    500000.000000    1000.000000   69999.00000"
      ]
     },
     "execution_count": 65,
     "metadata": {},
     "output_type": "execute_result"
    }
   ],
   "source": [
    "df_trans.describe()"
   ]
  },
  {
   "cell_type": "code",
   "execution_count": 66,
   "id": "b4d5f4d7-dd70-435d-ad58-dd79e44b8c9c",
   "metadata": {
    "scrolled": true
   },
   "outputs": [
    {
     "data": {
      "text/html": [
       "<div>\n",
       "<style scoped>\n",
       "    .dataframe tbody tr th:only-of-type {\n",
       "        vertical-align: middle;\n",
       "    }\n",
       "\n",
       "    .dataframe tbody tr th {\n",
       "        vertical-align: top;\n",
       "    }\n",
       "\n",
       "    .dataframe thead th {\n",
       "        text-align: right;\n",
       "    }\n",
       "</style>\n",
       "<table border=\"1\" class=\"dataframe\">\n",
       "  <thead>\n",
       "    <tr style=\"text-align: right;\">\n",
       "      <th></th>\n",
       "      <th>tran_id</th>\n",
       "      <th>cust_id</th>\n",
       "      <th>tran_date</th>\n",
       "      <th>tran_amount</th>\n",
       "      <th>platform</th>\n",
       "      <th>product_category</th>\n",
       "      <th>payment_type</th>\n",
       "    </tr>\n",
       "  </thead>\n",
       "  <tbody>\n",
       "    <tr>\n",
       "      <th>120</th>\n",
       "      <td>121</td>\n",
       "      <td>440</td>\n",
       "      <td>2023-01-01</td>\n",
       "      <td>0</td>\n",
       "      <td>Amazon</td>\n",
       "      <td>Electronics</td>\n",
       "      <td>Credit Card</td>\n",
       "    </tr>\n",
       "    <tr>\n",
       "      <th>141</th>\n",
       "      <td>142</td>\n",
       "      <td>839</td>\n",
       "      <td>2023-01-01</td>\n",
       "      <td>0</td>\n",
       "      <td>Amazon</td>\n",
       "      <td>Electronics</td>\n",
       "      <td>Credit Card</td>\n",
       "    </tr>\n",
       "    <tr>\n",
       "      <th>517</th>\n",
       "      <td>518</td>\n",
       "      <td>147</td>\n",
       "      <td>2023-01-01</td>\n",
       "      <td>0</td>\n",
       "      <td>Amazon</td>\n",
       "      <td>Electronics</td>\n",
       "      <td>Credit Card</td>\n",
       "    </tr>\n",
       "    <tr>\n",
       "      <th>533</th>\n",
       "      <td>534</td>\n",
       "      <td>891</td>\n",
       "      <td>2023-01-01</td>\n",
       "      <td>0</td>\n",
       "      <td>Amazon</td>\n",
       "      <td>Electronics</td>\n",
       "      <td>Credit Card</td>\n",
       "    </tr>\n",
       "    <tr>\n",
       "      <th>586</th>\n",
       "      <td>587</td>\n",
       "      <td>108</td>\n",
       "      <td>2023-01-01</td>\n",
       "      <td>0</td>\n",
       "      <td>Amazon</td>\n",
       "      <td>Electronics</td>\n",
       "      <td>Credit Card</td>\n",
       "    </tr>\n",
       "    <tr>\n",
       "      <th>...</th>\n",
       "      <td>...</td>\n",
       "      <td>...</td>\n",
       "      <td>...</td>\n",
       "      <td>...</td>\n",
       "      <td>...</td>\n",
       "      <td>...</td>\n",
       "      <td>...</td>\n",
       "    </tr>\n",
       "    <tr>\n",
       "      <th>499326</th>\n",
       "      <td>499327</td>\n",
       "      <td>695</td>\n",
       "      <td>2023-09-05</td>\n",
       "      <td>0</td>\n",
       "      <td>Amazon</td>\n",
       "      <td>Electronics</td>\n",
       "      <td>Credit Card</td>\n",
       "    </tr>\n",
       "    <tr>\n",
       "      <th>499494</th>\n",
       "      <td>499495</td>\n",
       "      <td>295</td>\n",
       "      <td>2023-09-05</td>\n",
       "      <td>0</td>\n",
       "      <td>Amazon</td>\n",
       "      <td>Electronics</td>\n",
       "      <td>Credit Card</td>\n",
       "    </tr>\n",
       "    <tr>\n",
       "      <th>499708</th>\n",
       "      <td>499709</td>\n",
       "      <td>141</td>\n",
       "      <td>2023-09-05</td>\n",
       "      <td>0</td>\n",
       "      <td>Amazon</td>\n",
       "      <td>Electronics</td>\n",
       "      <td>Credit Card</td>\n",
       "    </tr>\n",
       "    <tr>\n",
       "      <th>499928</th>\n",
       "      <td>499929</td>\n",
       "      <td>4</td>\n",
       "      <td>2023-09-05</td>\n",
       "      <td>0</td>\n",
       "      <td>Amazon</td>\n",
       "      <td>Electronics</td>\n",
       "      <td>Credit Card</td>\n",
       "    </tr>\n",
       "    <tr>\n",
       "      <th>499972</th>\n",
       "      <td>499973</td>\n",
       "      <td>224</td>\n",
       "      <td>2023-09-05</td>\n",
       "      <td>0</td>\n",
       "      <td>Amazon</td>\n",
       "      <td>Electronics</td>\n",
       "      <td>Credit Card</td>\n",
       "    </tr>\n",
       "  </tbody>\n",
       "</table>\n",
       "<p>4734 rows × 7 columns</p>\n",
       "</div>"
      ],
      "text/plain": [
       "        tran_id  cust_id   tran_date  tran_amount platform product_category  \\\n",
       "120         121      440  2023-01-01            0   Amazon      Electronics   \n",
       "141         142      839  2023-01-01            0   Amazon      Electronics   \n",
       "517         518      147  2023-01-01            0   Amazon      Electronics   \n",
       "533         534      891  2023-01-01            0   Amazon      Electronics   \n",
       "586         587      108  2023-01-01            0   Amazon      Electronics   \n",
       "...         ...      ...         ...          ...      ...              ...   \n",
       "499326   499327      695  2023-09-05            0   Amazon      Electronics   \n",
       "499494   499495      295  2023-09-05            0   Amazon      Electronics   \n",
       "499708   499709      141  2023-09-05            0   Amazon      Electronics   \n",
       "499928   499929        4  2023-09-05            0   Amazon      Electronics   \n",
       "499972   499973      224  2023-09-05            0   Amazon      Electronics   \n",
       "\n",
       "       payment_type  \n",
       "120     Credit Card  \n",
       "141     Credit Card  \n",
       "517     Credit Card  \n",
       "533     Credit Card  \n",
       "586     Credit Card  \n",
       "...             ...  \n",
       "499326  Credit Card  \n",
       "499494  Credit Card  \n",
       "499708  Credit Card  \n",
       "499928  Credit Card  \n",
       "499972  Credit Card  \n",
       "\n",
       "[4734 rows x 7 columns]"
      ]
     },
     "execution_count": 66,
     "metadata": {},
     "output_type": "execute_result"
    }
   ],
   "source": [
    "df_trans_zero = df_trans[df_trans.tran_amount == 0]\n",
    "df_trans_zero"
   ]
  },
  {
   "cell_type": "code",
   "execution_count": 67,
   "id": "7692762d-7e3f-424f-b15a-1238cfaeca4a",
   "metadata": {},
   "outputs": [
    {
     "data": {
      "text/plain": [
       "platform  product_category  payment_type\n",
       "Amazon    Electronics       Credit Card     4734\n",
       "Name: count, dtype: int64"
      ]
     },
     "execution_count": 67,
     "metadata": {},
     "output_type": "execute_result"
    }
   ],
   "source": [
    "df_trans_zero[['platform', 'product_category', 'payment_type']].value_counts()"
   ]
  },
  {
   "cell_type": "code",
   "execution_count": 68,
   "id": "551644f6-588b-4c02-94b4-c3fa0e2faeb5",
   "metadata": {},
   "outputs": [
    {
     "data": {
      "text/html": [
       "<div>\n",
       "<style scoped>\n",
       "    .dataframe tbody tr th:only-of-type {\n",
       "        vertical-align: middle;\n",
       "    }\n",
       "\n",
       "    .dataframe tbody tr th {\n",
       "        vertical-align: top;\n",
       "    }\n",
       "\n",
       "    .dataframe thead th {\n",
       "        text-align: right;\n",
       "    }\n",
       "</style>\n",
       "<table border=\"1\" class=\"dataframe\">\n",
       "  <thead>\n",
       "    <tr style=\"text-align: right;\">\n",
       "      <th></th>\n",
       "      <th>tran_id</th>\n",
       "      <th>cust_id</th>\n",
       "      <th>tran_date</th>\n",
       "      <th>tran_amount</th>\n",
       "      <th>platform</th>\n",
       "      <th>product_category</th>\n",
       "      <th>payment_type</th>\n",
       "    </tr>\n",
       "  </thead>\n",
       "  <tbody>\n",
       "    <tr>\n",
       "      <th>109</th>\n",
       "      <td>110</td>\n",
       "      <td>887</td>\n",
       "      <td>2023-01-01</td>\n",
       "      <td>635</td>\n",
       "      <td>Amazon</td>\n",
       "      <td>Electronics</td>\n",
       "      <td>Credit Card</td>\n",
       "    </tr>\n",
       "    <tr>\n",
       "      <th>120</th>\n",
       "      <td>121</td>\n",
       "      <td>440</td>\n",
       "      <td>2023-01-01</td>\n",
       "      <td>0</td>\n",
       "      <td>Amazon</td>\n",
       "      <td>Electronics</td>\n",
       "      <td>Credit Card</td>\n",
       "    </tr>\n",
       "    <tr>\n",
       "      <th>141</th>\n",
       "      <td>142</td>\n",
       "      <td>839</td>\n",
       "      <td>2023-01-01</td>\n",
       "      <td>0</td>\n",
       "      <td>Amazon</td>\n",
       "      <td>Electronics</td>\n",
       "      <td>Credit Card</td>\n",
       "    </tr>\n",
       "    <tr>\n",
       "      <th>173</th>\n",
       "      <td>174</td>\n",
       "      <td>676</td>\n",
       "      <td>2023-01-01</td>\n",
       "      <td>60439</td>\n",
       "      <td>Amazon</td>\n",
       "      <td>Electronics</td>\n",
       "      <td>Credit Card</td>\n",
       "    </tr>\n",
       "    <tr>\n",
       "      <th>190</th>\n",
       "      <td>191</td>\n",
       "      <td>763</td>\n",
       "      <td>2023-01-01</td>\n",
       "      <td>697</td>\n",
       "      <td>Amazon</td>\n",
       "      <td>Electronics</td>\n",
       "      <td>Credit Card</td>\n",
       "    </tr>\n",
       "    <tr>\n",
       "      <th>...</th>\n",
       "      <td>...</td>\n",
       "      <td>...</td>\n",
       "      <td>...</td>\n",
       "      <td>...</td>\n",
       "      <td>...</td>\n",
       "      <td>...</td>\n",
       "      <td>...</td>\n",
       "    </tr>\n",
       "    <tr>\n",
       "      <th>499812</th>\n",
       "      <td>499813</td>\n",
       "      <td>688</td>\n",
       "      <td>2023-09-05</td>\n",
       "      <td>425</td>\n",
       "      <td>Amazon</td>\n",
       "      <td>Electronics</td>\n",
       "      <td>Credit Card</td>\n",
       "    </tr>\n",
       "    <tr>\n",
       "      <th>499860</th>\n",
       "      <td>499861</td>\n",
       "      <td>373</td>\n",
       "      <td>2023-09-05</td>\n",
       "      <td>480</td>\n",
       "      <td>Amazon</td>\n",
       "      <td>Electronics</td>\n",
       "      <td>Credit Card</td>\n",
       "    </tr>\n",
       "    <tr>\n",
       "      <th>499885</th>\n",
       "      <td>499886</td>\n",
       "      <td>520</td>\n",
       "      <td>2023-09-05</td>\n",
       "      <td>643</td>\n",
       "      <td>Amazon</td>\n",
       "      <td>Electronics</td>\n",
       "      <td>Credit Card</td>\n",
       "    </tr>\n",
       "    <tr>\n",
       "      <th>499928</th>\n",
       "      <td>499929</td>\n",
       "      <td>4</td>\n",
       "      <td>2023-09-05</td>\n",
       "      <td>0</td>\n",
       "      <td>Amazon</td>\n",
       "      <td>Electronics</td>\n",
       "      <td>Credit Card</td>\n",
       "    </tr>\n",
       "    <tr>\n",
       "      <th>499972</th>\n",
       "      <td>499973</td>\n",
       "      <td>224</td>\n",
       "      <td>2023-09-05</td>\n",
       "      <td>0</td>\n",
       "      <td>Amazon</td>\n",
       "      <td>Electronics</td>\n",
       "      <td>Credit Card</td>\n",
       "    </tr>\n",
       "  </tbody>\n",
       "</table>\n",
       "<p>15637 rows × 7 columns</p>\n",
       "</div>"
      ],
      "text/plain": [
       "        tran_id  cust_id   tran_date  tran_amount platform product_category  \\\n",
       "109         110      887  2023-01-01          635   Amazon      Electronics   \n",
       "120         121      440  2023-01-01            0   Amazon      Electronics   \n",
       "141         142      839  2023-01-01            0   Amazon      Electronics   \n",
       "173         174      676  2023-01-01        60439   Amazon      Electronics   \n",
       "190         191      763  2023-01-01          697   Amazon      Electronics   \n",
       "...         ...      ...         ...          ...      ...              ...   \n",
       "499812   499813      688  2023-09-05          425   Amazon      Electronics   \n",
       "499860   499861      373  2023-09-05          480   Amazon      Electronics   \n",
       "499885   499886      520  2023-09-05          643   Amazon      Electronics   \n",
       "499928   499929        4  2023-09-05            0   Amazon      Electronics   \n",
       "499972   499973      224  2023-09-05            0   Amazon      Electronics   \n",
       "\n",
       "       payment_type  \n",
       "109     Credit Card  \n",
       "120     Credit Card  \n",
       "141     Credit Card  \n",
       "173     Credit Card  \n",
       "190     Credit Card  \n",
       "...             ...  \n",
       "499812  Credit Card  \n",
       "499860  Credit Card  \n",
       "499885  Credit Card  \n",
       "499928  Credit Card  \n",
       "499972  Credit Card  \n",
       "\n",
       "[15637 rows x 7 columns]"
      ]
     },
     "execution_count": 68,
     "metadata": {},
     "output_type": "execute_result"
    }
   ],
   "source": [
    "df_trans_1 = df_trans[(df_trans.platform == 'Amazon')&(df_trans.product_category == 'Electronics')&(df_trans.payment_type == 'Credit Card')]\n",
    "df_trans_1"
   ]
  },
  {
   "cell_type": "code",
   "execution_count": 69,
   "id": "d5311a51-2ed4-4378-bc9d-b88fd2a6a251",
   "metadata": {},
   "outputs": [
    {
     "data": {
      "text/plain": [
       "554.0"
      ]
     },
     "execution_count": 69,
     "metadata": {},
     "output_type": "execute_result"
    }
   ],
   "source": [
    "median_to_replace = float(df_trans_1[df_trans_1.tran_amount>0].tran_amount.median())\n",
    "median_to_replace"
   ]
  },
  {
   "cell_type": "code",
   "execution_count": 70,
   "id": "3b4491fd-abf0-4fb5-8e33-c45b6f816b41",
   "metadata": {},
   "outputs": [],
   "source": [
    "df_trans['tran_amount'].replace(0, median_to_replace, inplace = True)"
   ]
  },
  {
   "cell_type": "markdown",
   "id": "62dc6401-e5cd-4e0f-a732-e0bc07ae90da",
   "metadata": {},
   "source": [
    "#### Data Cleaning: Treat Outliers using IQR (Transaction Amount)"
   ]
  },
  {
   "cell_type": "code",
   "execution_count": 71,
   "id": "9761748b-f5f6-4783-b255-c4ca4c86278e",
   "metadata": {},
   "outputs": [
    {
     "data": {
      "text/html": [
       "<div>\n",
       "<style scoped>\n",
       "    .dataframe tbody tr th:only-of-type {\n",
       "        vertical-align: middle;\n",
       "    }\n",
       "\n",
       "    .dataframe tbody tr th {\n",
       "        vertical-align: top;\n",
       "    }\n",
       "\n",
       "    .dataframe thead th {\n",
       "        text-align: right;\n",
       "    }\n",
       "</style>\n",
       "<table border=\"1\" class=\"dataframe\">\n",
       "  <thead>\n",
       "    <tr style=\"text-align: right;\">\n",
       "      <th></th>\n",
       "      <th>tran_id</th>\n",
       "      <th>cust_id</th>\n",
       "      <th>tran_amount</th>\n",
       "    </tr>\n",
       "  </thead>\n",
       "  <tbody>\n",
       "    <tr>\n",
       "      <th>count</th>\n",
       "      <td>500000.000000</td>\n",
       "      <td>500000.000000</td>\n",
       "      <td>500000.000000</td>\n",
       "    </tr>\n",
       "    <tr>\n",
       "      <th>mean</th>\n",
       "      <td>250000.500000</td>\n",
       "      <td>501.400428</td>\n",
       "      <td>3230.452602</td>\n",
       "    </tr>\n",
       "    <tr>\n",
       "      <th>std</th>\n",
       "      <td>144337.711635</td>\n",
       "      <td>288.641924</td>\n",
       "      <td>13097.561071</td>\n",
       "    </tr>\n",
       "    <tr>\n",
       "      <th>min</th>\n",
       "      <td>1.000000</td>\n",
       "      <td>1.000000</td>\n",
       "      <td>2.000000</td>\n",
       "    </tr>\n",
       "    <tr>\n",
       "      <th>25%</th>\n",
       "      <td>125000.750000</td>\n",
       "      <td>252.000000</td>\n",
       "      <td>66.000000</td>\n",
       "    </tr>\n",
       "    <tr>\n",
       "      <th>50%</th>\n",
       "      <td>250000.500000</td>\n",
       "      <td>502.000000</td>\n",
       "      <td>146.000000</td>\n",
       "    </tr>\n",
       "    <tr>\n",
       "      <th>75%</th>\n",
       "      <td>375000.250000</td>\n",
       "      <td>752.000000</td>\n",
       "      <td>413.000000</td>\n",
       "    </tr>\n",
       "    <tr>\n",
       "      <th>max</th>\n",
       "      <td>500000.000000</td>\n",
       "      <td>1000.000000</td>\n",
       "      <td>69999.000000</td>\n",
       "    </tr>\n",
       "  </tbody>\n",
       "</table>\n",
       "</div>"
      ],
      "text/plain": [
       "             tran_id        cust_id    tran_amount\n",
       "count  500000.000000  500000.000000  500000.000000\n",
       "mean   250000.500000     501.400428    3230.452602\n",
       "std    144337.711635     288.641924   13097.561071\n",
       "min         1.000000       1.000000       2.000000\n",
       "25%    125000.750000     252.000000      66.000000\n",
       "50%    250000.500000     502.000000     146.000000\n",
       "75%    375000.250000     752.000000     413.000000\n",
       "max    500000.000000    1000.000000   69999.000000"
      ]
     },
     "execution_count": 71,
     "metadata": {},
     "output_type": "execute_result"
    }
   ],
   "source": [
    "df_trans.describe()"
   ]
  },
  {
   "cell_type": "code",
   "execution_count": 72,
   "id": "e73626a4-dfd5-422d-9bed-27f23b67188f",
   "metadata": {
    "scrolled": true
   },
   "outputs": [
    {
     "data": {
      "image/png": "[encoded data removed]",
      "text/plain": [
       "<Figure size 640x480 with 1 Axes>"
      ]
     },
     "metadata": {},
     "output_type": "display_data"
    }
   ],
   "source": [
    "sns.histplot(df_trans[df_trans['tran_amount']<10000].tran_amount,bins=30)\n",
    "plt.show()"
   ]
  },
  {
   "cell_type": "code",
   "execution_count": 73,
   "id": "1850a8f6-f86e-4356-9eab-fc3f7590255d",
   "metadata": {},
   "outputs": [
    {
     "data": {
      "text/plain": [
       "(-628.0, 1107.0)"
      ]
     },
     "execution_count": 73,
     "metadata": {},
     "output_type": "execute_result"
    }
   ],
   "source": [
    "q1, q3 = df_trans['tran_amount'].quantile([0.25,0.75])\n",
    "IQR = q3 -q1\n",
    "lower = q1 - 2*IQR\n",
    "upper = q3 + 2*IQR\n",
    "lower, upper"
   ]
  },
  {
   "cell_type": "code",
   "execution_count": 74,
   "id": "22780f03-03b4-4ada-a136-fb42d4a66c24",
   "metadata": {},
   "outputs": [
    {
     "data": {
      "text/plain": [
       "(25000, 7)"
      ]
     },
     "execution_count": 74,
     "metadata": {},
     "output_type": "execute_result"
    }
   ],
   "source": [
    "df_trans_outliers = df_trans[df_trans['tran_amount'] > 1107.0]\n",
    "df_trans_outliers.shape"
   ]
  },
  {
   "cell_type": "code",
   "execution_count": 75,
   "id": "97af7c90-415d-4eef-aabc-cb87ac78d29c",
   "metadata": {},
   "outputs": [
    {
     "data": {
      "text/html": [
       "<div>\n",
       "<style scoped>\n",
       "    .dataframe tbody tr th:only-of-type {\n",
       "        vertical-align: middle;\n",
       "    }\n",
       "\n",
       "    .dataframe tbody tr th {\n",
       "        vertical-align: top;\n",
       "    }\n",
       "\n",
       "    .dataframe thead th {\n",
       "        text-align: right;\n",
       "    }\n",
       "</style>\n",
       "<table border=\"1\" class=\"dataframe\">\n",
       "  <thead>\n",
       "    <tr style=\"text-align: right;\">\n",
       "      <th></th>\n",
       "      <th>tran_id</th>\n",
       "      <th>cust_id</th>\n",
       "      <th>tran_date</th>\n",
       "      <th>tran_amount</th>\n",
       "      <th>platform</th>\n",
       "      <th>product_category</th>\n",
       "      <th>payment_type</th>\n",
       "    </tr>\n",
       "  </thead>\n",
       "  <tbody>\n",
       "    <tr>\n",
       "      <th>0</th>\n",
       "      <td>1</td>\n",
       "      <td>705</td>\n",
       "      <td>2023-01-01</td>\n",
       "      <td>63</td>\n",
       "      <td>Flipkart</td>\n",
       "      <td>Electronics</td>\n",
       "      <td>Phonepe</td>\n",
       "    </tr>\n",
       "    <tr>\n",
       "      <th>1</th>\n",
       "      <td>2</td>\n",
       "      <td>385</td>\n",
       "      <td>2023-01-01</td>\n",
       "      <td>99</td>\n",
       "      <td>Alibaba</td>\n",
       "      <td>Fashion &amp; Apparel</td>\n",
       "      <td>Credit Card</td>\n",
       "    </tr>\n",
       "    <tr>\n",
       "      <th>2</th>\n",
       "      <td>3</td>\n",
       "      <td>924</td>\n",
       "      <td>2023-01-01</td>\n",
       "      <td>471</td>\n",
       "      <td>Shopify</td>\n",
       "      <td>Sports</td>\n",
       "      <td>Phonepe</td>\n",
       "    </tr>\n",
       "    <tr>\n",
       "      <th>3</th>\n",
       "      <td>4</td>\n",
       "      <td>797</td>\n",
       "      <td>2023-01-01</td>\n",
       "      <td>33</td>\n",
       "      <td>Shopify</td>\n",
       "      <td>Fashion &amp; Apparel</td>\n",
       "      <td>Gpay</td>\n",
       "    </tr>\n",
       "    <tr>\n",
       "      <th>4</th>\n",
       "      <td>5</td>\n",
       "      <td>482</td>\n",
       "      <td>2023-01-01</td>\n",
       "      <td>68</td>\n",
       "      <td>Amazon</td>\n",
       "      <td>Fashion &amp; Apparel</td>\n",
       "      <td>Net Banking</td>\n",
       "    </tr>\n",
       "  </tbody>\n",
       "</table>\n",
       "</div>"
      ],
      "text/plain": [
       "   tran_id  cust_id   tran_date  tran_amount  platform   product_category  \\\n",
       "0        1      705  2023-01-01           63  Flipkart        Electronics   \n",
       "1        2      385  2023-01-01           99   Alibaba  Fashion & Apparel   \n",
       "2        3      924  2023-01-01          471   Shopify             Sports   \n",
       "3        4      797  2023-01-01           33   Shopify  Fashion & Apparel   \n",
       "4        5      482  2023-01-01           68    Amazon  Fashion & Apparel   \n",
       "\n",
       "  payment_type  \n",
       "0      Phonepe  \n",
       "1  Credit Card  \n",
       "2      Phonepe  \n",
       "3         Gpay  \n",
       "4  Net Banking  "
      ]
     },
     "execution_count": 75,
     "metadata": {},
     "output_type": "execute_result"
    }
   ],
   "source": [
    "df_trans_normal = df_trans[df_trans['tran_amount'] < 1107.0]\n",
    "df_trans_normal.head()"
   ]
  },
  {
   "cell_type": "code",
   "execution_count": 76,
   "id": "a7ab9b2f-2551-42e8-b771-93994f99ee7f",
   "metadata": {},
   "outputs": [
    {
     "data": {
      "text/plain": [
       "product_category\n",
       "Beauty & Personal Care     92.167205\n",
       "Books                      29.553515\n",
       "Electronics               510.172685\n",
       "Fashion & Apparel          64.553463\n",
       "Garden & Outdoor          125.630277\n",
       "Home Decor                302.487561\n",
       "Kitchen Appliances        176.773288\n",
       "Sports                    269.181631\n",
       "Toys & Games               50.333298\n",
       "Name: tran_amount, dtype: float64"
      ]
     },
     "execution_count": 76,
     "metadata": {},
     "output_type": "execute_result"
    }
   ],
   "source": [
    "mean_to_replace = df_trans_normal.groupby('product_category')['tran_amount'].mean()\n",
    "mean_to_replace"
   ]
  },
  {
   "cell_type": "code",
   "execution_count": 77,
   "id": "6423dede-97ab-4368-80a8-2849991e9202",
   "metadata": {},
   "outputs": [],
   "source": [
    "df_trans.loc[df_trans_outliers.index, 'tran_amount'] = df_trans_outliers['product_category'].map(mean_to_replace)"
   ]
  },
  {
   "cell_type": "code",
   "execution_count": 78,
   "id": "9a5a40d6-6e89-4deb-b8e8-f5c56a256313",
   "metadata": {},
   "outputs": [
    {
     "data": {
      "text/html": [
       "<div>\n",
       "<style scoped>\n",
       "    .dataframe tbody tr th:only-of-type {\n",
       "        vertical-align: middle;\n",
       "    }\n",
       "\n",
       "    .dataframe tbody tr th {\n",
       "        vertical-align: top;\n",
       "    }\n",
       "\n",
       "    .dataframe thead th {\n",
       "        text-align: right;\n",
       "    }\n",
       "</style>\n",
       "<table border=\"1\" class=\"dataframe\">\n",
       "  <thead>\n",
       "    <tr style=\"text-align: right;\">\n",
       "      <th></th>\n",
       "      <th>tran_id</th>\n",
       "      <th>cust_id</th>\n",
       "      <th>tran_date</th>\n",
       "      <th>tran_amount</th>\n",
       "      <th>platform</th>\n",
       "      <th>product_category</th>\n",
       "      <th>payment_type</th>\n",
       "    </tr>\n",
       "  </thead>\n",
       "  <tbody>\n",
       "    <tr>\n",
       "      <th>26</th>\n",
       "      <td>27</td>\n",
       "      <td>380</td>\n",
       "      <td>2023-01-01</td>\n",
       "      <td>92.167205</td>\n",
       "      <td>Shopify</td>\n",
       "      <td>Beauty &amp; Personal Care</td>\n",
       "      <td>Credit Card</td>\n",
       "    </tr>\n",
       "    <tr>\n",
       "      <th>49</th>\n",
       "      <td>50</td>\n",
       "      <td>287</td>\n",
       "      <td>2023-01-01</td>\n",
       "      <td>50.333298</td>\n",
       "      <td>Amazon</td>\n",
       "      <td>Toys &amp; Games</td>\n",
       "      <td>Gpay</td>\n",
       "    </tr>\n",
       "    <tr>\n",
       "      <th>94</th>\n",
       "      <td>95</td>\n",
       "      <td>770</td>\n",
       "      <td>2023-01-01</td>\n",
       "      <td>176.773288</td>\n",
       "      <td>Ebay</td>\n",
       "      <td>Kitchen Appliances</td>\n",
       "      <td>Credit Card</td>\n",
       "    </tr>\n",
       "    <tr>\n",
       "      <th>104</th>\n",
       "      <td>105</td>\n",
       "      <td>549</td>\n",
       "      <td>2023-01-01</td>\n",
       "      <td>64.553463</td>\n",
       "      <td>Flipkart</td>\n",
       "      <td>Fashion &amp; Apparel</td>\n",
       "      <td>Gpay</td>\n",
       "    </tr>\n",
       "    <tr>\n",
       "      <th>113</th>\n",
       "      <td>114</td>\n",
       "      <td>790</td>\n",
       "      <td>2023-01-01</td>\n",
       "      <td>176.773288</td>\n",
       "      <td>Shopify</td>\n",
       "      <td>Kitchen Appliances</td>\n",
       "      <td>Credit Card</td>\n",
       "    </tr>\n",
       "    <tr>\n",
       "      <th>...</th>\n",
       "      <td>...</td>\n",
       "      <td>...</td>\n",
       "      <td>...</td>\n",
       "      <td>...</td>\n",
       "      <td>...</td>\n",
       "      <td>...</td>\n",
       "      <td>...</td>\n",
       "    </tr>\n",
       "    <tr>\n",
       "      <th>499742</th>\n",
       "      <td>499743</td>\n",
       "      <td>868</td>\n",
       "      <td>2023-09-05</td>\n",
       "      <td>64.553463</td>\n",
       "      <td>Meesho</td>\n",
       "      <td>Fashion &amp; Apparel</td>\n",
       "      <td>Gpay</td>\n",
       "    </tr>\n",
       "    <tr>\n",
       "      <th>499888</th>\n",
       "      <td>499889</td>\n",
       "      <td>614</td>\n",
       "      <td>2023-09-05</td>\n",
       "      <td>64.553463</td>\n",
       "      <td>Meesho</td>\n",
       "      <td>Fashion &amp; Apparel</td>\n",
       "      <td>Net Banking</td>\n",
       "    </tr>\n",
       "    <tr>\n",
       "      <th>499900</th>\n",
       "      <td>499901</td>\n",
       "      <td>811</td>\n",
       "      <td>2023-09-05</td>\n",
       "      <td>269.181631</td>\n",
       "      <td>Flipkart</td>\n",
       "      <td>Sports</td>\n",
       "      <td>Debit Card</td>\n",
       "    </tr>\n",
       "    <tr>\n",
       "      <th>499966</th>\n",
       "      <td>499967</td>\n",
       "      <td>662</td>\n",
       "      <td>2023-09-05</td>\n",
       "      <td>269.181631</td>\n",
       "      <td>Meesho</td>\n",
       "      <td>Sports</td>\n",
       "      <td>Gpay</td>\n",
       "    </tr>\n",
       "    <tr>\n",
       "      <th>499996</th>\n",
       "      <td>499997</td>\n",
       "      <td>569</td>\n",
       "      <td>2023-09-05</td>\n",
       "      <td>64.553463</td>\n",
       "      <td>Meesho</td>\n",
       "      <td>Fashion &amp; Apparel</td>\n",
       "      <td>Net Banking</td>\n",
       "    </tr>\n",
       "  </tbody>\n",
       "</table>\n",
       "<p>25000 rows × 7 columns</p>\n",
       "</div>"
      ],
      "text/plain": [
       "        tran_id  cust_id   tran_date  tran_amount  platform  \\\n",
       "26           27      380  2023-01-01    92.167205   Shopify   \n",
       "49           50      287  2023-01-01    50.333298    Amazon   \n",
       "94           95      770  2023-01-01   176.773288      Ebay   \n",
       "104         105      549  2023-01-01    64.553463  Flipkart   \n",
       "113         114      790  2023-01-01   176.773288   Shopify   \n",
       "...         ...      ...         ...          ...       ...   \n",
       "499742   499743      868  2023-09-05    64.553463    Meesho   \n",
       "499888   499889      614  2023-09-05    64.553463    Meesho   \n",
       "499900   499901      811  2023-09-05   269.181631  Flipkart   \n",
       "499966   499967      662  2023-09-05   269.181631    Meesho   \n",
       "499996   499997      569  2023-09-05    64.553463    Meesho   \n",
       "\n",
       "              product_category payment_type  \n",
       "26      Beauty & Personal Care  Credit Card  \n",
       "49                Toys & Games         Gpay  \n",
       "94          Kitchen Appliances  Credit Card  \n",
       "104          Fashion & Apparel         Gpay  \n",
       "113         Kitchen Appliances  Credit Card  \n",
       "...                        ...          ...  \n",
       "499742       Fashion & Apparel         Gpay  \n",
       "499888       Fashion & Apparel  Net Banking  \n",
       "499900                  Sports   Debit Card  \n",
       "499966                  Sports         Gpay  \n",
       "499996       Fashion & Apparel  Net Banking  \n",
       "\n",
       "[25000 rows x 7 columns]"
      ]
     },
     "execution_count": 78,
     "metadata": {},
     "output_type": "execute_result"
    }
   ],
   "source": [
    "df_trans.loc[df_trans_outliers.index]"
   ]
  },
  {
   "cell_type": "code",
   "execution_count": 79,
   "id": "a8c7e1d9-b8c6-4c3b-9121-832074288577",
   "metadata": {},
   "outputs": [
    {
     "data": {
      "image/png": "[encoded data removed]",
      "text/plain": [
       "<Figure size 640x480 with 1 Axes>"
      ]
     },
     "metadata": {},
     "output_type": "display_data"
    }
   ],
   "source": [
    "sns.histplot(df_trans[df_trans['tran_amount']<10000].tran_amount,bins=20,kde=True)\n",
    "plt.show()"
   ]
  },
  {
   "cell_type": "markdown",
   "id": "1ba43435-debd-475f-a3e1-cec73f9b05ca",
   "metadata": {},
   "source": [
    "#### Insights:\n",
    "- Right-Skewed Distribution: The distribution of transaction amounts is right-skewed, with the majority of transactions being of smaller amounts.\n",
    "\n",
    "- High Frequency of Small Transactions: The highest frequency of transactions is within the lower range, particularly between 0 and 100."
   ]
  },
  {
   "cell_type": "markdown",
   "id": "e4fa5692-9228-4cb2-a233-6709c235c0e5",
   "metadata": {},
   "source": [
    "### Data Visualization: Transactions Table"
   ]
  },
  {
   "cell_type": "code",
   "execution_count": 80,
   "id": "2803a886-df8a-4c8c-addb-72b63b4457b0",
   "metadata": {
    "scrolled": true
   },
   "outputs": [
    {
     "data": {
      "image/png": "[encoded data removed]",
      "text/plain": [
       "<Figure size 640x480 with 1 Axes>"
      ]
     },
     "metadata": {},
     "output_type": "display_data"
    }
   ],
   "source": [
    "sns.countplot(x=df_trans.payment_type,palette = 'tab10')\n",
    "plt.show()"
   ]
  },
  {
   "cell_type": "markdown",
   "id": "1181b6e6-fb7e-4c96-a9a5-2009ade74577",
   "metadata": {},
   "source": [
    "#### Insights\n",
    "- PhonePe is the most widely used payment method, indicating a strong preference for UPI-based mobile wallets among customers.\n",
    "- Credit Card usage closely follows PhonePe, suggesting that a significant portion of users still rely on traditional credit based transactions , possibly for benefits like EMI options or reward points.\n",
    "- GPay holds a solid third position, further confirming the growing adoption of UPI and mobile-first payment solutions.\n",
    "- Debit Cards (11.9%) and Net Banking (8.6%) are used less frequently, showing that customers are increasingly shifting away from conventional banking methods for online purchases.\n",
    "- Cash is almost negligible, underscoring a near-complete shift toward digital payments."
   ]
  },
  {
   "cell_type": "code",
   "execution_count": 81,
   "id": "590f3deb-38ea-4dec-acb2-721e48b35e08",
   "metadata": {},
   "outputs": [
    {
     "data": {
      "text/html": [
       "<div>\n",
       "<style scoped>\n",
       "    .dataframe tbody tr th:only-of-type {\n",
       "        vertical-align: middle;\n",
       "    }\n",
       "\n",
       "    .dataframe tbody tr th {\n",
       "        vertical-align: top;\n",
       "    }\n",
       "\n",
       "    .dataframe thead th {\n",
       "        text-align: right;\n",
       "    }\n",
       "</style>\n",
       "<table border=\"1\" class=\"dataframe\">\n",
       "  <thead>\n",
       "    <tr style=\"text-align: right;\">\n",
       "      <th></th>\n",
       "      <th>tran_id</th>\n",
       "      <th>cust_id</th>\n",
       "      <th>tran_date</th>\n",
       "      <th>tran_amount</th>\n",
       "      <th>platform</th>\n",
       "      <th>product_category</th>\n",
       "      <th>payment_type</th>\n",
       "      <th>name</th>\n",
       "      <th>gender</th>\n",
       "      <th>age</th>\n",
       "      <th>location</th>\n",
       "      <th>occupation</th>\n",
       "      <th>annual_income</th>\n",
       "      <th>marital_status</th>\n",
       "      <th>age_group</th>\n",
       "    </tr>\n",
       "  </thead>\n",
       "  <tbody>\n",
       "    <tr>\n",
       "      <th>325676</th>\n",
       "      <td>325677</td>\n",
       "      <td>486</td>\n",
       "      <td>2023-06-11</td>\n",
       "      <td>72.0</td>\n",
       "      <td>Amazon</td>\n",
       "      <td>Beauty &amp; Personal Care</td>\n",
       "      <td>Credit Card</td>\n",
       "      <td>Aahan Batra</td>\n",
       "      <td>Male</td>\n",
       "      <td>53</td>\n",
       "      <td>City</td>\n",
       "      <td>Business Owner</td>\n",
       "      <td>415191.0</td>\n",
       "      <td>Married</td>\n",
       "      <td>49-65</td>\n",
       "    </tr>\n",
       "    <tr>\n",
       "      <th>293747</th>\n",
       "      <td>293748</td>\n",
       "      <td>142</td>\n",
       "      <td>2023-05-26</td>\n",
       "      <td>158.0</td>\n",
       "      <td>Flipkart</td>\n",
       "      <td>Electronics</td>\n",
       "      <td>Gpay</td>\n",
       "      <td>Suhani Raj</td>\n",
       "      <td>Female</td>\n",
       "      <td>19</td>\n",
       "      <td>City</td>\n",
       "      <td>Freelancer</td>\n",
       "      <td>43235.0</td>\n",
       "      <td>Married</td>\n",
       "      <td>18-25</td>\n",
       "    </tr>\n",
       "    <tr>\n",
       "      <th>98844</th>\n",
       "      <td>98845</td>\n",
       "      <td>346</td>\n",
       "      <td>2023-02-18</td>\n",
       "      <td>8.0</td>\n",
       "      <td>Amazon</td>\n",
       "      <td>Toys &amp; Games</td>\n",
       "      <td>Gpay</td>\n",
       "      <td>Sara Dhawan</td>\n",
       "      <td>Female</td>\n",
       "      <td>29</td>\n",
       "      <td>City</td>\n",
       "      <td>Fullstack Developer</td>\n",
       "      <td>99499.0</td>\n",
       "      <td>Single</td>\n",
       "      <td>26-48</td>\n",
       "    </tr>\n",
       "  </tbody>\n",
       "</table>\n",
       "</div>"
      ],
      "text/plain": [
       "        tran_id  cust_id   tran_date  tran_amount  platform  \\\n",
       "325676   325677      486  2023-06-11         72.0    Amazon   \n",
       "293747   293748      142  2023-05-26        158.0  Flipkart   \n",
       "98844     98845      346  2023-02-18          8.0    Amazon   \n",
       "\n",
       "              product_category payment_type         name  gender  age  \\\n",
       "325676  Beauty & Personal Care  Credit Card  Aahan Batra    Male   53   \n",
       "293747             Electronics         Gpay   Suhani Raj  Female   19   \n",
       "98844             Toys & Games         Gpay  Sara Dhawan  Female   29   \n",
       "\n",
       "       location           occupation  annual_income marital_status age_group  \n",
       "325676     City       Business Owner       415191.0        Married     49-65  \n",
       "293747     City           Freelancer        43235.0        Married     18-25  \n",
       "98844      City  Fullstack Developer        99499.0         Single     26-48  "
      ]
     },
     "execution_count": 81,
     "metadata": {},
     "output_type": "execute_result"
    }
   ],
   "source": [
    "df_merge = pd.merge(df_trans, df_cust, on = 'cust_id', how = 'inner')\n",
    "df_merge.sample(3)"
   ]
  },
  {
   "cell_type": "code",
   "execution_count": 83,
   "id": "44616eb5-acf9-40f4-842c-e21058da5b84",
   "metadata": {},
   "outputs": [
    {
     "data": {
      "image/png": "[encoded data removed]",
      "text/plain": [
       "<Figure size 640x480 with 1 Axes>"
      ]
     },
     "metadata": {},
     "output_type": "display_data"
    }
   ],
   "source": [
    "sns.countplot(data=df_merge, x='age_group', hue='payment_type')\n",
    "plt.title('Payment Type by Age Group')\n",
    "plt.tight_layout()\n",
    "plt.show()"
   ]
  },
  {
   "cell_type": "markdown",
   "id": "890f9df4-1853-4da8-b2bf-0dbd29994ad1",
   "metadata": {},
   "source": [
    "#### Insights\n",
    "- Age Group 18–25 relies more on UPI payments, especially PhonePe and GPay indicating a preference for digital payment methods. Credit Card usage is lowest here, likely due to limited credit access or lower income eligibility.\n",
    "- Age Group 26–48 shows the highest transaction volume across all payment methods, reflecting this segment's dominance in digital and card-based transactions. Credit Card usage is most prominent in this group, indicating higher financial maturity and purchasing power.\n",
    "- Age Group 49–65 shows moderate preference toward Credit Card and PhonePe, but overall transaction volume is lower than younger groups.\n",
    "- Overall, digital payment methods like Phonepe and Gpay are popular among younger age groups, while Credit Card usage is high across all age groups, particularly in the 26-48 range.Age group 18-25 has less exposure to credit cards compared to other groups."
   ]
  },
  {
   "cell_type": "code",
   "execution_count": 85,
   "id": "0c2d6b11-87ba-473a-9ae6-96b9792af13d",
   "metadata": {},
   "outputs": [
    {
     "data": {
      "image/png": "[encoded data removed]",
      "text/plain": [
       "<Figure size 1300x500 with 2 Axes>"
      ]
     },
     "metadata": {},
     "output_type": "display_data"
    }
   ],
   "source": [
    "fig, (ax1, ax2) = plt.subplots(1, 2,figsize=(13,5))\n",
    "ax1 = sns.countplot(data=df_merge, x='age_group', hue='product_category', ax = ax1)\n",
    "ax1.set_title('Payment Type by product category')\n",
    "\n",
    "ax2 = sns.countplot(data=df_merge, x='age_group', hue='platform', ax = ax2)\n",
    "ax2.set_title('Payment Type by platform')\n",
    "plt.show()"
   ]
  },
  {
   "cell_type": "markdown",
   "id": "1aae56ec-5326-4d3e-8074-b89fa7f63493",
   "metadata": {},
   "source": [
    "#### Insights\n",
    "### Product Category Preferences by Age Group\n",
    "\n",
    "- Age Group 18–25 shows strong interest in Fashion & Apparel, Electronics, Beauty & Personal Care. These trends reflect youth-driven shopping behaviors focused on tech, lifestyle, and personal grooming.\n",
    "- Age Group 26–48 dominates across most product categories, especially in Electronics, Fashion & Apparel, Kitchen Appliances, Home Decor. This group represents the most active and diverse segment of shoppers.\n",
    "- Age Group 49–65 contributes less in volume but still engages in Electronics, Fashion & Apparel, Home Decor\n",
    "### Platform Usage by Age Group\n",
    "\n",
    "- Amazon is the leading platform across all age groups — especially dominant among 26–48 users.\n",
    "- Flipkart and Alibaba are strong alternatives, particularly for the 26–48 and 18–25 groups.\n",
    "- Meesho sees noticeable activity in 18–25 and 26–48, likely due to its budget-friendly, trend-driven product range.\n",
    "- Shopify and Cred are more active in the 26–48 segment, indicating a skew toward entrepreneurial or premium consumer behavior.\n",
    "- Ebay has minimal usage."
   ]
  },
  {
   "cell_type": "code",
   "execution_count": 86,
   "id": "2626186b-2d5d-43d3-8639-a8cf06a5175e",
   "metadata": {},
   "outputs": [
    {
     "data": {
      "image/png": "[encoded data removed]",
      "text/plain": [
       "<Figure size 1200x1200 with 5 Axes>"
      ]
     },
     "metadata": {},
     "output_type": "display_data"
    }
   ],
   "source": [
    "# List of categorical columns\n",
    "cat_cols = ['payment_type', 'platform', 'product_category', 'marital_status', 'age_group']\n",
    "\n",
    "num_rows = 3\n",
    "# Create subplots\n",
    "fig, axes = plt.subplots(num_rows, 2, figsize=(12, 4 * num_rows))\n",
    "\n",
    "# Flatten the axes array to make it easier to iterate\n",
    "axes = axes.flatten()\n",
    "\n",
    "# Create subplots for each categorical column\n",
    "for i, cat_col in enumerate(cat_cols):\n",
    "    # Calculate the average transaction amount for each category\n",
    "    avg_tran_amount_by_category = df_merge.groupby(cat_col, observed=True)['tran_amount'].mean().reset_index()\n",
    "    \n",
    "    # Sort the data by 'tran_amount' before plotting\n",
    "    sorted_data = avg_tran_amount_by_category.sort_values(by='tran_amount', ascending=False)\n",
    "    \n",
    "    sns.barplot(\n",
    "        x=cat_col,\n",
    "        y='tran_amount',\n",
    "        hue=cat_col,                    # Fix for palette warning\n",
    "        data=sorted_data,\n",
    "        errorbar=None,                  # Fix for deprecated ci=None\n",
    "        ax=axes[i],\n",
    "        palette='deep',\n",
    "        legend=False                    # Optional: removes duplicated legend entries\n",
    "    )\n",
    "    \n",
    "    axes[i].set_title(f'Average transaction amount by {cat_col}')\n",
    "    axes[i].set_xlabel(cat_col)\n",
    "    axes[i].set_ylabel('Average transaction amount')\n",
    "\n",
    "    # Safer way to rotate x-axis labels\n",
    "    axes[i].tick_params(axis='x', rotation=45)\n",
    "\n",
    "# Hide any unused subplots\n",
    "for i in range(len(cat_cols), len(axes)):\n",
    "    fig.delaxes(axes[i])\n",
    "\n",
    "plt.tight_layout()\n",
    "plt.show()"
   ]
  },
  {
   "cell_type": "code",
   "execution_count": 87,
   "id": "fb58abeb-0a6c-4326-89a7-b916a391263f",
   "metadata": {},
   "outputs": [
    {
     "data": {
      "text/html": [
       "<div>\n",
       "<style scoped>\n",
       "    .dataframe tbody tr th:only-of-type {\n",
       "        vertical-align: middle;\n",
       "    }\n",
       "\n",
       "    .dataframe tbody tr th {\n",
       "        vertical-align: top;\n",
       "    }\n",
       "\n",
       "    .dataframe thead th {\n",
       "        text-align: right;\n",
       "    }\n",
       "</style>\n",
       "<table border=\"1\" class=\"dataframe\">\n",
       "  <thead>\n",
       "    <tr style=\"text-align: right;\">\n",
       "      <th></th>\n",
       "      <th>age_group</th>\n",
       "      <th>annual_income</th>\n",
       "      <th>credit_limit</th>\n",
       "      <th>credit_score</th>\n",
       "    </tr>\n",
       "  </thead>\n",
       "  <tbody>\n",
       "    <tr>\n",
       "      <th>0</th>\n",
       "      <td>18-25</td>\n",
       "      <td>36223.091667</td>\n",
       "      <td>886.458333</td>\n",
       "      <td>482.216667</td>\n",
       "    </tr>\n",
       "    <tr>\n",
       "      <th>1</th>\n",
       "      <td>26-48</td>\n",
       "      <td>145810.577990</td>\n",
       "      <td>20597.053726</td>\n",
       "      <td>598.176776</td>\n",
       "    </tr>\n",
       "    <tr>\n",
       "      <th>2</th>\n",
       "      <td>49-65</td>\n",
       "      <td>258530.874317</td>\n",
       "      <td>41729.508197</td>\n",
       "      <td>701.103825</td>\n",
       "    </tr>\n",
       "  </tbody>\n",
       "</table>\n",
       "</div>"
      ],
      "text/plain": [
       "  age_group  annual_income  credit_limit  credit_score\n",
       "0     18-25   36223.091667    886.458333    482.216667\n",
       "1     26-48  145810.577990  20597.053726    598.176776\n",
       "2     49-65  258530.874317  41729.508197    701.103825"
      ]
     },
     "execution_count": 87,
     "metadata": {},
     "output_type": "execute_result"
    }
   ],
   "source": [
    "# Group the data by age group and calculate the average credit_limit and credit_score\n",
    "\n",
    "age_group_metrics = df_merged.groupby('age_group', observed = True)[['annual_income', 'credit_limit', 'credit_score']].mean().reset_index()\n",
    "age_group_metrics"
   ]
  },
  {
   "cell_type": "code",
   "execution_count": 88,
   "id": "a8ce8ce2-18e9-4733-9f9c-c5d988c78b57",
   "metadata": {},
   "outputs": [
    {
     "data": {
      "text/plain": [
       "Index(['cust_id', 'credit_score', 'credit_utilisation', 'outstanding_debt',\n",
       "       'credit_inquiries_last_6_months', 'credit_limit', 'credit_score_range',\n",
       "       'credit_limit_mode', 'name', 'gender', 'age', 'location', 'occupation',\n",
       "       'annual_income', 'marital_status', 'age_group'],\n",
       "      dtype='object')"
      ]
     },
     "execution_count": 88,
     "metadata": {},
     "output_type": "execute_result"
    }
   ],
   "source": [
    "df_merged.columns"
   ]
  },
  {
   "cell_type": "code",
   "execution_count": 89,
   "id": "24a93831-e917-4678-bbde-ef1dd70b15be",
   "metadata": {},
   "outputs": [
    {
     "data": {
      "image/png": "[encoded data removed]",
      "text/plain": [
       "<Figure size 1400x400 with 3 Axes>"
      ]
     },
     "metadata": {},
     "output_type": "display_data"
    }
   ],
   "source": [
    "# Create subplots (3 horizontal charts)\n",
    "fig, (ax1, ax2, ax3) = plt.subplots(1, 3, figsize=(14, 4))\n",
    "\n",
    "# Plot 1: Average annual income\n",
    "sns.barplot(x='age_group', y='annual_income', data=age_group_metrics, hue='age_group', palette='tab20', ax=ax1, legend=False)\n",
    "ax1.set_title('Average Annual Income by Age Group')\n",
    "ax1.set_xlabel('Age Group')\n",
    "ax1.set_ylabel('Avg. Annual Income ($)')\n",
    "ax1.tick_params(axis='x', rotation=0)\n",
    "\n",
    "# Plot 2: Average credit limit\n",
    "sns.barplot(x='age_group', y='credit_limit', data=age_group_metrics, hue='age_group', palette='tab20', ax=ax2, legend=False)\n",
    "ax2.set_title('Average Credit Limit by Age Group')\n",
    "ax2.set_xlabel('Age Group')\n",
    "ax2.set_ylabel('Avg. Credit Limit ($)')\n",
    "ax2.tick_params(axis='x', rotation=0)\n",
    "\n",
    "# Plot 3: Average credit score\n",
    "sns.barplot(x='age_group', y='credit_score', data=age_group_metrics, hue='age_group', palette='tab20', ax=ax3, legend=False)\n",
    "ax3.set_title('Average Credit Score by Age Group')\n",
    "ax3.set_xlabel('Age Group')\n",
    "ax3.set_ylabel('Avg. Credit Score')\n",
    "ax3.tick_params(axis='x', rotation=0)\n",
    "\n",
    "plt.tight_layout()\n",
    "plt.show()"
   ]
  },
  {
   "cell_type": "markdown",
   "id": "d3cad2a5-5876-4162-ab51-8e2bf5f0d1e0",
   "metadata": {},
   "source": [
    "<h4 style=\"color:blue\">Finalize Target Market For a Trail Credit Card Launch</h4>"
   ]
  },
  {
   "cell_type": "markdown",
   "id": "3da95eab-b64e-4a87-8ab4-71c90b2aa908",
   "metadata": {},
   "source": [
    "#### Insights for the Age Group 18–25\n",
    "Customer Base Share:\n",
    "- Individuals aged 18–25 account for ~24.6% of the total customer base.\n",
    "\n",
    "Income & Financial Background:\n",
    "- The average annual income is below $50,000, indicating limited earning capacity.\n",
    "- This age group shows limited credit history, as reflected in their low credit scores and modest credit limits.\n",
    "\n",
    "Spending & Card Behavior:\n",
    "- Credit card usage is relatively low compared to older age groups. Likely due to a combination of income level and lack of prior credit experience.\n",
    "\n",
    "Top Spending Categories:\n",
    "The most popular product categories among this group are:\n",
    "\n",
    "1. Electronics\n",
    "2. Fashion & Apparel\n",
    "3. Beauty & Personal Care\n",
    "\n",
    "These categories suggest a high interest in lifestyle and aspirational spending, despite limited financial leverage."
   ]
  },
  {
   "cell_type": "markdown",
   "id": "0de16fcf-c8a1-453b-974d-e65e9609de8c",
   "metadata": {},
   "source": [
    "<h2 align=\"center\" style=\"color:purple\">Phase 2: AtliQ0 Bank Credit Card Project</h2>"
   ]
  },
  {
   "cell_type": "markdown",
   "id": "58d7dceb-2b8f-44fc-98a0-d3cf81eae0fc",
   "metadata": {},
   "source": [
    "<h4 style=\"color:blue\">In the Phase 2 of project, Business Analysis and launch of AB testing</h4>"
   ]
  },
  {
   "cell_type": "markdown",
   "id": "b5d5c1b8-105b-4c80-82b9-d746413e723e",
   "metadata": {},
   "source": [
    "#### Pre-Campaign\n",
    "To conduct a trial run for the new credit card, it is necessary to determine the number of customers required for A/B testing. This involves forming both a control and a test group. The number of customers in each group will be based on the agreed-upon statistical power and effect size, following discussions with the business team."
   ]
  },
  {
   "cell_type": "code",
   "execution_count": 92,
   "id": "22ec2f95-fdf0-4ff5-9251-514069c752d7",
   "metadata": {},
   "outputs": [
    {
     "data": {
      "text/plain": [
       "393.40569300025135"
      ]
     },
     "execution_count": 92,
     "metadata": {},
     "output_type": "execute_result"
    }
   ],
   "source": [
    "# Define parameters for power analysis\n",
    "\n",
    "alpha = 0.05\n",
    "power = 0.8\n",
    "effect_size=0.2\n",
    "\n",
    "sms.tt_ind_solve_power(\n",
    "    effect_size=0.2, \n",
    "    alpha=alpha, \n",
    "    power=power, \n",
    "    ratio=1, \n",
    "    alternative='two-sided'\n",
    ")"
   ]
  },
  {
   "cell_type": "markdown",
   "id": "b9323106-f0fb-4aa1-9b59-0eb49274300f",
   "metadata": {},
   "source": [
    "For an effect size of 0.2, a sample of 393 customers is required. However, considering potential budget constraints, it would be prudent to evaluate sample size requirements across multiple effect sizes. This will allow us to have an informed discussion with the business team and determine the most cost-effective and statistically appropriate sample size for the campaign."
   ]
  },
  {
   "cell_type": "code",
   "execution_count": 93,
   "id": "6c2c7b2d-4202-436e-960d-69f0ca462720",
   "metadata": {},
   "outputs": [
    {
     "name": "stdout",
     "output_type": "stream",
     "text": [
      "Effect Size: 0.1, Required Sample Size: 1570 customers\n",
      "Effect Size: 0.2, Required Sample Size: 393 customers\n",
      "Effect Size: 0.3, Required Sample Size: 175 customers\n",
      "Effect Size: 0.4, Required Sample Size: 99 customers\n",
      "Effect Size: 0.5, Required Sample Size: 63 customers\n",
      "Effect Size: 1, Required Sample Size: 16 customers\n"
     ]
    }
   ],
   "source": [
    "# Calculate the required sample size for different effect sizes\n",
    "effect_sizes = [0.1, 0.2, 0.3, 0.4, 0.5,1]  #  standard deviations greater than control group \n",
    "\n",
    "for effect_size in effect_sizes:\n",
    "    sample_size = sms.tt_ind_solve_power(effect_size=effect_size, alpha=alpha, power=power, ratio=1, alternative='two-sided')\n",
    "    print(f\"Effect Size: {effect_size}, Required Sample Size: {int(sample_size)} customers\")"
   ]
  },
  {
   "cell_type": "markdown",
   "id": "0fe8d4a6-577e-4e1a-94f4-d3597f65d7f9",
   "metadata": {},
   "source": [
    "Based on the business requirements, the test should be designed to detect a minimum effect size of 0.4 standard deviations between the control and test groups. For this effect size, a sample size of 100 customers is required. After discussions with the business team, it was confirmed that 100 customers aligns with their budget constraints for this trial run."
   ]
  },
  {
   "cell_type": "markdown",
   "id": "8b82fc24-0f8e-484e-bea1-4d4ebcb9dc47",
   "metadata": {},
   "source": [
    "#### Insights\n",
    "- Customer Selection: From a pool of approximately 246 customers aged 18 to 25, a subset of 100 customers was selected for the initial campaign launch.\n",
    "\n",
    "- Campaign Design: The campaign was executed with 100 customers in the test group, based on effect size calculations and budget considerations. The campaign was scheduled to run for a duration of 2 months.\n",
    "\n",
    "- Test Group Response: The campaign achieved a conversion rate of ~40%, meaning that 40 out of 100 customers in the test group started using the newly launched credit card.\n",
    "\n",
    "- Control Group Formation: To maintain statistical balance, a control group of 40 customers was established. These individuals were completely separate from the 100 customers in the test group.\n",
    "\n",
    "- AB Test Setup: As a result, both test and control groups consist of 40 customers each.\n",
    "\n",
    "- Post-Campaign Evaluation: At the end of the 2-month period, daily transaction data was collected to compare the average transaction amounts between the control group (using existing credit cards) and the test group (using the newly launched credit card).\n",
    "\n",
    "- KPI Focus: The primary KPI for this A/B test is to assess whether the new credit card improves the average transaction value among customers."
   ]
  },
  {
   "cell_type": "markdown",
   "id": "d0091c5a-1853-4c30-97db-4420b57a1a89",
   "metadata": {},
   "source": [
    "### Post-Campaign"
   ]
  },
  {
   "cell_type": "code",
   "execution_count": 94,
   "id": "f503ad9f-bdb3-453f-bcab-5df107c91ccb",
   "metadata": {},
   "outputs": [
    {
     "data": {
      "text/html": [
       "<div>\n",
       "<style scoped>\n",
       "    .dataframe tbody tr th:only-of-type {\n",
       "        vertical-align: middle;\n",
       "    }\n",
       "\n",
       "    .dataframe tbody tr th {\n",
       "        vertical-align: top;\n",
       "    }\n",
       "\n",
       "    .dataframe thead th {\n",
       "        text-align: right;\n",
       "    }\n",
       "</style>\n",
       "<table border=\"1\" class=\"dataframe\">\n",
       "  <thead>\n",
       "    <tr style=\"text-align: right;\">\n",
       "      <th></th>\n",
       "      <th>campaign_date</th>\n",
       "      <th>control_group_avg_tran</th>\n",
       "      <th>test_group_avg_tran</th>\n",
       "    </tr>\n",
       "  </thead>\n",
       "  <tbody>\n",
       "    <tr>\n",
       "      <th>0</th>\n",
       "      <td>2023-09-10</td>\n",
       "      <td>259.83</td>\n",
       "      <td>277.32</td>\n",
       "    </tr>\n",
       "    <tr>\n",
       "      <th>1</th>\n",
       "      <td>2023-09-11</td>\n",
       "      <td>191.27</td>\n",
       "      <td>248.68</td>\n",
       "    </tr>\n",
       "    <tr>\n",
       "      <th>2</th>\n",
       "      <td>2023-09-12</td>\n",
       "      <td>212.41</td>\n",
       "      <td>286.61</td>\n",
       "    </tr>\n",
       "    <tr>\n",
       "      <th>3</th>\n",
       "      <td>2023-09-13</td>\n",
       "      <td>214.92</td>\n",
       "      <td>214.85</td>\n",
       "    </tr>\n",
       "  </tbody>\n",
       "</table>\n",
       "</div>"
      ],
      "text/plain": [
       "  campaign_date  control_group_avg_tran  test_group_avg_tran\n",
       "0    2023-09-10                  259.83               277.32\n",
       "1    2023-09-11                  191.27               248.68\n",
       "2    2023-09-12                  212.41               286.61\n",
       "3    2023-09-13                  214.92               214.85"
      ]
     },
     "execution_count": 94,
     "metadata": {},
     "output_type": "execute_result"
    }
   ],
   "source": [
    "# Loading campaign results data\n",
    "df = pd.read_csv('avg_transactions_after_campaign.csv')\n",
    "df.head(4)"
   ]
  },
  {
   "cell_type": "code",
   "execution_count": 95,
   "id": "10e6b890-6c0d-4417-b62c-513830609669",
   "metadata": {},
   "outputs": [
    {
     "data": {
      "text/plain": [
       "(62, 3)"
      ]
     },
     "execution_count": 95,
     "metadata": {},
     "output_type": "execute_result"
    }
   ],
   "source": [
    "df.shape"
   ]
  },
  {
   "cell_type": "code",
   "execution_count": 96,
   "id": "df651cf2-6c94-41ec-8e56-d4a18b1c3d50",
   "metadata": {},
   "outputs": [
    {
     "data": {
      "image/png": "[encoded data removed]",
      "text/plain": [
       "<Figure size 1600x400 with 2 Axes>"
      ]
     },
     "metadata": {},
     "output_type": "display_data"
    }
   ],
   "source": [
    "# Let's look at distributions of avg transactions amounts in both groups\n",
    "# Create a 1x2 grid of subplots\n",
    "fig, (ax1, ax2) = plt.subplots(1, 2, figsize=(16, 4))\n",
    "\n",
    "# Plot the distribution of Campaign A Sales\n",
    "sns.histplot(df['control_group_avg_tran'], kde=True, color='skyblue', label='Control group avg transaction amounts', ax=ax1)\n",
    "ax1.set_xlabel('Sales')\n",
    "ax1.set_ylabel('Frequency')\n",
    "ax1.set_title('Distribution of Control group avg transaction amounts')\n",
    "ax1.legend(loc='upper right')\n",
    "\n",
    "# Plot the distribution of Campaign B Sales\n",
    "sns.histplot(df['test_group_avg_tran'], kde=True, color='lightgreen', label='Test group avg transaction amounts', ax=ax2)\n",
    "ax2.set_xlabel('Sales')\n",
    "ax2.set_ylabel('Frequency')\n",
    "ax2.set_title('Distribution of test group avg transaction amounts')\n",
    "ax2.legend(loc='upper right')\n",
    "\n",
    "# Show the plots\n",
    "plt.show()"
   ]
  },
  {
   "cell_type": "markdown",
   "id": "5de83fde-1cf6-4cf7-876e-ac841ee51ff2",
   "metadata": {},
   "source": [
    "#### Hypotheses:\n",
    "- Null Hypothesis (H0): The new credit card does not significantly increase the usage or transaction amounts compared to the existing credit card.\n",
    "\n",
    "- Alternative Hypothesis (H1): The new credit card significantly increases the usage or transaction amounts compared to the existing credit card."
   ]
  },
  {
   "cell_type": "markdown",
   "id": "c9d3e643-14e3-4bde-ba26-97ac4db77492",
   "metadata": {},
   "source": [
    "#### Perform Hypothesis Testing Using Two Sample Z-test"
   ]
  },
  {
   "cell_type": "code",
   "execution_count": 98,
   "id": "09bd0ed5-be89-4d44-9e1c-42de5f80e077",
   "metadata": {},
   "outputs": [
    {
     "data": {
      "text/plain": [
       "(221.1751612903226, 21.35919211202701)"
      ]
     },
     "execution_count": 98,
     "metadata": {},
     "output_type": "execute_result"
    }
   ],
   "source": [
    "# Calculate the mean and standard deviation of the control group's average transactions\n",
    "control_mean = float(df[\"control_group_avg_tran\"].mean())\n",
    "control_std = float(df[\"control_group_avg_tran\"].std())\n",
    "control_mean, control_std"
   ]
  },
  {
   "cell_type": "code",
   "execution_count": 99,
   "id": "ff2b89d8-9ab7-4fcb-909c-4c02405be3fc",
   "metadata": {},
   "outputs": [
    {
     "data": {
      "text/plain": [
       "(235.9835483870968, 36.658082109186374)"
      ]
     },
     "execution_count": 99,
     "metadata": {},
     "output_type": "execute_result"
    }
   ],
   "source": [
    "# Calculate the mean and standard deviation of the test group's average transactions\n",
    "test_mean = float(df[\"test_group_avg_tran\"].mean())\n",
    "test_std = float(df[\"test_group_avg_tran\"].std())\n",
    "test_mean, test_std"
   ]
  },
  {
   "cell_type": "code",
   "execution_count": 100,
   "id": "30a30e43-8346-415c-b4fc-51b2909d0ec5",
   "metadata": {},
   "outputs": [
    {
     "data": {
      "text/plain": [
       "62"
      ]
     },
     "execution_count": 100,
     "metadata": {},
     "output_type": "execute_result"
    }
   ],
   "source": [
    "# Calculate the sample size by getting the number of rows in the dataset\n",
    "sample_size = df.shape[0]\n",
    "sample_size"
   ]
  },
  {
   "cell_type": "markdown",
   "id": "490782a1-0aed-4e34-b2a6-b52ccfd740d8",
   "metadata": {},
   "source": [
    "#### Test Using Rejection Region (Critical Z Value)"
   ]
  },
  {
   "cell_type": "code",
   "execution_count": 102,
   "id": "06c44740-102a-4b32-a123-8407711d3a37",
   "metadata": {},
   "outputs": [
    {
     "data": {
      "text/plain": [
       "2.748297374569113"
      ]
     },
     "execution_count": 102,
     "metadata": {},
     "output_type": "execute_result"
    }
   ],
   "source": [
    "# Calculate the variance divided by the sample size for both control and test groups\n",
    "a = (control_std**2/sample_size)\n",
    "b = (test_std**2/sample_size)\n",
    "\n",
    "# Calculate the Z-score for the difference in means between the test and control groups\n",
    "Z_score = (test_mean-control_mean)/np.sqrt(a+b)\n",
    "float(Z_score)"
   ]
  },
  {
   "cell_type": "code",
   "execution_count": 103,
   "id": "2ca41e88-ef44-402d-a84d-2933658aea74",
   "metadata": {},
   "outputs": [
    {
     "data": {
      "text/plain": [
       "1.6448536269514722"
      ]
     },
     "execution_count": 103,
     "metadata": {},
     "output_type": "execute_result"
    }
   ],
   "source": [
    "# For a significance level of 5% (0.05) in a right-tailed test, the critical Z-value is approximately 1.645\n",
    "critical_z_value = st.norm.ppf(1 - alpha)  # Right-tailed test at 5% significance level\n",
    "float(critical_z_value)"
   ]
  },
  {
   "cell_type": "code",
   "execution_count": 104,
   "id": "7d6bd19f-625f-4026-b541-8e0ea1dccb15",
   "metadata": {},
   "outputs": [
    {
     "data": {
      "text/plain": [
       "np.True_"
      ]
     },
     "execution_count": 104,
     "metadata": {},
     "output_type": "execute_result"
    }
   ],
   "source": [
    "# Compare the calculated Z-score with the critical Z-value to determine statistical significance\n",
    "Z_score > critical_z_value"
   ]
  },
  {
   "cell_type": "markdown",
   "id": "6d0988df-d661-4954-9327-ee10205d08cf",
   "metadata": {},
   "source": [
    "#### Insights\n",
    "- Since Z score is higher than critical Z value, we can reject the null hypothesis."
   ]
  },
  {
   "cell_type": "markdown",
   "id": "edbfc1da-c3eb-48a0-b178-ddad4dc99ecf",
   "metadata": {},
   "source": [
    "#### Test Using p-Value"
   ]
  },
  {
   "cell_type": "code",
   "execution_count": 106,
   "id": "683bdb10-7136-437c-bde5-f5989615c9fb",
   "metadata": {},
   "outputs": [
    {
     "data": {
      "text/plain": [
       "0.0029952824622024865"
      ]
     },
     "execution_count": 106,
     "metadata": {},
     "output_type": "execute_result"
    }
   ],
   "source": [
    "# Calculate the p-value corresponding to z score for a right-tailed test\n",
    "p_value = 1 - st.norm.cdf(Z_score)\n",
    "float(p_value)"
   ]
  },
  {
   "cell_type": "code",
   "execution_count": 107,
   "id": "ad252319-1977-43e5-b05b-7462c3b19af5",
   "metadata": {},
   "outputs": [
    {
     "data": {
      "text/plain": [
       "np.True_"
      ]
     },
     "execution_count": 107,
     "metadata": {},
     "output_type": "execute_result"
    }
   ],
   "source": [
    "p_value < alpha # p value is less than significance level of 5% (or 0.05 for absolute value)"
   ]
  },
  {
   "cell_type": "markdown",
   "id": "bb09f6de-2f81-49a7-acec-cba4bc638219",
   "metadata": {},
   "source": [
    "Since p value is less than significance level (i.e. alpha), we can reject the null hypothesis."
   ]
  },
  {
   "cell_type": "markdown",
   "id": "14692319-a0a1-4265-a606-9a62da9c87ad",
   "metadata": {},
   "source": [
    "#### Using Ready Made API call"
   ]
  },
  {
   "cell_type": "code",
   "execution_count": 108,
   "id": "6d27734f-506f-4051-ae85-2aae28ecb482",
   "metadata": {},
   "outputs": [
    {
     "data": {
      "text/plain": [
       "(np.float64(2.7482973745691135), np.float64(0.002995282462202502))"
      ]
     },
     "execution_count": 108,
     "metadata": {},
     "output_type": "execute_result"
    }
   ],
   "source": [
    "# Performing Z-test with above considerations\n",
    "z_statistic, p_value = sm.stats.ztest( df['test_group_avg_tran'],df['control_group_avg_tran'],alternative = 'larger')\n",
    "z_statistic, p_value"
   ]
  },
  {
   "cell_type": "markdown",
   "id": "f3f2e891-9dc3-4bdf-8a59-c9aa16bda7d0",
   "metadata": {},
   "source": [
    "#### Conclusion\n",
    "- Statistical Significance, Since the p-value (0.003) is well below the common significance level of 0.05, we reject the null hypothesis. This indicates a statistically significant difference between the test group and the control group.\n",
    "- The new credit card offering in the test group had a positive impact, leading to higher average transaction amounts. This suggests that the campaign or card features may be effectively influencing spending behavior.\n",
    "- Based on this result, the campaign appears to be successful."
   ]
  }
 ],
 "metadata": {
  "kernelspec": {
   "display_name": "Python 3 (ipykernel)",
   "language": "python",
   "name": "python3"
  },
  "language_info": {
   "codemirror_mode": {
    "name": "ipython",
    "version": 3
   },
   "file_extension": ".py",
   "mimetype": "text/x-python",
   "name": "python",
   "nbconvert_exporter": "python",
   "pygments_lexer": "ipython3",
   "version": "3.13.2"
  }
 },
 "nbformat": 4,
 "nbformat_minor": 5
}
